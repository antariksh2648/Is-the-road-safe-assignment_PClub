{
  "nbformat": 4,
  "nbformat_minor": 0,
  "metadata": {
    "colab": {
      "name": "Task_2.ipynb",
      "provenance": [],
      "authorship_tag": "ABX9TyOxDAOBkUtfBZjwq0/r+wF5",
      "include_colab_link": true
    },
    "kernelspec": {
      "name": "python3",
      "display_name": "Python 3"
    },
    "language_info": {
      "name": "python"
    }
  },
  "cells": [
    {
      "cell_type": "markdown",
      "metadata": {
        "id": "view-in-github",
        "colab_type": "text"
      },
      "source": [
        "<a href=\"https://colab.research.google.com/github/antariksh2648/Is-the-road-safe-assignment_PClub/blob/main/Task_2.ipynb\" target=\"_parent\"><img src=\"https://colab.research.google.com/assets/colab-badge.svg\" alt=\"Open In Colab\"/></a>"
      ]
    },
    {
      "cell_type": "markdown",
      "source": [
        "## **Importing the Dataset from kaggle**"
      ],
      "metadata": {
        "id": "voCQ1JSVCjIu"
      }
    },
    {
      "cell_type": "code",
      "execution_count": 1,
      "metadata": {
        "id": "VAQLv03RYRdy"
      },
      "outputs": [],
      "source": [
        "!pip install -q kaggle"
      ]
    },
    {
      "cell_type": "code",
      "source": [
        "from google.colab import files\n",
        "files.upload()"
      ],
      "metadata": {
        "colab": {
          "resources": {
            "http://localhost:8080/nbextensions/google.colab/files.js": {
              "data": "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",
              "ok": true,
              "headers": [
                [
                  "content-type",
                  "application/javascript"
                ]
              ],
              "status": 200,
              "status_text": ""
            }
          },
          "base_uri": "https://localhost:8080/",
          "height": 92
        },
        "id": "AfQgxMyNZZ4i",
        "outputId": "ff021f0c-7d06-4fe8-dc25-b497699e8845"
      },
      "execution_count": 2,
      "outputs": [
        {
          "output_type": "display_data",
          "data": {
            "text/plain": [
              "<IPython.core.display.HTML object>"
            ],
            "text/html": [
              "\n",
              "     <input type=\"file\" id=\"files-aea17da3-9397-4e61-9311-46f79436b0b0\" name=\"files[]\" multiple disabled\n",
              "        style=\"border:none\" />\n",
              "     <output id=\"result-aea17da3-9397-4e61-9311-46f79436b0b0\">\n",
              "      Upload widget is only available when the cell has been executed in the\n",
              "      current browser session. Please rerun this cell to enable.\n",
              "      </output>\n",
              "      <script src=\"/nbextensions/google.colab/files.js\"></script> "
            ]
          },
          "metadata": {}
        },
        {
          "output_type": "stream",
          "name": "stdout",
          "text": [
            "Saving kaggle.json to kaggle (1).json\n"
          ]
        },
        {
          "output_type": "execute_result",
          "data": {
            "text/plain": [
              "{'kaggle.json': b'{\"username\":\"antarikshchoudhary\",\"key\":\"d00bb3e89e3f3f2d10083fbf8a2dca6a\"}'}"
            ]
          },
          "metadata": {},
          "execution_count": 2
        }
      ]
    },
    {
      "cell_type": "code",
      "source": [
        "! mkdir ~/.kaggle"
      ],
      "metadata": {
        "id": "pzJwy5ykZZ7Q",
        "colab": {
          "base_uri": "https://localhost:8080/"
        },
        "outputId": "6bc03b50-6d5a-439a-a66a-cfb1e6f45ce8"
      },
      "execution_count": 3,
      "outputs": [
        {
          "output_type": "stream",
          "name": "stdout",
          "text": [
            "mkdir: cannot create directory ‘/root/.kaggle’: File exists\n"
          ]
        }
      ]
    },
    {
      "cell_type": "code",
      "source": [
        "! cp kaggle.json ~/.kaggle/"
      ],
      "metadata": {
        "id": "OzD1-LyLZZ-y"
      },
      "execution_count": 4,
      "outputs": []
    },
    {
      "cell_type": "code",
      "source": [
        "! chmod 600 ~/.kaggle/kaggle.json"
      ],
      "metadata": {
        "id": "V9wWDBwSZaHQ"
      },
      "execution_count": 5,
      "outputs": []
    },
    {
      "cell_type": "code",
      "source": [
        "! kaggle datasets list"
      ],
      "metadata": {
        "colab": {
          "base_uri": "https://localhost:8080/"
        },
        "id": "36DtWm36ZaKn",
        "outputId": "1d2874e9-2aaa-4128-a700-068e1e9319e9"
      },
      "execution_count": 6,
      "outputs": [
        {
          "output_type": "stream",
          "name": "stdout",
          "text": [
            "ref                                                                   title                                                size  lastUpdated          downloadCount  voteCount  usabilityRating  \n",
            "--------------------------------------------------------------------  --------------------------------------------------  -----  -------------------  -------------  ---------  ---------------  \n",
            "victorsoeiro/netflix-tv-shows-and-movies                              Netflix TV Shows and Movies                           2MB  2022-05-15 00:01:23           5846        185  1.0              \n",
            "surajjha101/stores-area-and-sales-data                                Supermarket store branches sales analysis            10KB  2022-04-29 11:10:16           5273        156  1.0              \n",
            "devansodariya/student-performance-data                                Student Performance Dataset                           7KB  2022-05-26 13:55:09           2230        111  0.9705882        \n",
            "paradisejoy/top-hits-spotify-from-20002019                            Top Hits Spotify from 2000-2019                      94KB  2022-05-31 07:20:57           4925        124  1.0              \n",
            "odins0n/amex-parquet                                                  Amex Competition Data in Parquet Format               9GB  2022-05-25 23:20:19            609         84  1.0              \n",
            "muratkokludataset/date-fruit-datasets                                 Date Fruit Datasets                                 408KB  2022-04-03 09:25:39          12496       1551  0.9375           \n",
            "ruchi798/parquet-files-amexdefault-prediction                         Feather & Parquet Files : AMEX-Default Prediction    22GB  2022-05-26 05:46:53            472         69  1.0              \n",
            "iamsouravbanerjee/software-professional-salaries-2022                 Salary Dataset - 2022                               526KB  2022-06-08 08:19:34            453         20  1.0              \n",
            "muhammedtausif/best-selling-mobile-phones                             Best Selling Mobile Phones                            2KB  2022-05-22 17:31:44            786         28  1.0              \n",
            "mdmahmudulhasansuzan/students-adaptability-level-in-online-education  Students Adaptability Level in Online Education       6KB  2022-04-16 04:46:28           8869        220  1.0              \n",
            "shariful07/student-mental-health                                      Student Mental health                                 2KB  2022-05-11 17:18:55           2663         51  0.8235294        \n",
            "dansbecker/melbourne-housing-snapshot                                 Melbourne Housing Snapshot                          451KB  2018-06-05 12:52:24          88289       1079  0.7058824        \n",
            "prasertk/cities-with-the-best-worklife-balance-2022                   Cities with the Best Work-Life Balance 2022           5KB  2022-06-01 09:15:52            393         17  0.9411765        \n",
            "mysarahmadbhat/airline-passenger-satisfaction                         Airline Passenger Satisfaction                        2MB  2022-05-19 11:46:02           1637         37  1.0              \n",
            "timmofeyy/-subway-locations-in-us                                     🍔 Subway Restaurants Locations in US                778KB  2022-06-03 13:07:01            287         19  1.0              \n",
            "datasnaek/youtube-new                                                 Trending YouTube Video Statistics                   201MB  2019-06-03 00:56:47         176470       4554  0.7941176        \n",
            "ahmedshahriarsakib/usa-real-estate-dataset                            USA Real Estate Dataset                               5MB  2022-06-04 21:40:25            452         19  1.0              \n",
            "zynicide/wine-reviews                                                 Wine Reviews                                         51MB  2017-11-27 17:08:04         161162       3320  0.7941176        \n",
            "kkhandekar/cost-of-living-index-by-city-2022                          Cost of Living Index by City 2022                    15KB  2022-06-03 02:50:24            438         20  0.9411765        \n",
            "azminetoushikwasi/ucl-202122-uefa-champions-league                    UCL ⚽ 2021-22 ⭐ Players Data | Champions League      55KB  2022-06-04 08:31:45            679         33  1.0              \n"
          ]
        }
      ]
    },
    {
      "cell_type": "code",
      "source": [
        "! kaggle datasets download -d l3llff/flowers"
      ],
      "metadata": {
        "colab": {
          "base_uri": "https://localhost:8080/"
        },
        "id": "SGFwD6kiaLOW",
        "outputId": "82080669-5a0b-4cdd-bccb-4c49095cf4e1"
      },
      "execution_count": 7,
      "outputs": [
        {
          "output_type": "stream",
          "name": "stdout",
          "text": [
            "flowers.zip: Skipping, found more recently modified local copy (use --force to force download)\n"
          ]
        }
      ]
    },
    {
      "cell_type": "code",
      "source": [
        "! unzip flowers.zip"
      ],
      "metadata": {
        "colab": {
          "base_uri": "https://localhost:8080/"
        },
        "id": "HZYAgdkAaL-d",
        "outputId": "4774b064-703b-49f3-ec19-24d83f2a1cb0"
      },
      "execution_count": 8,
      "outputs": [
        {
          "output_type": "stream",
          "name": "stdout",
          "text": [
            "Archive:  flowers.zip\n",
            "replace flowers/astilbe/10091895024_a2ea04cda6_c.jpg? [y]es, [n]o, [A]ll, [N]one, [r]ename: Flowers\\\n",
            "error:  invalid response [Flowers\\]\n",
            "replace flowers/astilbe/10091895024_a2ea04cda6_c.jpg? [y]es, [n]o, [A]ll, [N]one, [r]ename: "
          ]
        }
      ]
    },
    {
      "cell_type": "markdown",
      "source": [
        "## **Importing all the required libraries**"
      ],
      "metadata": {
        "id": "FbD0_WQ7Cx7e"
      }
    },
    {
      "cell_type": "code",
      "source": [
        "import tensorflow as tf  \n",
        "import pandas as pd\n",
        "import numpy as np\n",
        "import matplotlib.pyplot as plt\n",
        "import keras\n",
        "import glob\n",
        "import os"
      ],
      "metadata": {
        "id": "l09Yz3Euaf29"
      },
      "execution_count": 9,
      "outputs": []
    },
    {
      "cell_type": "markdown",
      "source": [
        "## **Importing all the files using glob**"
      ],
      "metadata": {
        "id": "6xeLQ2b9C6yJ"
      }
    },
    {
      "cell_type": "code",
      "source": [
        "image_net = glob.glob(r\"/content/flowers/*/**\")"
      ],
      "metadata": {
        "id": "qPfAgb_3af73"
      },
      "execution_count": 10,
      "outputs": []
    },
    {
      "cell_type": "code",
      "source": [
        "len(image_net)"
      ],
      "metadata": {
        "colab": {
          "base_uri": "https://localhost:8080/"
        },
        "id": "UyjNnx9T_9tZ",
        "outputId": "86bfd6ec-c992-494d-d047-9c5192c79e25"
      },
      "execution_count": 11,
      "outputs": [
        {
          "output_type": "execute_result",
          "data": {
            "text/plain": [
              "15740"
            ]
          },
          "metadata": {},
          "execution_count": 11
        }
      ]
    },
    {
      "cell_type": "markdown",
      "source": [
        "## **Randomising the sample**"
      ],
      "metadata": {
        "id": "IFQHN9sCDEhH"
      }
    },
    {
      "cell_type": "code",
      "source": [
        "from random import shuffle\n",
        "shuffle(image_net)\n",
        "image_net"
      ],
      "metadata": {
        "id": "aDYrdQkt_9w6",
        "colab": {
          "base_uri": "https://localhost:8080/"
        },
        "outputId": "af79de40-46d4-4e77-fd85-9c69eb276e1c"
      },
      "execution_count": 12,
      "outputs": [
        {
          "output_type": "execute_result",
          "data": {
            "text/plain": [
              "['/content/flowers/carnation/3062845855_5f6673b3e8_c.jpg',\n",
              " '/content/flowers/rose/5673757636_4d4b3ca108_c.jpg',\n",
              " '/content/flowers/calendula/142917776_39177c83f9_c.jpg',\n",
              " '/content/flowers/dandelion/4834365577_1481fac836_c.jpg',\n",
              " '/content/flowers/black_eyed_susan/2772740598_64585f09a1_c.jpg',\n",
              " '/content/flowers/sunflower/26911925308_a650979f92_c.jpg',\n",
              " '/content/flowers/magnolia/2324281515_c0269d5963_c.jpg',\n",
              " '/content/flowers/iris/3396666977_8a40e0f02b_c.jpg',\n",
              " '/content/flowers/coreopsis/9168695111_8da057a37a_c.jpg',\n",
              " '/content/flowers/rose/16581536920_9978228bb9_c.jpg',\n",
              " '/content/flowers/bellflower/20625072844_c16da95d7d_c.jpg',\n",
              " '/content/flowers/sunflower/14007055885_46e28a3169_c.jpg',\n",
              " '/content/flowers/california_poppy/51159191708_904fb92644_c.jpg',\n",
              " '/content/flowers/water_lily/35568806941_20091fd6ae_c.jpg',\n",
              " '/content/flowers/rose/4939571801_32150a5a86_c.jpg',\n",
              " '/content/flowers/tulip/25719172754_4eb3b70597_c.jpg',\n",
              " '/content/flowers/black_eyed_susan/2798308606_9eb3228e34_c.jpg',\n",
              " '/content/flowers/coreopsis/6913346472_b8b149f3ea_c.jpg',\n",
              " '/content/flowers/dandelion/9505342427_e01d4f3b45_c.jpg',\n",
              " '/content/flowers/daffodil/13565698484_18e9796da7_c.jpg',\n",
              " '/content/flowers/magnolia/4350966510_572df85571_c.jpg',\n",
              " '/content/flowers/california_poppy/18338912070_d78faab834_c.jpg',\n",
              " '/content/flowers/sunflower/29996904345_1c57357567_c.jpg',\n",
              " '/content/flowers/tulip/2472976997_44b88d39c9_c.jpg',\n",
              " '/content/flowers/coreopsis/5375457851_9f84c18414_c.jpg',\n",
              " '/content/flowers/coreopsis/17808185343_3f1f0f70ef_c.jpg',\n",
              " '/content/flowers/daffodil/16787467111_0b9575a340_c.jpg',\n",
              " '/content/flowers/astilbe/14608094303_197c66bf37_c.jpg',\n",
              " '/content/flowers/black_eyed_susan/2854117931_b72215c282_c.jpg',\n",
              " '/content/flowers/rose/29281182344_52e48295ba_c.jpg',\n",
              " '/content/flowers/dandelion/29048920845_98eb17a29a_c.jpg',\n",
              " '/content/flowers/tulip/3449585962_6218465bfe_c.jpg',\n",
              " '/content/flowers/water_lily/51365832197_ac7d32234f_c.jpg',\n",
              " '/content/flowers/calendula/33592998228_af49e04a38_c.jpg',\n",
              " '/content/flowers/rose/8510993672_70293ff125_c.jpg',\n",
              " '/content/flowers/magnolia/33972990758_cc6c65538d_c.jpg',\n",
              " '/content/flowers/rose/3045761505_91352f7004_c.jpg',\n",
              " '/content/flowers/daffodil/13143701353_6a8bd90e05_c.jpg',\n",
              " '/content/flowers/magnolia/51922257023_be2f24f69b_c.jpg',\n",
              " '/content/flowers/iris/5694733301_b883a9fe27_c.jpg',\n",
              " '/content/flowers/magnolia/25709325104_8c54dba440_c.jpg',\n",
              " '/content/flowers/sunflower/3808738829_4c6488f88b_c.jpg',\n",
              " '/content/flowers/magnolia/4548979819_106c821640_c.jpg',\n",
              " '/content/flowers/california_poppy/49942347996_4887115d9d_c.jpg',\n",
              " '/content/flowers/black_eyed_susan/14659476594_acbb88afb1_c.jpg',\n",
              " '/content/flowers/water_lily/3040178086_c1a9d8cd6f_c.jpg',\n",
              " '/content/flowers/black_eyed_susan/28153587793_fbb4e3084c_c.jpg',\n",
              " '/content/flowers/california_poppy/140016642_63af017acb_c.jpg',\n",
              " '/content/flowers/sunflower/36686383384_71245da30b_c.jpg',\n",
              " '/content/flowers/daffodil/6854634658_bc6a2927f8_c.jpg',\n",
              " '/content/flowers/tulip/26830703125_b3f219f707_c.jpg',\n",
              " '/content/flowers/carnation/8586380631_513f97be81_c.jpg',\n",
              " '/content/flowers/calendula/6220230137_1df13383da_c.jpg',\n",
              " '/content/flowers/rose/17630684996_9bfdac3795_c.jpg',\n",
              " '/content/flowers/tulip/8174747266_b7a18910c1_c.jpg',\n",
              " '/content/flowers/iris/26891941715_2ea5ecb141_c.jpg',\n",
              " '/content/flowers/astilbe/43855187644_12ef258769_c.jpg',\n",
              " '/content/flowers/common_daisy/49683159926_f685690831_c.jpg',\n",
              " '/content/flowers/rose/38039351116_6e639a1903_c.jpg',\n",
              " '/content/flowers/tulip/2920135077_92bf1638e9_c.jpg',\n",
              " '/content/flowers/dandelion/17587091549_d9840dc0e3_c.jpg',\n",
              " '/content/flowers/bellflower/34776407816_dddde7c631_c.jpg',\n",
              " '/content/flowers/water_lily/51683495731_39cf1aa0fb_c.jpg',\n",
              " '/content/flowers/rose/32752955803_d426f6b478_c.jpg',\n",
              " '/content/flowers/rose/28136760813_0c2b90435d_c.jpg',\n",
              " '/content/flowers/rose/4553259844_0af680cde4_c.jpg',\n",
              " '/content/flowers/daffodil/2343193042_4cd79407d7_c.jpg',\n",
              " '/content/flowers/rose/250569976_8e40f031f2_c.jpg',\n",
              " '/content/flowers/carnation/4177446287_da94f12a86_c.jpg',\n",
              " '/content/flowers/water_lily/50489693752_2958f8a790_c.jpg',\n",
              " '/content/flowers/common_daisy/25768463544_26ce9ce6e9_c.jpg',\n",
              " '/content/flowers/bellflower/51099011857_1ef80f63b0_c.jpg',\n",
              " '/content/flowers/california_poppy/4478035862_4da4150c59_c.jpg',\n",
              " '/content/flowers/carnation/26183761252_ff6e9f41b4_c.jpg',\n",
              " '/content/flowers/bellflower/5858297728_7371d62dfa_c.jpg',\n",
              " '/content/flowers/daffodil/13808444935_3db8a6c31e_c.jpg',\n",
              " '/content/flowers/iris/4689391099_b5a491b332_c.jpg',\n",
              " '/content/flowers/sunflower/16729892296_3e1832de7a_c.jpg',\n",
              " '/content/flowers/daffodil/423640073_7fe228118a_c.jpg',\n",
              " '/content/flowers/dandelion/5603741494_f96dde0254_c.jpg',\n",
              " '/content/flowers/rose/4669659278_3dbce37d7f_c.jpg',\n",
              " '/content/flowers/rose/34309202136_c8a911acdc_c.jpg',\n",
              " '/content/flowers/coreopsis/5797609749_343e995ed8_c.jpg',\n",
              " '/content/flowers/rose/3214755819_e7f7175895_c.jpg',\n",
              " '/content/flowers/magnolia/567185115_a8383d453d_c.jpg',\n",
              " '/content/flowers/iris/27435424581_b4db19c9cb_c.jpg',\n",
              " '/content/flowers/magnolia/52000048386_be16b48655_c.jpg',\n",
              " '/content/flowers/astilbe/5998138495_8c9752c44b_c.jpg',\n",
              " '/content/flowers/magnolia/51967441128_fae993e257_c.jpg',\n",
              " '/content/flowers/california_poppy/2612706922_64d78d0ff0_c.jpg',\n",
              " '/content/flowers/magnolia/33568897772_6a05ccc79e_c.jpg',\n",
              " '/content/flowers/calendula/50854899581_2b553be70e_c.jpg',\n",
              " '/content/flowers/tulip/8698646950_5778f3f8a2_c.jpg',\n",
              " '/content/flowers/coreopsis/4715257179_1f8faf8ba5_c.jpg',\n",
              " '/content/flowers/dandelion/46662820224_02af8779f4_c.jpg',\n",
              " '/content/flowers/sunflower/8376899463_59b3228674_c.jpg',\n",
              " '/content/flowers/astilbe/4752168030_b7621b813e_c.jpg',\n",
              " '/content/flowers/coreopsis/120968851_5c13accc43_c.jpg',\n",
              " '/content/flowers/black_eyed_susan/3713514247_6bfb0b51b2_c.jpg',\n",
              " '/content/flowers/rose/19007450594_1bf7927700_c.jpg',\n",
              " '/content/flowers/black_eyed_susan/4828172519_fe971d00aa_c.jpg',\n",
              " '/content/flowers/astilbe/5851535650_d41b199d5d_c.jpg',\n",
              " '/content/flowers/california_poppy/49073514833_7993733475_c.jpg',\n",
              " '/content/flowers/tulip/25955265910_9dc681b6de_c.jpg',\n",
              " '/content/flowers/bellflower/2659873172_d09ae234a8_c.jpg',\n",
              " '/content/flowers/iris/42132692152_0aa31f2727_c.jpg',\n",
              " '/content/flowers/coreopsis/7523338098_aabc11619b_c.jpg',\n",
              " '/content/flowers/bellflower/35268772900_4f7f587fe7_c.jpg',\n",
              " '/content/flowers/sunflower/6158050316_070c33f289_c.jpg',\n",
              " '/content/flowers/common_daisy/4606983519_3f109c8771_c.jpg',\n",
              " '/content/flowers/calendula/5646295522_46ed6d9757_c.jpg',\n",
              " '/content/flowers/tulip/5784750424_89e7a378ce_c.jpg',\n",
              " '/content/flowers/magnolia/34418245546_df30e77c9d_c.jpg',\n",
              " '/content/flowers/water_lily/51424225855_f1d9e88059_c.jpg',\n",
              " '/content/flowers/black_eyed_susan/6898056545_d26654b9df_c.jpg',\n",
              " '/content/flowers/coreopsis/3584327668_312181aa72_c.jpg',\n",
              " '/content/flowers/rose/8423195780_57e3489c00_c.jpg',\n",
              " '/content/flowers/iris/4625750818_c23a1d2d64_c.jpg',\n",
              " '/content/flowers/coreopsis/5885396123_238f117a38_c.jpg',\n",
              " '/content/flowers/daffodil/8445874588_7444fc8386_c.jpg',\n",
              " '/content/flowers/daffodil/39587803764_83b22c9953_c.jpg',\n",
              " '/content/flowers/black_eyed_susan/6805462835_b797e919ea_c.jpg',\n",
              " '/content/flowers/iris/2322854489_537f79ed46_c.jpg',\n",
              " '/content/flowers/calendula/1926281639_45afe5b8fe_c.jpg',\n",
              " '/content/flowers/black_eyed_susan/2850275846_ffecd3ca24_c.jpg',\n",
              " '/content/flowers/dandelion/27791819872_b622460125_c.jpg',\n",
              " '/content/flowers/carnation/3989363140_1c526079cc_c.jpg',\n",
              " '/content/flowers/black_eyed_susan/19863408140_f51324ee89_c.jpg',\n",
              " '/content/flowers/magnolia/8268996892_4f97cb3f06_c.jpg',\n",
              " '/content/flowers/daffodil/6831833890_4582b8f526_c.jpg',\n",
              " '/content/flowers/black_eyed_susan/14532994269_58a0349874_c.jpg',\n",
              " '/content/flowers/bellflower/18883449878_8432fea9a6_c.jpg',\n",
              " '/content/flowers/tulip/17767794932_7ba87ce94d_c.jpg',\n",
              " '/content/flowers/tulip/19587722976_2ed35f9df8_c.jpg',\n",
              " '/content/flowers/bellflower/49842928652_162478129d_c.jpg',\n",
              " '/content/flowers/dandelion/28327388617_1a1305b1b8_c.jpg',\n",
              " '/content/flowers/bellflower/35670185581_b4162015e2_c.jpg',\n",
              " '/content/flowers/water_lily/3211456411_884db84be0_c.jpg',\n",
              " '/content/flowers/black_eyed_susan/4952417225_8d0efc5c30_c.jpg',\n",
              " '/content/flowers/calendula/3511355934_0ec1599b00_c.jpg',\n",
              " '/content/flowers/dandelion/5844164335_f5513a0585_c.jpg',\n",
              " '/content/flowers/dandelion/160980968_e3eb29b6f2_c.jpg',\n",
              " '/content/flowers/common_daisy/7065637931_e927e39ffc_c.jpg',\n",
              " '/content/flowers/astilbe/6369957371_fccba16257_c.jpg',\n",
              " '/content/flowers/astilbe/942576746_8a96656726_c.jpg',\n",
              " '/content/flowers/daffodil/2408691468_2c1ddb333e_c.jpg',\n",
              " '/content/flowers/carnation/30960341562_9122675902_c.jpg',\n",
              " '/content/flowers/daffodil/13835278844_4659524a63_c.jpg',\n",
              " '/content/flowers/calendula/5459626433_4c7c8019b5_c.jpg',\n",
              " '/content/flowers/iris/14149595602_a679aaba90_c.jpg',\n",
              " '/content/flowers/water_lily/50286759421_f040912ba7_c.jpg',\n",
              " '/content/flowers/rose/3262672802_7f20464271_c.jpg',\n",
              " '/content/flowers/carnation/48012113191_a6cd2be87b_c.jpg',\n",
              " '/content/flowers/calendula/7006902057_a529eef007_c.jpg',\n",
              " '/content/flowers/common_daisy/6182283006_b189c03727_c.jpg',\n",
              " '/content/flowers/bellflower/32970618472_48d3f5a9a7_c.jpg',\n",
              " '/content/flowers/magnolia/47883890711_9f8a1d5d17_c.jpg',\n",
              " '/content/flowers/tulip/2327966382_35f177eaa0_c.jpg',\n",
              " '/content/flowers/california_poppy/50448535543_4418866484_c.jpg',\n",
              " '/content/flowers/coreopsis/3612780258_904d97b469_c.jpg',\n",
              " '/content/flowers/dandelion/10387061936_f1f6a1dea0_c.jpg',\n",
              " '/content/flowers/tulip/14111984464_b9feec98de_c.jpg',\n",
              " '/content/flowers/common_daisy/31088858947_cccf7d84b1_c.jpg',\n",
              " '/content/flowers/tulip/4563337292_7a7276ca8b_c.jpg',\n",
              " '/content/flowers/daffodil/17000472120_8625f2a02c_c.jpg',\n",
              " '/content/flowers/iris/26740979540_17918a39f4_c.jpg',\n",
              " '/content/flowers/daffodil/40758951201_28b365017c_c.jpg',\n",
              " '/content/flowers/water_lily/51689222440_94f55c2de8_c.jpg',\n",
              " '/content/flowers/astilbe/3804859633_669fca7178_c.jpg',\n",
              " '/content/flowers/tulip/5735307324_83faf93a25_c.jpg',\n",
              " '/content/flowers/tulip/21531554708_8ff67424d7_c.jpg',\n",
              " '/content/flowers/dandelion/40887179500_81cdf7d8f7_c.jpg',\n",
              " '/content/flowers/coreopsis/120968911_25024435fc_c.jpg',\n",
              " '/content/flowers/daffodil/24873742340_78da5bd596_c.jpg',\n",
              " '/content/flowers/daffodil/13825449575_799815d3eb_c.jpg',\n",
              " '/content/flowers/astilbe/2604706964_bf103bfdba_c.jpg',\n",
              " '/content/flowers/sunflower/9491677668_329c4c5603_c.jpg',\n",
              " '/content/flowers/coreopsis/14537823132_de528a772f_c.jpg',\n",
              " '/content/flowers/magnolia/49715825576_80308cb134_c.jpg',\n",
              " '/content/flowers/magnolia/7077795123_641c263540_c.jpg',\n",
              " '/content/flowers/tulip/171425736_3802a2c612_c.jpg',\n",
              " '/content/flowers/magnolia/3567637160_3bee07d131_c.jpg',\n",
              " '/content/flowers/black_eyed_susan/14522253550_a0448f7b43_c.jpg',\n",
              " '/content/flowers/bellflower/3189271477_5a79f6fe9c_c.jpg',\n",
              " '/content/flowers/tulip/5258691442_7192a87efa_c.jpg',\n",
              " '/content/flowers/dandelion/5733828953_5acd1aa088_c.jpg',\n",
              " '/content/flowers/dandelion/4576108179_6a7f0df684_c.jpg',\n",
              " '/content/flowers/coreopsis/51141466772_075471b399_c.jpg',\n",
              " '/content/flowers/california_poppy/49927858968_5375cc6c1b_c.jpg',\n",
              " '/content/flowers/rose/5811197471_627bf32647_c.jpg',\n",
              " '/content/flowers/common_daisy/4684273986_db36ecd61e_c.jpg',\n",
              " '/content/flowers/coreopsis/3565483492_e9820364bc_c.jpg',\n",
              " '/content/flowers/black_eyed_susan/3343438401_e5059f14f2_c.jpg',\n",
              " '/content/flowers/coreopsis/9325342401_94a0d7588f_c.jpg',\n",
              " '/content/flowers/carnation/7283950052_fa90af6771_c.jpg',\n",
              " '/content/flowers/astilbe/1479334241_e94a8ebab0_c.jpg',\n",
              " '/content/flowers/tulip/4664442822_21d3f6d70a_c.jpg',\n",
              " '/content/flowers/sunflower/28613616257_91b33cd3e9_c.jpg',\n",
              " '/content/flowers/coreopsis/6916664594_97a9b16ba2_c.jpg',\n",
              " '/content/flowers/california_poppy/51040784448_d4c7878d10_c.jpg',\n",
              " '/content/flowers/common_daisy/15324446538_face5ba089_c.jpg',\n",
              " '/content/flowers/daffodil/16088742854_a504606cf8_c.jpg',\n",
              " '/content/flowers/calendula/22812591445_3d905c01fa_c.jpg',\n",
              " '/content/flowers/calendula/23410964651_78692ac90a_c.jpg',\n",
              " '/content/flowers/bellflower/35725996854_9f91ee2ea1_c.jpg',\n",
              " '/content/flowers/astilbe/14413059366_7e8f031b74_c.jpg',\n",
              " '/content/flowers/water_lily/51361701067_2dcfdea4fb_c.jpg',\n",
              " '/content/flowers/water_lily/50006175626_d78c6494ac_c.jpg',\n",
              " '/content/flowers/calendula/9595128041_0e4a47c0f2_c.jpg',\n",
              " '/content/flowers/iris/3782012745_8c18beea4c_c.jpg',\n",
              " '/content/flowers/dandelion/8838647175_9e48928ca2_c.jpg',\n",
              " '/content/flowers/california_poppy/51010600901_8f3528dcdb_c.jpg',\n",
              " '/content/flowers/daffodil/5546220001_bda6759192_c.jpg',\n",
              " '/content/flowers/rose/3622850950_3753a88dfc_c.jpg',\n",
              " '/content/flowers/iris/14806901100_6797f68014_c.jpg',\n",
              " '/content/flowers/calendula/3533923506_7a18915664_c.jpg',\n",
              " '/content/flowers/water_lily/51713152428_ba10a2f68d_c.jpg',\n",
              " '/content/flowers/bellflower/48922205336_b21a2a67b1_c.jpg',\n",
              " '/content/flowers/coreopsis/45558477_23982ec10d_c.jpg',\n",
              " '/content/flowers/calendula/1379932050_b8d800c787_c.jpg',\n",
              " '/content/flowers/daffodil/8693207186_0468106e9c_c.jpg',\n",
              " '/content/flowers/calendula/49729713196_c0892b301e_c.jpg',\n",
              " '/content/flowers/sunflower/15528777649_2f80612e4c_c.jpg',\n",
              " '/content/flowers/iris/4641419829_49e1aa6fb0_c.jpg',\n",
              " '/content/flowers/iris/343260112_1ed93eea14_c.jpg',\n",
              " '/content/flowers/black_eyed_susan/4972399779_7794d07a51_c.jpg',\n",
              " '/content/flowers/magnolia/51024915158_e98bbb79bb_c.jpg',\n",
              " '/content/flowers/bellflower/48311001011_4a947bd6f6_c.jpg',\n",
              " '/content/flowers/bellflower/48073858182_b319d0f123_c.jpg',\n",
              " '/content/flowers/coreopsis/1003241090_78082bbbba_c.jpg',\n",
              " '/content/flowers/iris/5651250866_4c062a5a93_c.jpg',\n",
              " '/content/flowers/tulip/3402920451_3697524813_c.jpg',\n",
              " '/content/flowers/black_eyed_susan/2589600105_1cae5519de_c.jpg',\n",
              " '/content/flowers/bellflower/2655272643_98f44fe715_c.jpg',\n",
              " '/content/flowers/bellflower/2826533130_d00aa33b43_c.jpg',\n",
              " '/content/flowers/common_daisy/26370678840_a40150fc8b_c.jpg',\n",
              " '/content/flowers/iris/4594894734_4404a6ea9b_c.jpg',\n",
              " '/content/flowers/astilbe/16921957655_9dbbd80ce4_c.jpg',\n",
              " '/content/flowers/magnolia/4393629470_29ec3f4a03_c.jpg',\n",
              " '/content/flowers/tulip/7094642013_d2acd0ba5e_c.jpg',\n",
              " '/content/flowers/carnation/1295447336_bd28000de1_c.jpg',\n",
              " '/content/flowers/california_poppy/48712026527_f6885e5787_c.jpg',\n",
              " '/content/flowers/magnolia/4531753780_75ddb80c63_c.jpg',\n",
              " '/content/flowers/magnolia/51973254440_c25c79b3cf_c.jpg',\n",
              " '/content/flowers/bellflower/8626726412_3aeaecdc02_c.jpg',\n",
              " '/content/flowers/calendula/2472314251_24fbed0e05_c.jpg',\n",
              " '/content/flowers/sunflower/7839580380_8328b6b11a_c.jpg',\n",
              " '/content/flowers/bellflower/49569868083_209bb2c813_c.jpg',\n",
              " '/content/flowers/dandelion/8708057351_acafbaaa9f_c.jpg',\n",
              " '/content/flowers/dandelion/40985523145_98fa9d35f4_c.jpg',\n",
              " '/content/flowers/tulip/2469914212_cb37f31f0e_c.jpg',\n",
              " '/content/flowers/water_lily/51448848562_ea99c03302_c.jpg',\n",
              " '/content/flowers/tulip/13831741375_7d02001fc6_c.jpg',\n",
              " '/content/flowers/iris/14486063892_274a94873f_c.jpg',\n",
              " '/content/flowers/magnolia/1744301368_da6796ba1f_c.jpg',\n",
              " '/content/flowers/coreopsis/5890440331_6a0a26b84d_c.jpg',\n",
              " '/content/flowers/tulip/5650315206_0fd199298a_c.jpg',\n",
              " '/content/flowers/tulip/3132800803_a521598c00_c.jpg',\n",
              " '/content/flowers/common_daisy/8394379445_354c7d167a_c.jpg',\n",
              " '/content/flowers/calendula/42133474860_c8b9cc6a55_c.jpg',\n",
              " '/content/flowers/black_eyed_susan/3904958331_3088dae7b0_c.jpg',\n",
              " '/content/flowers/coreopsis/5895789058_99cf3b7a5a_c.jpg',\n",
              " '/content/flowers/california_poppy/27653298274_c9421cf7c3_c.jpg',\n",
              " '/content/flowers/water_lily/50002466347_8f414a540e_c.jpg',\n",
              " '/content/flowers/daffodil/6906349726_3fe0c12ca5_c.jpg',\n",
              " '/content/flowers/carnation/5640584192_843d8a9b0c_c.jpg',\n",
              " '/content/flowers/water_lily/4737297596_900d9445e4_c.jpg',\n",
              " '/content/flowers/calendula/4894769741_da2d3f6674_c.jpg',\n",
              " '/content/flowers/rose/28404289281_17d6a2b0de_c.jpg',\n",
              " '/content/flowers/magnolia/27158678297_a55f889ed3_c.jpg',\n",
              " '/content/flowers/bellflower/3688173479_421d3eb54f_c.jpg',\n",
              " '/content/flowers/daffodil/4308590320_c314b28edd_c.jpg',\n",
              " '/content/flowers/daffodil/3432395504_c2a870158c_c.jpg',\n",
              " '/content/flowers/sunflower/21649166029_fe5dc19540_c.jpg',\n",
              " '/content/flowers/iris/33533931446_7dacdd5385_c.jpg',\n",
              " '/content/flowers/rose/14805639873_8755a494c4_c.jpg',\n",
              " '/content/flowers/dandelion/8661256744_7e351b6a55_c.jpg',\n",
              " '/content/flowers/sunflower/5507070141_4853a06c28_c.jpg',\n",
              " '/content/flowers/carnation/364623694_1d497f9273_c.jpg',\n",
              " '/content/flowers/magnolia/33270277623_d9520527a1_c.jpg',\n",
              " '/content/flowers/water_lily/7658709464_402183a1f0_c.jpg',\n",
              " '/content/flowers/common_daisy/9157387441_9bc1d4881c_c.jpg',\n",
              " '/content/flowers/magnolia/40710777964_bc7e578ee5_c.jpg',\n",
              " '/content/flowers/dandelion/10426570685_3bb029938d_c.jpg',\n",
              " '/content/flowers/common_daisy/51193898664_6a8169eabf_c.jpg',\n",
              " '/content/flowers/bellflower/30547841800_ccf87ac775_c.jpg',\n",
              " '/content/flowers/carnation/5075124936_6a4eb05c5d_c.jpg',\n",
              " '/content/flowers/magnolia/28446015790_b2dc81182a_c.jpg',\n",
              " '/content/flowers/coreopsis/17604893102_15d21ef451_c.jpg',\n",
              " '/content/flowers/water_lily/50016197143_292fba91b6_c.jpg',\n",
              " '/content/flowers/magnolia/34305350355_de92a6ede3_c.jpg',\n",
              " '/content/flowers/tulip/17272450095_c77eb3270b_c.jpg',\n",
              " '/content/flowers/black_eyed_susan/5062416050_2d7e043e6c_c.jpg',\n",
              " '/content/flowers/calendula/31282592607_ceb9d4f889_c.jpg',\n",
              " '/content/flowers/coreopsis/7488857544_79e488d333_c.jpg',\n",
              " '/content/flowers/sunflower/29693338438_7568022f7c_c.jpg',\n",
              " '/content/flowers/sunflower/29326709_e086a90c33_c.jpg',\n",
              " '/content/flowers/tulip/3337656642_46d019f699_c.jpg',\n",
              " '/content/flowers/tulip/4556406789_43b14fefcc_c.jpg',\n",
              " '/content/flowers/sunflower/9527557189_641dd6d4e0_c.jpg',\n",
              " '/content/flowers/sunflower/6985799030_a4e0f88d8a_c.jpg',\n",
              " '/content/flowers/water_lily/3819747149_0581ec082c_c.jpg',\n",
              " '/content/flowers/magnolia/32718458287_270bc445e0_c.jpg',\n",
              " '/content/flowers/carnation/16697522572_5e7f9f3965_c.jpg',\n",
              " '/content/flowers/rose/5179159949_46c9ddb8f4_c.jpg',\n",
              " '/content/flowers/water_lily/30825495153_49548deef8_c.jpg',\n",
              " '/content/flowers/carnation/2484416615_b12c5eb9d9_c.jpg',\n",
              " '/content/flowers/daffodil/2514541083_7f9f48de40_c.jpg',\n",
              " '/content/flowers/rose/497110312_768553398c_c.jpg',\n",
              " '/content/flowers/coreopsis/3418525606_322de86c17_c.jpg',\n",
              " '/content/flowers/astilbe/18773423293_0ae94dc127_c.jpg',\n",
              " '/content/flowers/black_eyed_susan/7810509320_28987c9f95_c.jpg',\n",
              " '/content/flowers/bellflower/50280004201_7d80c58a60_c.jpg',\n",
              " '/content/flowers/magnolia/5703436124_1907dc3243_c.jpg',\n",
              " '/content/flowers/black_eyed_susan/6177806807_58b501f9ca_c.jpg',\n",
              " '/content/flowers/common_daisy/34550822724_976acc9f66_c.jpg',\n",
              " '/content/flowers/bellflower/28311337412_8618b13501_c.jpg',\n",
              " '/content/flowers/magnolia/6374554981_ea06b060a7_c.jpg',\n",
              " '/content/flowers/daffodil/3402038399_e9188f1d87_c.jpg',\n",
              " '/content/flowers/magnolia/51110037060_aed6ff1b8b_c.jpg',\n",
              " '/content/flowers/california_poppy/9118021804_fc709af3bc_c.jpg',\n",
              " '/content/flowers/iris/2566759786_cb4e1b3b36_c.jpg',\n",
              " '/content/flowers/common_daisy/5665155923_df92fb74c4_c.jpg',\n",
              " '/content/flowers/sunflower/20627564224_56f0bc2545_c.jpg',\n",
              " '/content/flowers/dandelion/15958819455_952ec3511a_c.jpg',\n",
              " '/content/flowers/coreopsis/3955434737_33384c332f_c.jpg',\n",
              " '/content/flowers/common_daisy/4890287051_caba2d45ee_c.jpg',\n",
              " '/content/flowers/iris/28283484088_62fc6bfdcb_c.jpg',\n",
              " '/content/flowers/astilbe/3801580777_bd5bd35a22_c.jpg',\n",
              " '/content/flowers/coreopsis/2445743308_75633a8845_c.jpg',\n",
              " '/content/flowers/tulip/13821190023_f927d76542_c.jpg',\n",
              " '/content/flowers/coreopsis/15711021060_63af4dc4eb_c.jpg',\n",
              " '/content/flowers/coreopsis/4835298999_c4ff3b3da1_c.jpg',\n",
              " '/content/flowers/iris/7967323056_f194cc7c0f_c.jpg',\n",
              " '/content/flowers/rose/29446419486_5a9e37e8eb_c.jpg',\n",
              " '/content/flowers/california_poppy/39817463255_9408ce7e36_c.jpg',\n",
              " '/content/flowers/daffodil/16386341877_67d0d3a2f2_c.jpg',\n",
              " '/content/flowers/astilbe/7522117202_d1e04008e0_c.jpg',\n",
              " '/content/flowers/water_lily/14995594331_157aa25987_c.jpg',\n",
              " '/content/flowers/daffodil/3363646730_6c281f7d77_c.jpg',\n",
              " '/content/flowers/california_poppy/48154275926_69908f4b68_c.jpg',\n",
              " '/content/flowers/coreopsis/20639515028_59dd74b5df_c.jpg',\n",
              " '/content/flowers/water_lily/29185164612_ae8e18a1c9_c.jpg',\n",
              " '/content/flowers/common_daisy/49672583983_dca2c393ac_c.jpg',\n",
              " '/content/flowers/astilbe/50090664332_5cc291edc3_c.jpg',\n",
              " '/content/flowers/coreopsis/2613464747_8c07f03ed9_c.jpg',\n",
              " '/content/flowers/tulip/467338017_2c72040203_c.jpg',\n",
              " '/content/flowers/astilbe/1187514219_6aa8002901_c.jpg',\n",
              " '/content/flowers/bellflower/4507245028_c8c85ca218_c.jpg',\n",
              " '/content/flowers/dandelion/37607568005_9f0e0c6c60_c.jpg',\n",
              " '/content/flowers/astilbe/197843955_0be48a9eb2_c.jpg',\n",
              " '/content/flowers/carnation/50736663486_4faef92863_c.jpg',\n",
              " '/content/flowers/bellflower/48098758727_bfe08cd1f0_c.jpg',\n",
              " '/content/flowers/astilbe/5388635044_2d60a8020c_c.jpg',\n",
              " '/content/flowers/dandelion/8722498292_0d2ba0fda8_c.jpg',\n",
              " '/content/flowers/coreopsis/9965598513_314d8186fd_c.jpg',\n",
              " '/content/flowers/california_poppy/9238168645_0ddd4315d4_c.jpg',\n",
              " '/content/flowers/magnolia/3479635161_051353b807_c.jpg',\n",
              " '/content/flowers/tulip/6942128138_5c5f2f1c1c_c.jpg',\n",
              " '/content/flowers/rose/23541704336_488ba53b83_c.jpg',\n",
              " '/content/flowers/bellflower/49992185156_febd68c28b_c.jpg',\n",
              " '/content/flowers/daffodil/25855718456_a5ac272e2c_c.jpg',\n",
              " '/content/flowers/iris/4063671112_ff3c20aeda_c.jpg',\n",
              " '/content/flowers/calendula/4109531403_15c15d1c4b_c.jpg',\n",
              " '/content/flowers/black_eyed_susan/15653408054_422810ba5b_c.jpg',\n",
              " '/content/flowers/iris/2572936158_2dc9bb5b37_c.jpg',\n",
              " '/content/flowers/dandelion/17884609480_5abb6e7a29_c.jpg',\n",
              " '/content/flowers/rose/2479527829_bdffe55ec7_c.jpg',\n",
              " '/content/flowers/iris/8752622018_5c32823d46_c.jpg',\n",
              " '/content/flowers/black_eyed_susan/2625849155_5cffc2cc07_c.jpg',\n",
              " '/content/flowers/daffodil/15053517278_30bf9ea99d_c.jpg',\n",
              " '/content/flowers/coreopsis/5691420017_39955ece7f_c.jpg',\n",
              " '/content/flowers/iris/157703554_bdd18cb12e_c.jpg',\n",
              " '/content/flowers/dandelion/7155420510_91b6bf0317_c.jpg',\n",
              " '/content/flowers/sunflower/2849069651_59e0515815_c.jpg',\n",
              " '/content/flowers/rose/4045395655_b56f3805a9_c.jpg',\n",
              " '/content/flowers/california_poppy/50927236417_2d0589a91f_c.jpg',\n",
              " '/content/flowers/dandelion/42076678191_87f5abdd1f_c.jpg',\n",
              " '/content/flowers/dandelion/15308453885_0e1dd55146_c.jpg',\n",
              " '/content/flowers/magnolia/51717574163_d9b0e87a54_c.jpg',\n",
              " '/content/flowers/california_poppy/33433384376_effa45f391_c.jpg',\n",
              " '/content/flowers/carnation/47934669812_5c5c551ce7_c.jpg',\n",
              " '/content/flowers/rose/696963586_e2de77cc08_c.jpg',\n",
              " '/content/flowers/iris/6019129436_2e22b1fecf_c.jpg',\n",
              " '/content/flowers/magnolia/42359718355_8581b8ffb1_c.jpg',\n",
              " '/content/flowers/bellflower/3728222615_d482353e4a_c.jpg',\n",
              " '/content/flowers/astilbe/6032422183_5234999440_c.jpg',\n",
              " '/content/flowers/carnation/526804223_665999e5b2_c.jpg',\n",
              " '/content/flowers/coreopsis/5666299466_578c54c75b_c.jpg',\n",
              " '/content/flowers/water_lily/51928859573_bde1b52758_c.jpg',\n",
              " '/content/flowers/calendula/30976263676_e4b343f00e_c.jpg',\n",
              " '/content/flowers/calendula/4555291506_e6fc35ffca_c.jpg',\n",
              " '/content/flowers/sunflower/5233876254_e8a3d0e07d_c.jpg',\n",
              " '/content/flowers/iris/27894000367_d321529b5b_c.jpg',\n",
              " '/content/flowers/sunflower/283524535_0bac09d9ba_c.jpg',\n",
              " '/content/flowers/iris/9054818035_965648c690_c.jpg',\n",
              " '/content/flowers/iris/32179857847_c8abbee772_c.jpg',\n",
              " '/content/flowers/carnation/4155566460_97038fc659_c.jpg',\n",
              " '/content/flowers/astilbe/48175656546_b96c6791b6_c.jpg',\n",
              " '/content/flowers/water_lily/48836834467_d9594c52e7_c.jpg',\n",
              " '/content/flowers/rose/531197089_b240821319_c.jpg',\n",
              " '/content/flowers/dandelion/26597673314_a7e4ffbdf2_c.jpg',\n",
              " '/content/flowers/tulip/14134658276_26d4edf489_c.jpg',\n",
              " '/content/flowers/bellflower/19987092791_c5dd1914ed_c.jpg',\n",
              " '/content/flowers/sunflower/34695605616_3b05bb1ef5_c.jpg',\n",
              " '/content/flowers/tulip/7092835201_8165a141c8_c.jpg',\n",
              " '/content/flowers/common_daisy/26373545270_e9a3c55486_c.jpg',\n",
              " '/content/flowers/common_daisy/33724237488_210722d2b2_c.jpg',\n",
              " '/content/flowers/daffodil/7027691263_ea9b877c9a_c.jpg',\n",
              " '/content/flowers/calendula/3803966906_ed75e1998a_c.jpg',\n",
              " '/content/flowers/sunflower/6086329164_395431141c_c.jpg',\n",
              " '/content/flowers/astilbe/2685032517_5c549425dd_c.jpg',\n",
              " '/content/flowers/iris/2545279753_a570036417_c.jpg',\n",
              " '/content/flowers/california_poppy/46189068314_db20713e31_c.jpg',\n",
              " '/content/flowers/magnolia/50518953488_ed5908db03_c.jpg',\n",
              " '/content/flowers/astilbe/220632204_7c0d9ac9cd_c.jpg',\n",
              " '/content/flowers/astilbe/2721010466_66bf340d63_c.jpg',\n",
              " '/content/flowers/sunflower/6186619224_bed335841c_c.jpg',\n",
              " '/content/flowers/dandelion/14458301723_2cb98c9ac9_c.jpg',\n",
              " '/content/flowers/common_daisy/34973938216_470b3d3f7f_c.jpg',\n",
              " '/content/flowers/sunflower/7758707926_b397e545d0_c.jpg',\n",
              " '/content/flowers/tulip/6899764606_e6c03f6eea_c.jpg',\n",
              " '/content/flowers/tulip/4559897554_e42d696283_c.jpg',\n",
              " '/content/flowers/california_poppy/161501171_a379b4aa9a_c.jpg',\n",
              " '/content/flowers/daffodil/3355651227_3da50ddcd7_c.jpg',\n",
              " '/content/flowers/sunflower/42093884535_4852253afa_c.jpg',\n",
              " '/content/flowers/tulip/13724298105_956ba42378_c.jpg',\n",
              " '/content/flowers/dandelion/5404063776_33ff9d008e_c.jpg',\n",
              " '/content/flowers/daffodil/5545115596_4e3769d516_c.jpg',\n",
              " '/content/flowers/sunflower/2687779837_bdfec4a01b_c.jpg',\n",
              " '/content/flowers/water_lily/35793773795_966c3988b2_c.jpg',\n",
              " '/content/flowers/common_daisy/6042579877_117b8022c4_c.jpg',\n",
              " '/content/flowers/coreopsis/3516871337_b74aa0356e_c.jpg',\n",
              " '/content/flowers/dandelion/5623286326_d88d1a4693_c.jpg',\n",
              " '/content/flowers/bellflower/48284928557_11aa1308ec_c.jpg',\n",
              " '/content/flowers/daffodil/2304871608_74a9d7b2a2_c.jpg',\n",
              " '/content/flowers/iris/41932420362_cc3d08c740_c.jpg',\n",
              " '/content/flowers/dandelion/15138654278_c4c6d59648_c.jpg',\n",
              " '/content/flowers/bellflower/14606038294_4e6cb89d83_c.jpg',\n",
              " '/content/flowers/black_eyed_susan/4814550740_8684d0e075_c.jpg',\n",
              " '/content/flowers/calendula/11621297596_cc059b628b_c.jpg',\n",
              " '/content/flowers/bellflower/2530701315_440aa34252_c.jpg',\n",
              " '/content/flowers/daffodil/25257489181_0f6b98ca28_c.jpg',\n",
              " '/content/flowers/common_daisy/65041824_3e48d75ea7_c.jpg',\n",
              " '/content/flowers/daffodil/13293925335_b0a426b873_c.jpg',\n",
              " '/content/flowers/calendula/3762829129_c31f1c95d6_c.jpg',\n",
              " '/content/flowers/dandelion/37180335604_05a0f3b1c2_c.jpg',\n",
              " '/content/flowers/carnation/30701018773_141f80b555_c.jpg',\n",
              " '/content/flowers/black_eyed_susan/208675430_96b49aec13_c.jpg',\n",
              " '/content/flowers/coreopsis/18968821885_6845defbe2_c.jpg',\n",
              " '/content/flowers/california_poppy/51008451802_13f9ac4b21_c.jpg',\n",
              " '/content/flowers/coreopsis/9297469501_4171c156c6_c.jpg',\n",
              " '/content/flowers/dandelion/4755051157_a8b6d0bdde_c.jpg',\n",
              " '/content/flowers/california_poppy/2504572812_654044e4ae_c.jpg',\n",
              " '/content/flowers/common_daisy/6881114346_6c88c1940e_c.jpg',\n",
              " '/content/flowers/carnation/3539670169_d60e9db8b9_c.jpg',\n",
              " '/content/flowers/sunflower/4340993218_9631378f07_c.jpg',\n",
              " '/content/flowers/carnation/6653418555_024c44a2e3_c.jpg',\n",
              " '/content/flowers/iris/6893696190_70a8f5b666_c.jpg',\n",
              " '/content/flowers/coreopsis/15930965008_70697df2ff_c.jpg',\n",
              " '/content/flowers/tulip/138352085_1a1b797628_c.jpg',\n",
              " '/content/flowers/water_lily/50989771507_3aea9f5b18_c.jpg',\n",
              " '/content/flowers/dandelion/29804480102_b0a821a709_c.jpg',\n",
              " '/content/flowers/coreopsis/3931773628_39c173f381_c.jpg',\n",
              " '/content/flowers/tulip/24499984643_847e8f52ab_c.jpg',\n",
              " '/content/flowers/sunflower/606059227_8010e81b62_c.jpg',\n",
              " '/content/flowers/bellflower/48017428111_a38c4bcd10_c.jpg',\n",
              " '/content/flowers/common_daisy/5744736895_b1b6a31c70_c.jpg',\n",
              " '/content/flowers/coreopsis/4842712100_ce1cbc5646_c.jpg',\n",
              " '/content/flowers/astilbe/756343409_e34717c7ee_c.jpg',\n",
              " '/content/flowers/astilbe/564459527_63b7330673_c.jpg',\n",
              " '/content/flowers/common_daisy/2321107972_f31e6b65a8_c.jpg',\n",
              " '/content/flowers/iris/32599698867_b047b6b652_c.jpg',\n",
              " '/content/flowers/carnation/26589441076_6c55641a02_c.jpg',\n",
              " '/content/flowers/carnation/48301408557_44c908ae9d_c.jpg',\n",
              " '/content/flowers/coreopsis/51684088286_4354d92664_c.jpg',\n",
              " '/content/flowers/bellflower/5848025693_771ff2038f_c.jpg',\n",
              " '/content/flowers/bellflower/18055282641_659cdce8bd_c.jpg',\n",
              " '/content/flowers/california_poppy/13045871135_c74d2988c2_c.jpg',\n",
              " '/content/flowers/california_poppy/9071013153_395734ef40_c.jpg',\n",
              " '/content/flowers/daffodil/2360558206_a7777a555b_c.jpg',\n",
              " '/content/flowers/water_lily/1813975350_44e081d7a7_c.jpg',\n",
              " '/content/flowers/dandelion/8775145746_669763549a_c.jpg',\n",
              " '/content/flowers/tulip/94192080_bfbf9f128c_c.jpg',\n",
              " '/content/flowers/calendula/51310405395_9c4d539dab_c.jpg',\n",
              " '/content/flowers/calendula/51688763690_539ea1b551_c.jpg',\n",
              " '/content/flowers/bellflower/5912312037_ac19c156dd_c.jpg',\n",
              " '/content/flowers/tulip/15287156675_fe7a95b123_c.jpg',\n",
              " '/content/flowers/california_poppy/22664044632_0c0f77394e_c.jpg',\n",
              " '/content/flowers/calendula/2719158563_e2dc9dc50c_c.jpg',\n",
              " '/content/flowers/coreopsis/2654888014_e3e7e17e76_c.jpg',\n",
              " '/content/flowers/coreopsis/28789802480_70256f27a7_c.jpg',\n",
              " '/content/flowers/sunflower/395619830_d51544c95c_c.jpg',\n",
              " '/content/flowers/tulip/6505524429_48864ee92d_c.jpg',\n",
              " '/content/flowers/tulip/16567621146_aaaa8ff685_c.jpg',\n",
              " '/content/flowers/black_eyed_susan/194413700_99e725d01f_c.jpg',\n",
              " '/content/flowers/dandelion/39795883800_dd15c8144f_c.jpg',\n",
              " '/content/flowers/calendula/4898135223_d93624faf9_c.jpg',\n",
              " '/content/flowers/iris/7305617744_b00591e72d_c.jpg',\n",
              " '/content/flowers/rose/8897507692_3b6f7291ac_c.jpg',\n",
              " '/content/flowers/california_poppy/49547517638_4496333972_c.jpg',\n",
              " '/content/flowers/tulip/5393528637_b9d2c4c4d5_c.jpg',\n",
              " '/content/flowers/magnolia/51097426240_deb922056d_c.jpg',\n",
              " '/content/flowers/magnolia/26297057027_e1ac0aa8c0_c.jpg',\n",
              " '/content/flowers/daffodil/8629627767_85c97df5bd_c.jpg',\n",
              " '/content/flowers/black_eyed_susan/14470017648_777f5f1bd5_c.jpg',\n",
              " '/content/flowers/carnation/51779071740_f4ae1b8232_c.jpg',\n",
              " '/content/flowers/california_poppy/15510929826_d4334788a6_c.jpg',\n",
              " '/content/flowers/black_eyed_susan/3455964970_1337ae7afe_c.jpg',\n",
              " '/content/flowers/astilbe/9232339223_01ca92f687_c.jpg',\n",
              " '/content/flowers/iris/2567025932_8487cd37cb_c.jpg',\n",
              " '/content/flowers/magnolia/29666298781_f1244bc7c3_c.jpg',\n",
              " '/content/flowers/coreopsis/30025566100_76cba7e679_c.jpg',\n",
              " '/content/flowers/bellflower/49018553656_5371fd544d_c.jpg',\n",
              " '/content/flowers/astilbe/4824376712_58d18b1952_c.jpg',\n",
              " '/content/flowers/sunflower/14968625416_4973bf5ff7_c.jpg',\n",
              " '/content/flowers/daffodil/3439396405_22b0dec4b0_c.jpg',\n",
              " '/content/flowers/iris/8467855561_04bfdbfd00_c.jpg',\n",
              " '/content/flowers/rose/5478649993_be3e2b388e_c.jpg',\n",
              " '/content/flowers/tulip/2490680018_3c0e64cf27_c.jpg',\n",
              " '/content/flowers/magnolia/5069004326_753fc24f67_c.jpg',\n",
              " '/content/flowers/carnation/17769040621_315db35403_c.jpg',\n",
              " '/content/flowers/tulip/10356889713_54786549bd_c.jpg',\n",
              " '/content/flowers/bellflower/9149879099_cf2a102377_c.jpg',\n",
              " '/content/flowers/magnolia/17350776791_d6798125bc_c.jpg',\n",
              " '/content/flowers/common_daisy/36448600312_97bf74a8d4_c.jpg',\n",
              " '/content/flowers/dandelion/1957758708_e77bcfa600_c.jpg',\n",
              " '/content/flowers/common_daisy/11104257484_1edb2425ee_c.jpg',\n",
              " '/content/flowers/black_eyed_susan/7789119060_8414fd72a4_c.jpg',\n",
              " '/content/flowers/magnolia/2560303837_330cb60a26_c.jpg',\n",
              " '/content/flowers/coreopsis/502317566_6c5cf8576b_c.jpg',\n",
              " '/content/flowers/bellflower/39531059605_e02495061f_c.jpg',\n",
              " '/content/flowers/water_lily/51435754562_06c36789f7_c.jpg',\n",
              " '/content/flowers/iris/42114135752_5ee5844a29_c.jpg',\n",
              " '/content/flowers/magnolia/28498952_4ba501cef2_c.jpg',\n",
              " '/content/flowers/water_lily/51893474622_674fdccf0f_c.jpg',\n",
              " '/content/flowers/iris/40612281640_d21ab9d8ba_c.jpg',\n",
              " '/content/flowers/dandelion/7280227122_7ea2bef7f4_c.jpg',\n",
              " '/content/flowers/daffodil/2394984041_a2bc787147_c.jpg',\n",
              " '/content/flowers/water_lily/26164357503_87a982b590_c.jpg',\n",
              " '/content/flowers/calendula/28258359352_79dbcdb6c7_c.jpg',\n",
              " '/content/flowers/astilbe/5033434203_2ee7bd0cb9_c.jpg',\n",
              " '/content/flowers/carnation/10784597526_8eb6f1341e_c.jpg',\n",
              " '/content/flowers/calendula/22157062029_95eb18c8ef_c.jpg',\n",
              " '/content/flowers/sunflower/7955084726_16e1424e3e_c.jpg',\n",
              " '/content/flowers/carnation/6945451545_05dc2069d3_c.jpg',\n",
              " '/content/flowers/bellflower/3672673304_73a684cc1e_c.jpg',\n",
              " '/content/flowers/rose/29457922657_7cd4d07116_c.jpg',\n",
              " '/content/flowers/tulip/6150100648_8a800eae4b_c.jpg',\n",
              " '/content/flowers/daffodil/16739337367_26b9ab301e_c.jpg',\n",
              " '/content/flowers/coreopsis/1263447224_0ea1cbfc9b_c.jpg',\n",
              " '/content/flowers/sunflower/3786456851_46cc2ab1d7_c.jpg',\n",
              " '/content/flowers/dandelion/14029151827_d321f9430f_c.jpg',\n",
              " '/content/flowers/daffodil/6534297371_717d7849e3_c.jpg',\n",
              " '/content/flowers/astilbe/9339978247_7c0e212953_c.jpg',\n",
              " '/content/flowers/iris/5822035090_846d21f4ab_c.jpg',\n",
              " '/content/flowers/rose/15537917111_dd6a4e41d1_c.jpg',\n",
              " '/content/flowers/carnation/3332858579_8c7d69364a_c.jpg',\n",
              " '/content/flowers/tulip/6258774996_b528a94cd4_c.jpg',\n",
              " '/content/flowers/rose/2411509617_196f682dfe_c.jpg',\n",
              " '/content/flowers/tulip/4662145147_fc519b30d1_c.jpg',\n",
              " '/content/flowers/sunflower/4650552002_787275bb49_c.jpg',\n",
              " '/content/flowers/bellflower/16615806471_50dd82ae50_c.jpg',\n",
              " '/content/flowers/carnation/3540424522_41e4df59bc_c.jpg',\n",
              " '/content/flowers/calendula/40721686160_74f85942ae_c.jpg',\n",
              " '/content/flowers/coreopsis/14470810268_f73fa16159_c.jpg',\n",
              " '/content/flowers/black_eyed_susan/2822774260_8f16a24c54_c.jpg',\n",
              " '/content/flowers/magnolia/51189771874_02865d98c3_c.jpg',\n",
              " '/content/flowers/black_eyed_susan/15490331085_451d1553fc_c.jpg',\n",
              " '/content/flowers/daffodil/8692735847_e54611ca0d_c.jpg',\n",
              " '/content/flowers/iris/9126471900_8c47c9658a_c.jpg',\n",
              " '/content/flowers/black_eyed_susan/6012010505_33499b2569_c.jpg',\n",
              " '/content/flowers/water_lily/43048059454_53720f22dd_c.jpg',\n",
              " '/content/flowers/carnation/2854795159_4949bc0027_c.jpg',\n",
              " '/content/flowers/daffodil/4511588300_c08c7dc325_c.jpg',\n",
              " '/content/flowers/bellflower/21414850915_0eee451d6a_c.jpg',\n",
              " '/content/flowers/coreopsis/1389370344_8f4dddf264_c.jpg',\n",
              " '/content/flowers/rose/5112117670_2f7a0d2d5d_c.jpg',\n",
              " '/content/flowers/daffodil/3265181983_052b3835a1_c.jpg',\n",
              " '/content/flowers/california_poppy/48015842761_ff0b509b4a_c.jpg',\n",
              " '/content/flowers/common_daisy/42652700272_11f05eda88_c.jpg',\n",
              " '/content/flowers/rose/11053820414_71ac2844ae_c.jpg',\n",
              " '/content/flowers/common_daisy/4683639815_57ff120083_c.jpg',\n",
              " '/content/flowers/astilbe/6837953152_7825f0a239_c.jpg',\n",
              " '/content/flowers/carnation/14629913189_4a6b9d47fe_c.jpg',\n",
              " '/content/flowers/carnation/23279307340_8046a3aee5_c.jpg',\n",
              " '/content/flowers/dandelion/14164868606_d1e38c9ab1_c.jpg',\n",
              " '/content/flowers/sunflower/2790465728_bd8d1591fd_c.jpg',\n",
              " '/content/flowers/bellflower/19700006250_a8c52f0497_c.jpg',\n",
              " '/content/flowers/iris/8736067090_40b6150ef7_c.jpg',\n",
              " '/content/flowers/carnation/4390657264_abcbf04079_c.jpg',\n",
              " '/content/flowers/common_daisy/40808429633_685e27023d_c.jpg',\n",
              " '/content/flowers/daffodil/24921070990_b37d3e4a5d_c.jpg',\n",
              " '/content/flowers/magnolia/51185078132_fdbc56ebab_c.jpg',\n",
              " '/content/flowers/carnation/51476518232_57b36a93ba_c.jpg',\n",
              " '/content/flowers/water_lily/36053902933_6dfd377a15_c.jpg',\n",
              " '/content/flowers/common_daisy/14274113268_4f01f872c9_c.jpg',\n",
              " '/content/flowers/coreopsis/2706132859_5a56a84156_c.jpg',\n",
              " '/content/flowers/tulip/15377854398_db6a8598b9_c.jpg',\n",
              " '/content/flowers/daffodil/416697798_62b899586e_c.jpg',\n",
              " '/content/flowers/black_eyed_susan/5357080416_950e050729_c.jpg',\n",
              " '/content/flowers/coreopsis/5899291154_4f549dc5e3_c.jpg',\n",
              " '/content/flowers/black_eyed_susan/14550773351_f99dafc405_c.jpg',\n",
              " '/content/flowers/sunflower/2740474773_603a9e9782_c.jpg',\n",
              " '/content/flowers/carnation/51286244394_853e894860_c.jpg',\n",
              " '/content/flowers/sunflower/22219812483_562ee6126b_c.jpg',\n",
              " '/content/flowers/common_daisy/51278333916_b2e24b9912_c.jpg',\n",
              " '/content/flowers/black_eyed_susan/4717765039_174f56f1d8_c.jpg',\n",
              " '/content/flowers/magnolia/33623553718_fb8f798bfc_c.jpg',\n",
              " '/content/flowers/california_poppy/13405474085_0c5e9edb0e_c.jpg',\n",
              " '/content/flowers/calendula/30373795805_ed3b368742_c.jpg',\n",
              " '/content/flowers/daffodil/33208307743_411dd49bea_c.jpg',\n",
              " '/content/flowers/bellflower/6050310405_0613ab30ce_c.jpg',\n",
              " '/content/flowers/magnolia/26240626813_3bbdb204af_c.jpg',\n",
              " '/content/flowers/coreopsis/17954503335_eb3fe2fcce_c.jpg',\n",
              " '/content/flowers/coreopsis/1660702962_47972dd073_c.jpg',\n",
              " '/content/flowers/carnation/16249048653_d258ed436b_c.jpg',\n",
              " '/content/flowers/common_daisy/3343026254_7ddd702ab9_c.jpg',\n",
              " '/content/flowers/california_poppy/32868536522_fa7b7169af_c.jpg',\n",
              " '/content/flowers/bellflower/27724754291_f3612cf94e_c.jpg',\n",
              " '/content/flowers/tulip/26246978395_3792ec09ab_c.jpg',\n",
              " '/content/flowers/daffodil/5641493422_52b4e89935_c.jpg',\n",
              " '/content/flowers/calendula/49825393821_57e794fb50_c.jpg',\n",
              " '/content/flowers/iris/42412801052_3de81eb2e0_c.jpg',\n",
              " '/content/flowers/sunflower/4745239993_db6d80ae6a_c.jpg',\n",
              " '/content/flowers/carnation/4312923071_81330ea6f3_c.jpg',\n",
              " '/content/flowers/tulip/5676925814_75a55ed06c_c.jpg',\n",
              " '/content/flowers/carnation/28969846385_15385ee678_c.jpg',\n",
              " '/content/flowers/black_eyed_susan/3648574242_a06b7e9aeb_c.jpg',\n",
              " '/content/flowers/sunflower/4809261783_45f7a88556_c.jpg',\n",
              " '/content/flowers/rose/8463662492_f6d5d0fcda_c.jpg',\n",
              " '/content/flowers/tulip/26502069995_ebf0f8ca11_c.jpg',\n",
              " '/content/flowers/tulip/3540137223_a6c9ccee8a_c.jpg',\n",
              " '/content/flowers/iris/4024690654_2046830679_c.jpg',\n",
              " '/content/flowers/california_poppy/1640762624_9f08ab8fb7_c.jpg',\n",
              " '/content/flowers/daffodil/24959259199_9f2f840c9f_c.jpg',\n",
              " '/content/flowers/astilbe/28546323030_b4b17ae257_c.jpg',\n",
              " '/content/flowers/tulip/369251999_c4bebed864_c.jpg',\n",
              " '/content/flowers/dandelion/39875717094_e28bf46f12_c.jpg',\n",
              " '/content/flowers/astilbe/50676091391_2ae057bbd0_c.jpg',\n",
              " '/content/flowers/california_poppy/41560714385_f707c95566_c.jpg',\n",
              " '/content/flowers/astilbe/28416041581_8992b1ab54_c.jpg',\n",
              " '/content/flowers/california_poppy/42796824532_89ccc7ddd0_c.jpg',\n",
              " '/content/flowers/black_eyed_susan/682277871_308ad88594_c.jpg',\n",
              " '/content/flowers/bellflower/43637024400_8fc1b4d650_c.jpg',\n",
              " '/content/flowers/iris/7313474410_1ff63fd762_c.jpg',\n",
              " '/content/flowers/carnation/46811740482_686d53be56_c.jpg',\n",
              " '/content/flowers/black_eyed_susan/14729936578_c7087372f2_c.jpg',\n",
              " '/content/flowers/sunflower/6335915983_c4bae8f4e3_c.jpg',\n",
              " '/content/flowers/black_eyed_susan/4902818046_6ea41d1c29_c.jpg',\n",
              " '/content/flowers/sunflower/3917680966_c3ded73742_c.jpg',\n",
              " '/content/flowers/tulip/6966733121_9a064e2a6d_c.jpg',\n",
              " '/content/flowers/dandelion/3823142577_dd5acd5ac6_c.jpg',\n",
              " '/content/flowers/dandelion/3638021550_c3b02ab595_c.jpg',\n",
              " '/content/flowers/sunflower/730197809_329d22d000_c.jpg',\n",
              " '/content/flowers/california_poppy/48872900967_5b6c09e620_c.jpg',\n",
              " '/content/flowers/bellflower/373338926_ec24e8919e_c.jpg',\n",
              " '/content/flowers/bellflower/51252350935_32ee4cacb4_c.jpg',\n",
              " '/content/flowers/magnolia/4441845993_3888a24db1_c.jpg',\n",
              " '/content/flowers/tulip/432758760_b27d346342_c.jpg',\n",
              " '/content/flowers/iris/3513095278_67028ea689_c.jpg',\n",
              " '/content/flowers/water_lily/4912041285_6c43136f36_c.jpg',\n",
              " '/content/flowers/coreopsis/5894920062_ed979d13c0_c.jpg',\n",
              " '/content/flowers/carnation/6967518267_74b38ce2f4_c.jpg',\n",
              " '/content/flowers/magnolia/51358664480_6345457ab3_c.jpg',\n",
              " '/content/flowers/carnation/5111741132_f027df5f8c_c.jpg',\n",
              " '/content/flowers/sunflower/7656320470_1e7d18e850_c.jpg',\n",
              " '/content/flowers/coreopsis/7466620812_d6f7e1ebb9_c.jpg',\n",
              " '/content/flowers/coreopsis/2792690759_7076d6e753_c.jpg',\n",
              " '/content/flowers/california_poppy/27385652398_f87cd5bf87_c.jpg',\n",
              " '/content/flowers/daffodil/8629612973_46ed3821e5_c.jpg',\n",
              " '/content/flowers/daffodil/15229552742_a48c179c8f_c.jpg',\n",
              " '/content/flowers/tulip/171424408_2afabfbc3b_c.jpg',\n",
              " '/content/flowers/black_eyed_susan/7707884838_3a1e84e737_c.jpg',\n",
              " '/content/flowers/calendula/4276800817_66ba14aee3_c.jpg',\n",
              " '/content/flowers/magnolia/497259758_720945199e_c.jpg',\n",
              " '/content/flowers/carnation/3428278505_239032518a_c.jpg',\n",
              " '/content/flowers/daffodil/452965135_885f091323_c.jpg',\n",
              " '/content/flowers/carnation/4001468523_d7e73beeb4_c.jpg',\n",
              " '/content/flowers/rose/2499298730_0eb61f45af_c.jpg',\n",
              " '/content/flowers/tulip/17062879586_2563d59208_c.jpg',\n",
              " '/content/flowers/astilbe/4707286395_79b8410686_c.jpg',\n",
              " '/content/flowers/magnolia/8738364547_ec1f1505db_c.jpg',\n",
              " '/content/flowers/bellflower/2714272466_14d07edef6_c.jpg',\n",
              " '/content/flowers/california_poppy/9242099620_f4b944a93b_c.jpg',\n",
              " '/content/flowers/magnolia/47488138291_833cc873d4_c.jpg',\n",
              " '/content/flowers/black_eyed_susan/4861061667_96e7bf7fa2_c.jpg',\n",
              " '/content/flowers/astilbe/5899734648_3199b734d6_c.jpg',\n",
              " '/content/flowers/sunflower/27084002409_25f6145a64_c.jpg',\n",
              " '/content/flowers/iris/5765398441_f14a821bd3_c.jpg',\n",
              " '/content/flowers/rose/8782484528_793aa93cd6_c.jpg',\n",
              " '/content/flowers/bellflower/50581156673_c405478be2_c.jpg',\n",
              " '/content/flowers/bellflower/50222419327_0c99d113c2_c.jpg',\n",
              " '/content/flowers/magnolia/5358425759_77e6e61648_c.jpg',\n",
              " '/content/flowers/rose/24686794682_25852c29f5_c.jpg',\n",
              " '/content/flowers/dandelion/5408693126_5c975c4fe6_c.jpg',\n",
              " '/content/flowers/tulip/3849004453_b53d81f55e_c.jpg',\n",
              " '/content/flowers/tulip/3825333026_0086470dfb_c.jpg',\n",
              " '/content/flowers/daffodil/5557794279_c7130d3075_c.jpg',\n",
              " '/content/flowers/calendula/23226848495_e0d5b582f6_c.jpg',\n",
              " '/content/flowers/daffodil/3473703979_938ef8b53c_c.jpg',\n",
              " '/content/flowers/iris/7217839680_f7f5a650c0_c.jpg',\n",
              " '/content/flowers/calendula/27546971285_191ab5693a_c.jpg',\n",
              " '/content/flowers/calendula/36061431383_8e2bcbc142_c.jpg',\n",
              " '/content/flowers/sunflower/1347738245_a5aa1f82ed_c.jpg',\n",
              " '/content/flowers/dandelion/29251129338_87b9458dba_c.jpg',\n",
              " '/content/flowers/carnation/3348856480_83fed5751f_c.jpg',\n",
              " '/content/flowers/water_lily/51365174229_1d5215c76b_c.jpg',\n",
              " '/content/flowers/dandelion/8121610071_85396e9b4d_c.jpg',\n",
              " '/content/flowers/black_eyed_susan/9231118793_de7c97ae88_c.jpg',\n",
              " '/content/flowers/dandelion/14025496540_cbdb6acbf0_c.jpg',\n",
              " '/content/flowers/dandelion/4685572565_98e755205b_c.jpg',\n",
              " '/content/flowers/magnolia/51953574760_05114644d3_c.jpg',\n",
              " '/content/flowers/coreopsis/51737319756_8f0e6cd9db_c.jpg',\n",
              " '/content/flowers/rose/2877003503_e46101f58d_c.jpg',\n",
              " '/content/flowers/iris/1306594276_68e4a95998_c.jpg',\n",
              " '/content/flowers/black_eyed_susan/4953010050_2c44f265e5_c.jpg',\n",
              " '/content/flowers/sunflower/6436166647_c8214e784c_c.jpg',\n",
              " '/content/flowers/coreopsis/3512517586_1249e21ddc_c.jpg',\n",
              " '/content/flowers/water_lily/16594538760_b96b560155_c.jpg',\n",
              " '/content/flowers/coreopsis/7121977297_4fcf2ed1df_c.jpg',\n",
              " '/content/flowers/calendula/7229363814_b35094c70f_c.jpg',\n",
              " '/content/flowers/tulip/8738207541_59880d2791_c.jpg',\n",
              " '/content/flowers/calendula/2668385052_db50c0d829_c.jpg',\n",
              " '/content/flowers/black_eyed_susan/558900300_60fd46521e_c.jpg',\n",
              " '/content/flowers/coreopsis/14089821291_f89324abe5_c.jpg',\n",
              " '/content/flowers/dandelion/17077706979_b8b4a4e405_c.jpg',\n",
              " '/content/flowers/water_lily/28405767931_480c64592c_c.jpg',\n",
              " '/content/flowers/bellflower/50186292182_7e15f88cd0_c.jpg',\n",
              " '/content/flowers/common_daisy/5665147251_8b63617358_c.jpg',\n",
              " '/content/flowers/calendula/3748187647_d217f0a99f_c.jpg',\n",
              " '/content/flowers/magnolia/5692106038_16f7527a20_c.jpg',\n",
              " '/content/flowers/bellflower/51250576332_7e4feeca83_c.jpg',\n",
              " '/content/flowers/sunflower/5398927338_0ef6203d40_c.jpg',\n",
              " '/content/flowers/iris/3516534783_e1f1325b6a_c.jpg',\n",
              " '/content/flowers/dandelion/7293257732_da752fe79d_c.jpg',\n",
              " '/content/flowers/water_lily/22067173086_473afa90d6_c.jpg',\n",
              " '/content/flowers/common_daisy/7027231383_b938726c60_c.jpg',\n",
              " '/content/flowers/carnation/4653514038_308762a3cb_c.jpg',\n",
              " '/content/flowers/rose/2480337034_f4c8b18ee5_c.jpg',\n",
              " '/content/flowers/iris/6337451594_8864f11c8b_c.jpg',\n",
              " '/content/flowers/california_poppy/50489962867_d7903320fe_c.jpg',\n",
              " '/content/flowers/bellflower/47958892866_92c73ed850_c.jpg',\n",
              " '/content/flowers/magnolia/42457291911_0c0b1900dd_c.jpg',\n",
              " '/content/flowers/sunflower/14832734783_c59615ecee_c.jpg',\n",
              " '/content/flowers/tulip/10356885453_2259e1e2f1_c.jpg',\n",
              " '/content/flowers/coreopsis/8628619047_f8648197b6_c.jpg',\n",
              " '/content/flowers/water_lily/14626496123_0fddc49563_c.jpg',\n",
              " '/content/flowers/sunflower/2684007547_f57ccbff62_c.jpg',\n",
              " '/content/flowers/black_eyed_susan/9612951904_e9b5e028c5_c.jpg',\n",
              " '/content/flowers/rose/34976179810_9735b1a602_c.jpg',\n",
              " '/content/flowers/iris/3438290390_1bcc6d06b9_c.jpg',\n",
              " '/content/flowers/common_daisy/48212743551_064d0e79cc_c.jpg',\n",
              " '/content/flowers/california_poppy/4572610331_6819de7f11_c.jpg',\n",
              " '/content/flowers/sunflower/5929156900_d80b8c2e00_c.jpg',\n",
              " '/content/flowers/carnation/49929801366_53d2ce0ee0_c.jpg',\n",
              " '/content/flowers/daffodil/2321873740_280e359c62_c.jpg',\n",
              " '/content/flowers/sunflower/3674331390_acb434b133_c.jpg',\n",
              " '/content/flowers/daffodil/5558378384_a3566d5466_c.jpg',\n",
              " '/content/flowers/water_lily/48324400856_aa5c4680a7_c.jpg',\n",
              " '/content/flowers/coreopsis/9488189263_f0792d4ebd_c.jpg',\n",
              " '/content/flowers/coreopsis/51713673515_e06fe611f9_c.jpg',\n",
              " '/content/flowers/tulip/14006612862_082a21f0be_c.jpg',\n",
              " '/content/flowers/calendula/9156246341_173351f7f5_c.jpg',\n",
              " '/content/flowers/tulip/8620286401_f8ced1a9cf_c.jpg',\n",
              " '/content/flowers/coreopsis/515870516_3dff650c35_c.jpg',\n",
              " '/content/flowers/coreopsis/215010044_dedc1b2c76_c.jpg',\n",
              " '/content/flowers/common_daisy/20430657420_381f264a92_c.jpg',\n",
              " '/content/flowers/rose/2277130885_3d7d4785f9_c.jpg',\n",
              " '/content/flowers/tulip/6946391500_5d4a90ed29_c.jpg',\n",
              " '/content/flowers/carnation/2236085649_86b9c062a1_c.jpg',\n",
              " '/content/flowers/black_eyed_susan/5962767168_22810b4ccc_c.jpg',\n",
              " '/content/flowers/calendula/51313930101_b09dce9e8c_c.jpg',\n",
              " '/content/flowers/carnation/6689449247_4cff58bd0b_c.jpg',\n",
              " '/content/flowers/sunflower/9245442958_833975e9db_c.jpg',\n",
              " '/content/flowers/calendula/9344165960_eeeac783a4_c.jpg',\n",
              " '/content/flowers/astilbe/9328521461_880d98c17c_c.jpg',\n",
              " '/content/flowers/calendula/32586435415_ccb4c2ce6f_c.jpg',\n",
              " '/content/flowers/coreopsis/2696000282_0c66cc46f5_c.jpg',\n",
              " '/content/flowers/tulip/1574033704_2b958a9e37_c.jpg',\n",
              " '/content/flowers/common_daisy/2315191700_89f9d773ba_c.jpg',\n",
              " '/content/flowers/calendula/49787973787_e09325737b_c.jpg',\n",
              " '/content/flowers/water_lily/20015923402_9f9fbc4b54_c.jpg',\n",
              " '/content/flowers/tulip/28871011900_29dac9189e_c.jpg',\n",
              " '/content/flowers/coreopsis/360120680_801a63e18d_c.jpg',\n",
              " '/content/flowers/dandelion/2830006385_bcb018d9f5_c.jpg',\n",
              " '/content/flowers/bellflower/36427938112_8f99ab8b8b_c.jpg',\n",
              " '/content/flowers/rose/7746115724_dd34c17cd9_c.jpg',\n",
              " '/content/flowers/california_poppy/50375566431_fdab6604cc_c.jpg',\n",
              " '/content/flowers/dandelion/4833059097_0a60a35990_c.jpg',\n",
              " '/content/flowers/california_poppy/49740332363_feeac89b14_c.jpg',\n",
              " '/content/flowers/common_daisy/4645239730_f222f0c3cc_c.jpg',\n",
              " '/content/flowers/sunflower/8079654222_04b01a1b5c_c.jpg',\n",
              " '/content/flowers/magnolia/25474415634_38f0df4850_c.jpg',\n",
              " '/content/flowers/tulip/4451285806_a34695f753_c.jpg',\n",
              " '/content/flowers/calendula/48369643582_86cd799d33_c.jpg',\n",
              " '/content/flowers/coreopsis/3741259944_1576cc6dde_c.jpg',\n",
              " '/content/flowers/carnation/1623616898_f59b327e93_c.jpg',\n",
              " '/content/flowers/iris/5628367400_63428ac3ee_c.jpg',\n",
              " '/content/flowers/iris/2068572654_2ac6e75412_c.jpg',\n",
              " '/content/flowers/astilbe/3730978582_05118b7f0e_c.jpg',\n",
              " '/content/flowers/calendula/5744707779_fd504580da_c.jpg',\n",
              " '/content/flowers/calendula/20885054503_8acc177287_c.jpg',\n",
              " '/content/flowers/iris/2662830057_92779189ff_c.jpg',\n",
              " '/content/flowers/carnation/32193123367_17fd6bd840_c.jpg',\n",
              " '/content/flowers/common_daisy/5744720689_7043c83c75_c.jpg',\n",
              " '/content/flowers/iris/14468739889_3dc5960979_c.jpg',\n",
              " '/content/flowers/magnolia/49659292037_cc067b4320_c.jpg',\n",
              " '/content/flowers/common_daisy/7172578282_ab173c84f9_c.jpg',\n",
              " '/content/flowers/coreopsis/9698908052_3efe77d242_c.jpg',\n",
              " '/content/flowers/common_daisy/51098516938_6d19ed51e4_c.jpg',\n",
              " '/content/flowers/astilbe/838142737_7223be4991_c.jpg',\n",
              " '/content/flowers/iris/32608003863_6183373d1d_c.jpg',\n",
              " '/content/flowers/bellflower/49873085383_c86ca4ca13_c.jpg',\n",
              " '/content/flowers/sunflower/43090308735_e6c9fb2f26_c.jpg',\n",
              " '/content/flowers/sunflower/2756946112_657cda5b86_c.jpg',\n",
              " '/content/flowers/carnation/2859803339_ebf3d2effa_c.jpg',\n",
              " '/content/flowers/water_lily/49730160003_31f1288993_c.jpg',\n",
              " '/content/flowers/calendula/509858107_47335d7628_c.jpg',\n",
              " '/content/flowers/tulip/4519691254_a05f3611aa_c.jpg',\n",
              " '/content/flowers/carnation/49988293471_d683abd904_c.jpg',\n",
              " '/content/flowers/common_daisy/29480241451_9d7c0efb0f_c.jpg',\n",
              " '/content/flowers/carnation/418127983_d3688bafda_c.jpg',\n",
              " '/content/flowers/daffodil/2361128498_6dfb7c02d9_c.jpg',\n",
              " '/content/flowers/calendula/5540492330_976aa524cd_c.jpg',\n",
              " '/content/flowers/tulip/4358820369_c0487c8257_c.jpg',\n",
              " '/content/flowers/common_daisy/8727136133_7590cf28f1_c.jpg',\n",
              " '/content/flowers/sunflower/1348631330_6bc6acc711_c.jpg',\n",
              " '/content/flowers/tulip/2897873399_82ac5314a7_c.jpg',\n",
              " '/content/flowers/black_eyed_susan/31300301_ef89cdee61_c.jpg',\n",
              " '/content/flowers/bellflower/4751634539_63fb5f405c_c.jpg',\n",
              " '/content/flowers/black_eyed_susan/4900324048_e107ffd177_c.jpg',\n",
              " '/content/flowers/calendula/3722312039_dacda70088_c.jpg',\n",
              " '/content/flowers/magnolia/5712743006_aab420a50a_c.jpg',\n",
              " '/content/flowers/water_lily/39863516211_207131410a_c.jpg',\n",
              " '/content/flowers/black_eyed_susan/3705648627_98cc4d10c5_c.jpg',\n",
              " '/content/flowers/coreopsis/5539905681_68388d19c7_c.jpg',\n",
              " '/content/flowers/carnation/49960216201_db0c404ddb_c.jpg',\n",
              " '/content/flowers/rose/4040414351_34930cb77d_c.jpg',\n",
              " '/content/flowers/dandelion/37129073762_4ff9c2f700_c.jpg',\n",
              " '/content/flowers/bellflower/4408442038_8995ac8323_c.jpg',\n",
              " '/content/flowers/daffodil/3356469966_3f36bb8f0f_c.jpg',\n",
              " '/content/flowers/sunflower/36477856201_f76b044390_c.jpg',\n",
              " '/content/flowers/dandelion/8652713930_37a1831d0d_c.jpg',\n",
              " '/content/flowers/common_daisy/22231490710_cdc21b4817_c.jpg',\n",
              " '/content/flowers/iris/5287247582_85edf02e1e_c.jpg',\n",
              " '/content/flowers/rose/9240977588_b6f3a48b90_c.jpg',\n",
              " '/content/flowers/daffodil/4557209079_f76080a04c_c.jpg',\n",
              " '/content/flowers/coreopsis/5891972909_c24dbd234f_c.jpg',\n",
              " '/content/flowers/california_poppy/51385005914_26aedf5402_c.jpg',\n",
              " '/content/flowers/black_eyed_susan/6088997016_6ff0da6d70_c.jpg',\n",
              " '/content/flowers/astilbe/5889139028_6977f9e95c_c.jpg',\n",
              " '/content/flowers/common_daisy/49235175547_72fe8350e9_c.jpg',\n",
              " '/content/flowers/iris/34189082423_919dbc0faa_c.jpg',\n",
              " '/content/flowers/rose/14582439834_73fa16a455_c.jpg',\n",
              " '/content/flowers/tulip/4591203919_4f94639c9d_c.jpg',\n",
              " '/content/flowers/rose/2738662757_18aca3f6b2_c.jpg',\n",
              " '/content/flowers/tulip/13913322562_2f89904a26_c.jpg',\n",
              " '/content/flowers/black_eyed_susan/7463896376_8aa509e8c3_c.jpg',\n",
              " '/content/flowers/rose/9574751632_b2cdc0c7a4_c.jpg',\n",
              " '/content/flowers/tulip/5488085135_82111d8506_c.jpg',\n",
              " '/content/flowers/rose/8739680755_082f3d6790_c.jpg',\n",
              " '/content/flowers/iris/8838320369_ddc4bcbf15_c.jpg',\n",
              " '/content/flowers/common_daisy/3557318358_422a9bd085_c.jpg',\n",
              " '/content/flowers/dandelion/7099059437_2ce701fa92_c.jpg',\n",
              " '/content/flowers/carnation/7324714440_d33b99546d_c.jpg',\n",
              " '/content/flowers/carnation/1532781770_0ffdeb0161_c.jpg',\n",
              " '/content/flowers/coreopsis/18919244658_c43d123869_c.jpg',\n",
              " '/content/flowers/sunflower/35806936571_78aa3c3ae5_c.jpg',\n",
              " '/content/flowers/common_daisy/8277921469_8bb4dc4763_c.jpg',\n",
              " '/content/flowers/bellflower/4995302846_3afacba2d0_c.jpg',\n",
              " '/content/flowers/common_daisy/51881061683_821b457cb1_c.jpg',\n",
              " '/content/flowers/common_daisy/1350813349_1cf8cd4d23_c.jpg',\n",
              " '/content/flowers/common_daisy/49234484218_eea446d7c5_c.jpg',\n",
              " '/content/flowers/calendula/51104439937_639c164c03_c.jpg',\n",
              " '/content/flowers/tulip/26347273022_a36891b642_c.jpg',\n",
              " '/content/flowers/dandelion/5564929006_1f9d0043a1_c.jpg',\n",
              " '/content/flowers/black_eyed_susan/708399937_feca4705d3_c.jpg',\n",
              " '/content/flowers/astilbe/27190279274_9cc993a553_c.jpg',\n",
              " '/content/flowers/astilbe/7488513330_9306be456e_c.jpg',\n",
              " '/content/flowers/iris/5651251780_aa3f65b87e_c.jpg',\n",
              " '/content/flowers/rose/37928335852_a97888e99b_c.jpg',\n",
              " '/content/flowers/daffodil/6977961809_32e1b4e7f5_c.jpg',\n",
              " '/content/flowers/water_lily/48420424381_72678216b7_c.jpg',\n",
              " '/content/flowers/common_daisy/49643393962_7ba35536ba_c.jpg',\n",
              " '/content/flowers/coreopsis/4753958744_a4580ddedd_c.jpg',\n",
              " '/content/flowers/black_eyed_susan/177906504_be8c41d56f_c.jpg',\n",
              " '/content/flowers/rose/18198881353_0a151996b7_c.jpg',\n",
              " '/content/flowers/magnolia/51937917901_2e412d9fc9_c.jpg',\n",
              " '/content/flowers/bellflower/8864355403_041cc35c46_c.jpg',\n",
              " '/content/flowers/dandelion/5721840339_9d8d0513ca_c.jpg',\n",
              " '/content/flowers/astilbe/5965435034_35c8c96f91_c.jpg',\n",
              " '/content/flowers/black_eyed_susan/2772739812_e56e5cae9a_c.jpg',\n",
              " '/content/flowers/sunflower/37108863471_a265dd804b_c.jpg',\n",
              " '/content/flowers/water_lily/50547912622_14f3d507cd_c.jpg',\n",
              " '/content/flowers/magnolia/46600060065_0939b49e8e_c.jpg',\n",
              " '/content/flowers/water_lily/50710073013_e30d7ecb1b_c.jpg',\n",
              " '/content/flowers/water_lily/2571887508_c20d6759c3_c.jpg',\n",
              " '/content/flowers/dandelion/14014689876_746f5879bb_c.jpg',\n",
              " '/content/flowers/california_poppy/18908988875_8574355776_c.jpg',\n",
              " '/content/flowers/calendula/424215544_9f6c9fb2bb_c.jpg',\n",
              " '/content/flowers/tulip/14086310525_347c809d3b_c.jpg',\n",
              " '/content/flowers/sunflower/1311186327_0a20d57890_c.jpg',\n",
              " '/content/flowers/coreopsis/7240917320_9896fb1a31_c.jpg',\n",
              " '/content/flowers/daffodil/4463909388_ac3d51d689_c.jpg',\n",
              " '/content/flowers/bellflower/3687856355_9e76ed8713_c.jpg',\n",
              " '/content/flowers/dandelion/545337120_8b66990810_c.jpg',\n",
              " '/content/flowers/carnation/50066720551_ff522453d0_c.jpg',\n",
              " '/content/flowers/california_poppy/14419254015_fcb8a1e49b_c.jpg',\n",
              " '/content/flowers/daffodil/130289196_37b49e5cae_c.jpg',\n",
              " '/content/flowers/tulip/5688042001_eaf187030e_c.jpg',\n",
              " '/content/flowers/california_poppy/33393534451_38853e681f_c.jpg',\n",
              " '/content/flowers/dandelion/5687464110_30fe169bc0_c.jpg',\n",
              " '/content/flowers/bellflower/34439981781_89ef16628f_c.jpg',\n",
              " '/content/flowers/magnolia/29817534924_ac15a8700b_c.jpg',\n",
              " '/content/flowers/tulip/8685013914_c0027d03d9_c.jpg',\n",
              " '/content/flowers/coreopsis/572767769_81e4f5505c_c.jpg',\n",
              " '/content/flowers/black_eyed_susan/28643839402_4a4234d855_c.jpg',\n",
              " '/content/flowers/iris/13966492170_5e3d6d8536_c.jpg',\n",
              " '/content/flowers/daffodil/4527964375_f7c188a848_c.jpg',\n",
              " '/content/flowers/rose/29400791081_16df87fac4_c.jpg',\n",
              " '/content/flowers/tulip/2442468117_de7ba496b9_c.jpg',\n",
              " '/content/flowers/sunflower/5040574292_84cf13c2a7_c.jpg',\n",
              " '/content/flowers/tulip/8739327284_9752117d71_c.jpg',\n",
              " '/content/flowers/tulip/4590708978_8a627d476c_c.jpg',\n",
              " '/content/flowers/bellflower/35926560645_8395dd62cb_c.jpg',\n",
              " '/content/flowers/bellflower/5919392374_8f492977d2_c.jpg',\n",
              " '/content/flowers/iris/20755904065_27f7b06818_c.jpg',\n",
              " '/content/flowers/dandelion/5351259523_f7791979ab_c.jpg',\n",
              " '/content/flowers/coreopsis/2558108038_7d33513a7c_c.jpg',\n",
              " '/content/flowers/bellflower/28345112466_fea7032ab1_c.jpg',\n",
              " '/content/flowers/dandelion/40428608440_64f0ee9f26_c.jpg',\n",
              " '/content/flowers/bellflower/50116378706_8325e072c9_c.jpg',\n",
              " '/content/flowers/rose/19590323778_b3a21bf062_c.jpg',\n",
              " '/content/flowers/daffodil/3461275384_a730676716_c.jpg',\n",
              " '/content/flowers/coreopsis/6078810812_319aafe0d4_c.jpg',\n",
              " '/content/flowers/sunflower/3712512460_2e49d469a7_c.jpg',\n",
              " '/content/flowers/carnation/6175206174_b4a92b5cb3_c.jpg',\n",
              " '/content/flowers/sunflower/3242438675_6037ba379e_c.jpg',\n",
              " '/content/flowers/dandelion/7117610713_9ed56287a1_c.jpg',\n",
              " '/content/flowers/iris/3644009115_b421ece4a5_c.jpg',\n",
              " '/content/flowers/california_poppy/48199974747_1270cf787f_c.jpg',\n",
              " '/content/flowers/california_poppy/49712404311_2065b78428_c.jpg',\n",
              " '/content/flowers/common_daisy/2493278038_4c9912951a_c.jpg',\n",
              " '/content/flowers/calendula/11620903604_a641169648_c.jpg',\n",
              " '/content/flowers/rose/26692486043_e6874c78f8_c.jpg',\n",
              " '/content/flowers/astilbe/41394266692_e522e5f250_c.jpg',\n",
              " '/content/flowers/astilbe/51361025462_c2ce3e81b5_c.jpg',\n",
              " '/content/flowers/tulip/7034620263_6c8a669b35_c.jpg',\n",
              " '/content/flowers/tulip/486322089_421629c6c7_c.jpg',\n",
              " '/content/flowers/water_lily/48629413906_3645f19021_c.jpg',\n",
              " '/content/flowers/black_eyed_susan/6060177097_59dc2a5dc9_c.jpg',\n",
              " '/content/flowers/water_lily/35860530476_9d04f48f81_c.jpg',\n",
              " '/content/flowers/astilbe/4315658329_0a92f9f9be_c.jpg',\n",
              " '/content/flowers/bellflower/7548269676_eb9769a81f_c.jpg',\n",
              " '/content/flowers/coreopsis/8030376995_b0f09324a7_c.jpg',\n",
              " '/content/flowers/common_daisy/302939882_1cc54ba23a_c.jpg',\n",
              " '/content/flowers/common_daisy/7450214204_93fe3f914f_c.jpg',\n",
              " '/content/flowers/sunflower/4827498255_164dec1514_c.jpg',\n",
              " '/content/flowers/sunflower/3603343240_5f025484b3_c.jpg',\n",
              " '/content/flowers/magnolia/26417229842_68557ba7e1_c.jpg',\n",
              " '/content/flowers/rose/30870215436_924ec54a9d_c.jpg',\n",
              " '/content/flowers/california_poppy/25284849336_103a2774e7_c.jpg',\n",
              " '/content/flowers/black_eyed_susan/1066371052_e91a857eb0_c.jpg',\n",
              " '/content/flowers/calendula/3386752743_e2015fe841_c.jpg',\n",
              " '/content/flowers/carnation/49757037826_a572d26482_c.jpg',\n",
              " '/content/flowers/magnolia/33265889744_d0345bdf55_c.jpg',\n",
              " '/content/flowers/iris/2572109745_4565fc7369_c.jpg',\n",
              " '/content/flowers/tulip/8483127401_556c3d0ff2_c.jpg',\n",
              " '/content/flowers/calendula/44806158851_15dc9c6f8a_c.jpg',\n",
              " '/content/flowers/bellflower/36845733753_8fe53c1522_c.jpg',\n",
              " '/content/flowers/common_daisy/5451513262_6855d630d2_c.jpg',\n",
              " '/content/flowers/water_lily/49246109686_408b9830dd_c.jpg',\n",
              " '/content/flowers/bellflower/5984955131_25634824e9_c.jpg',\n",
              " '/content/flowers/daffodil/3446540302_1be48008f3_c.jpg',\n",
              " '/content/flowers/california_poppy/51125280430_6320768c68_c.jpg',\n",
              " '/content/flowers/sunflower/7834276974_a3941b5f52_c.jpg',\n",
              " '/content/flowers/california_poppy/4933049579_c022098977_c.jpg',\n",
              " '/content/flowers/coreopsis/22094028273_be509799cb_c.jpg',\n",
              " '/content/flowers/calendula/3850054284_74debb76d7_c.jpg',\n",
              " '/content/flowers/rose/27488743173_93649f1788_c.jpg',\n",
              " '/content/flowers/calendula/48704773573_074ecbb0b5_c.jpg',\n",
              " '/content/flowers/california_poppy/14143120449_97f9a65dd4_c.jpg',\n",
              " '/content/flowers/coreopsis/18936891894_1f30b0f494_c.jpg',\n",
              " '/content/flowers/california_poppy/33341023371_3df0bd58e2_c.jpg',\n",
              " '/content/flowers/black_eyed_susan/4778529425_2bbdb93888_c.jpg',\n",
              " '/content/flowers/tulip/2430047970_d2e4e1514a_c.jpg',\n",
              " '/content/flowers/carnation/33496073173_63bd5988b0_c.jpg',\n",
              " '/content/flowers/california_poppy/28051193244_16c29f8ffc_c.jpg',\n",
              " '/content/flowers/daffodil/5568096928_1447e57b38_c.jpg',\n",
              " '/content/flowers/calendula/12232962685_9c55c1dbd6_c.jpg',\n",
              " '/content/flowers/calendula/218314442_8291ca7557_c.jpg',\n",
              " '/content/flowers/rose/30946435951_1b0e546681_c.jpg',\n",
              " '/content/flowers/california_poppy/48038598976_5b7cd1c76b_c.jpg',\n",
              " '/content/flowers/california_poppy/7161621800_bf34d17777_c.jpg',\n",
              " '/content/flowers/iris/8036053004_fbb4357757_c.jpg',\n",
              " '/content/flowers/rose/14527948525_161f140dc3_c.jpg',\n",
              " '/content/flowers/california_poppy/2385737081_22f67f7f97_c.jpg',\n",
              " '/content/flowers/california_poppy/5397412012_f3a4471e64_c.jpg',\n",
              " '/content/flowers/dandelion/24495245512_5a9852b0a8_c.jpg',\n",
              " ...]"
            ]
          },
          "metadata": {},
          "execution_count": 12
        }
      ]
    },
    {
      "cell_type": "markdown",
      "source": [
        "## **To show the image at 0th position**"
      ],
      "metadata": {
        "id": "hfT--qxuDOMx"
      }
    },
    {
      "cell_type": "code",
      "source": [
        "from PIL import Image\n",
        "img=Image.open(image_net[0])\n",
        "plt.imshow(img)"
      ],
      "metadata": {
        "id": "v3myXpPsBCFO",
        "colab": {
          "base_uri": "https://localhost:8080/",
          "height": 287
        },
        "outputId": "5f97374e-798d-4a73-abfe-1489f2ad83bd"
      },
      "execution_count": 13,
      "outputs": [
        {
          "output_type": "execute_result",
          "data": {
            "text/plain": [
              "<matplotlib.image.AxesImage at 0x7f1073fdf750>"
            ]
          },
          "metadata": {},
          "execution_count": 13
        },
        {
          "output_type": "display_data",
          "data": {
            "text/plain": [
              "<Figure size 432x288 with 1 Axes>"
            ],
            "image/png": "[encoded data removed]"
          },
          "metadata": {
            "needs_background": "light"
          }
        }
      ]
    },
    {
      "cell_type": "code",
      "source": [
        "np.array(img)"
      ],
      "metadata": {
        "id": "y7xBBKlPBPcN",
        "colab": {
          "base_uri": "https://localhost:8080/"
        },
        "outputId": "2129f8a1-5f9b-4795-dff9-7cad85af5aa9"
      },
      "execution_count": 14,
      "outputs": [
        {
          "output_type": "execute_result",
          "data": {
            "text/plain": [
              "array([[[  0,  62,   5],\n",
              "        [  0,  61,   4],\n",
              "        [  0,  58,   2],\n",
              "        ...,\n",
              "        [ 27,  87,  61],\n",
              "        [ 21,  89,  52],\n",
              "        [ 19,  84,  44]],\n",
              "\n",
              "       [[  0,  63,   3],\n",
              "        [  0,  61,   4],\n",
              "        [  0,  58,   2],\n",
              "        ...,\n",
              "        [ 26,  84,  60],\n",
              "        [ 20,  85,  51],\n",
              "        [ 20,  82,  43]],\n",
              "\n",
              "       [[  0,  63,   3],\n",
              "        [  0,  61,   4],\n",
              "        [  0,  58,   2],\n",
              "        ...,\n",
              "        [ 30,  82,  60],\n",
              "        [ 25,  84,  52],\n",
              "        [ 24,  81,  46]],\n",
              "\n",
              "       ...,\n",
              "\n",
              "       [[189, 178, 158],\n",
              "        [186, 175, 155],\n",
              "        [185, 172, 153],\n",
              "        ...,\n",
              "        [185,  54, 106],\n",
              "        [181,  48, 105],\n",
              "        [183,  48, 107]],\n",
              "\n",
              "       [[190, 177, 160],\n",
              "        [187, 174, 157],\n",
              "        [187, 171, 155],\n",
              "        ...,\n",
              "        [184,  53, 105],\n",
              "        [179,  46, 101],\n",
              "        [179,  44, 103]],\n",
              "\n",
              "       [[191, 178, 162],\n",
              "        [190, 174, 159],\n",
              "        [189, 171, 157],\n",
              "        ...,\n",
              "        [184,  53, 105],\n",
              "        [178,  45, 100],\n",
              "        [176,  41, 100]]], dtype=uint8)"
            ]
          },
          "metadata": {},
          "execution_count": 14
        }
      ]
    },
    {
      "cell_type": "code",
      "source": [
        "np.array(img).shape"
      ],
      "metadata": {
        "colab": {
          "base_uri": "https://localhost:8080/"
        },
        "id": "5aeTOZ7l7jTI",
        "outputId": "223930f4-1350-4701-f6bd-47c4ad19fdfd"
      },
      "execution_count": 15,
      "outputs": [
        {
          "output_type": "execute_result",
          "data": {
            "text/plain": [
              "(256, 256, 3)"
            ]
          },
          "metadata": {},
          "execution_count": 15
        }
      ]
    },
    {
      "cell_type": "code",
      "source": [
        "image_net[0][-5]"
      ],
      "metadata": {
        "id": "LZv3kMQNBQR9",
        "colab": {
          "base_uri": "https://localhost:8080/",
          "height": 36
        },
        "outputId": "09ad881b-5cf9-470b-fd69-7796f99aaf9b"
      },
      "execution_count": 16,
      "outputs": [
        {
          "output_type": "execute_result",
          "data": {
            "text/plain": [
              "'c'"
            ],
            "application/vnd.google.colaboratory.intrinsic+json": {
              "type": "string"
            }
          },
          "metadata": {},
          "execution_count": 16
        }
      ]
    },
    {
      "cell_type": "code",
      "source": [
        "!pip install cv"
      ],
      "metadata": {
        "colab": {
          "base_uri": "https://localhost:8080/"
        },
        "id": "dnM03_1K8BP9",
        "outputId": "793e5ea6-0d92-40b3-c4b0-2be62a28c523"
      },
      "execution_count": 17,
      "outputs": [
        {
          "output_type": "stream",
          "name": "stdout",
          "text": [
            "Looking in indexes: https://pypi.org/simple, https://us-python.pkg.dev/colab-wheels/public/simple/\n",
            "Requirement already satisfied: cv in /usr/local/lib/python3.7/dist-packages (1.0.0)\n"
          ]
        }
      ]
    },
    {
      "cell_type": "code",
      "source": [
        "import cv2"
      ],
      "metadata": {
        "id": "OXyW72Vv8BFG"
      },
      "execution_count": 18,
      "outputs": []
    },
    {
      "cell_type": "markdown",
      "source": [
        "## **For creating the X-train and Y_train**"
      ],
      "metadata": {
        "id": "0E0lna_aDeja"
      }
    },
    {
      "cell_type": "code",
      "source": [
        " X_train=np.zeros((len(image_net),256,256))\n",
        "i=0\n",
        "for tf in image_net:\n",
        "    im=cv2.imread(tf, cv2.IMREAD_GRAYSCALE)\n",
        "    image_train=cv2.resize(im,(256,256))\n",
        "    X_train[i,:,:]=image_train\n",
        "    i=i+1"
      ],
      "metadata": {
        "id": "nraAh7p98A50"
      },
      "execution_count": 19,
      "outputs": []
    },
    {
      "cell_type": "code",
      "source": [
        "X_train[0,:,:]"
      ],
      "metadata": {
        "colab": {
          "base_uri": "https://localhost:8080/"
        },
        "id": "dPbk018TALEW",
        "outputId": "6600c6c2-ca11-4374-e282-e7fd220133d0"
      },
      "execution_count": 20,
      "outputs": [
        {
          "output_type": "execute_result",
          "data": {
            "text/plain": [
              "array([[ 37.,  36.,  34., ...,  66.,  64.,  60.],\n",
              "       [ 37.,  36.,  34., ...,  64.,  62.,  59.],\n",
              "       [ 37.,  36.,  34., ...,  64.,  63.,  60.],\n",
              "       ...,\n",
              "       [179., 176., 174., ...,  99.,  94.,  95.],\n",
              "       [179., 176., 174., ...,  98.,  92.,  91.],\n",
              "       [180., 177., 175., ...,  98.,  91.,  88.]])"
            ]
          },
          "metadata": {},
          "execution_count": 20
        }
      ]
    },
    {
      "cell_type": "code",
      "source": [
        "from PIL import Image\n",
        "img1= Image.open(X_train[0,:,:])\n",
        "img1"
      ],
      "metadata": {
        "id": "QyQtEVa1AnXq",
        "colab": {
          "base_uri": "https://localhost:8080/",
          "height": 450
        },
        "outputId": "b836e09e-5d74-4fdb-85cc-faae8ce9753f"
      },
      "execution_count": 30,
      "outputs": [
        {
          "output_type": "error",
          "ename": "AttributeError",
          "evalue": "ignored",
          "traceback": [
            "\u001b[0;31m---------------------------------------------------------------------------\u001b[0m",
            "\u001b[0;31mAttributeError\u001b[0m                            Traceback (most recent call last)",
            "\u001b[0;32m/usr/local/lib/python3.7/dist-packages/PIL/Image.py\u001b[0m in \u001b[0;36mopen\u001b[0;34m(fp, mode)\u001b[0m\n\u001b[1;32m   2846\u001b[0m     \u001b[0;32mtry\u001b[0m\u001b[0;34m:\u001b[0m\u001b[0;34m\u001b[0m\u001b[0;34m\u001b[0m\u001b[0m\n\u001b[0;32m-> 2847\u001b[0;31m         \u001b[0mfp\u001b[0m\u001b[0;34m.\u001b[0m\u001b[0mseek\u001b[0m\u001b[0;34m(\u001b[0m\u001b[0;36m0\u001b[0m\u001b[0;34m)\u001b[0m\u001b[0;34m\u001b[0m\u001b[0;34m\u001b[0m\u001b[0m\n\u001b[0m\u001b[1;32m   2848\u001b[0m     \u001b[0;32mexcept\u001b[0m \u001b[0;34m(\u001b[0m\u001b[0mAttributeError\u001b[0m\u001b[0;34m,\u001b[0m \u001b[0mio\u001b[0m\u001b[0;34m.\u001b[0m\u001b[0mUnsupportedOperation\u001b[0m\u001b[0;34m)\u001b[0m\u001b[0;34m:\u001b[0m\u001b[0;34m\u001b[0m\u001b[0;34m\u001b[0m\u001b[0m\n",
            "\u001b[0;31mAttributeError\u001b[0m: 'numpy.ndarray' object has no attribute 'seek'",
            "\nDuring handling of the above exception, another exception occurred:\n",
            "\u001b[0;31mAttributeError\u001b[0m                            Traceback (most recent call last)",
            "\u001b[0;32m<ipython-input-30-60b70a301aaa>\u001b[0m in \u001b[0;36m<module>\u001b[0;34m()\u001b[0m\n\u001b[1;32m      1\u001b[0m \u001b[0;32mfrom\u001b[0m \u001b[0mPIL\u001b[0m \u001b[0;32mimport\u001b[0m \u001b[0mImage\u001b[0m\u001b[0;34m\u001b[0m\u001b[0;34m\u001b[0m\u001b[0m\n\u001b[0;32m----> 2\u001b[0;31m \u001b[0mimg1\u001b[0m\u001b[0;34m=\u001b[0m \u001b[0mImage\u001b[0m\u001b[0;34m.\u001b[0m\u001b[0mopen\u001b[0m\u001b[0;34m(\u001b[0m\u001b[0mX_train\u001b[0m\u001b[0;34m[\u001b[0m\u001b[0;36m0\u001b[0m\u001b[0;34m]\u001b[0m\u001b[0;34m)\u001b[0m\u001b[0;34m\u001b[0m\u001b[0;34m\u001b[0m\u001b[0m\n\u001b[0m\u001b[1;32m      3\u001b[0m \u001b[0mimg1\u001b[0m\u001b[0;34m\u001b[0m\u001b[0;34m\u001b[0m\u001b[0m\n",
            "\u001b[0;32m/usr/local/lib/python3.7/dist-packages/PIL/Image.py\u001b[0m in \u001b[0;36mopen\u001b[0;34m(fp, mode)\u001b[0m\n\u001b[1;32m   2847\u001b[0m         \u001b[0mfp\u001b[0m\u001b[0;34m.\u001b[0m\u001b[0mseek\u001b[0m\u001b[0;34m(\u001b[0m\u001b[0;36m0\u001b[0m\u001b[0;34m)\u001b[0m\u001b[0;34m\u001b[0m\u001b[0;34m\u001b[0m\u001b[0m\n\u001b[1;32m   2848\u001b[0m     \u001b[0;32mexcept\u001b[0m \u001b[0;34m(\u001b[0m\u001b[0mAttributeError\u001b[0m\u001b[0;34m,\u001b[0m \u001b[0mio\u001b[0m\u001b[0;34m.\u001b[0m\u001b[0mUnsupportedOperation\u001b[0m\u001b[0;34m)\u001b[0m\u001b[0;34m:\u001b[0m\u001b[0;34m\u001b[0m\u001b[0;34m\u001b[0m\u001b[0m\n\u001b[0;32m-> 2849\u001b[0;31m         \u001b[0mfp\u001b[0m \u001b[0;34m=\u001b[0m \u001b[0mio\u001b[0m\u001b[0;34m.\u001b[0m\u001b[0mBytesIO\u001b[0m\u001b[0;34m(\u001b[0m\u001b[0mfp\u001b[0m\u001b[0;34m.\u001b[0m\u001b[0mread\u001b[0m\u001b[0;34m(\u001b[0m\u001b[0;34m)\u001b[0m\u001b[0;34m)\u001b[0m\u001b[0;34m\u001b[0m\u001b[0;34m\u001b[0m\u001b[0m\n\u001b[0m\u001b[1;32m   2850\u001b[0m         \u001b[0mexclusive_fp\u001b[0m \u001b[0;34m=\u001b[0m \u001b[0;32mTrue\u001b[0m\u001b[0;34m\u001b[0m\u001b[0;34m\u001b[0m\u001b[0m\n\u001b[1;32m   2851\u001b[0m \u001b[0;34m\u001b[0m\u001b[0m\n",
            "\u001b[0;31mAttributeError\u001b[0m: 'numpy.ndarray' object has no attribute 'read'"
          ]
        }
      ]
    }
  ]
}