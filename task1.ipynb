{
  "cells": [
    {
      "cell_type": "markdown",
      "metadata": {
        "id": "view-in-github",
        "colab_type": "text"
      },
      "source": [
        "<a href=\"https://colab.research.google.com/github/antariksh2648/Is-the-road-safe-assignment_PClub/blob/main/task1.ipynb\" target=\"_parent\"><img src=\"https://colab.research.google.com/assets/colab-badge.svg\" alt=\"Open In Colab\"/></a>"
      ]
    },
    {
      "cell_type": "markdown",
      "id": "18363b62",
      "metadata": {
        "id": "18363b62"
      },
      "source": [
        "### Your task is to explain the functioning of each line in the following notebook an example is given "
      ]
    },
    {
      "cell_type": "code",
      "execution_count": null,
      "id": "92af417e",
      "metadata": {
        "id": "92af417e"
      },
      "outputs": [],
      "source": [
        "import tensorflow as tf  #this is used to import tensorflow for model creation and updating\n",
        "import pandas as pd #It is used to access the methods of numpy and matplotlib libraries smoothly with less code\n",
        "import numpy as np # It is used to work and build the arrays"
      ]
    },
    {
      "cell_type": "code",
      "execution_count": null,
      "id": "3b17c7a7",
      "metadata": {
        "id": "3b17c7a7"
      },
      "outputs": [],
      "source": [
        "import keras # They provide pre-trained model for deep neural networks & are used for prediction, feature extraction and fine tuning. "
      ]
    },
    {
      "cell_type": "code",
      "execution_count": null,
      "id": "c957f51b",
      "metadata": {
        "id": "c957f51b"
      },
      "outputs": [],
      "source": [
        "import glob # It is used to return all file paths that match a specific pattern"
      ]
    },
    {
      "cell_type": "code",
      "execution_count": null,
      "id": "aedc6462",
      "metadata": {
        "id": "aedc6462"
      },
      "outputs": [],
      "source": [
        "train_files=glob.glob('C:/Users/ashut/Downloads/archive (1)/flowers/daisy/*') #It is used to retrieve paths recursively from inside the directories/files and subdirectories/subfiles."
      ]
    },
    {
      "cell_type": "code",
      "execution_count": null,
      "id": "d5705e30",
      "metadata": {
        "colab": {
          "base_uri": "https://localhost:8080/"
        },
        "id": "d5705e30",
        "outputId": "419bdb1d-3458-4aaf-e858-d8be30a22d96"
      },
      "outputs": [
        {
          "output_type": "execute_result",
          "data": {
            "text/plain": [
              "[]"
            ]
          },
          "metadata": {},
          "execution_count": 6
        }
      ],
      "source": [
        "train_files #It is used to get all the files stored in the above mentioned path"
      ]
    },
    {
      "cell_type": "code",
      "execution_count": null,
      "id": "e37305dd",
      "metadata": {
        "id": "e37305dd"
      },
      "outputs": [],
      "source": [
        " train_files[0] # This shows the file stored at zeroth index of the list"
      ]
    },
    {
      "cell_type": "code",
      "execution_count": null,
      "id": "2d661235",
      "metadata": {
        "id": "2d661235"
      },
      "outputs": [],
      "source": [
        "import matplotlib.pyplot as plt #The image module in Matplotlib package provides functionalities required for loading, rescaling and displaying image.\n",
        "from PIL import Image #To load the image, we simply import the Image module from the PIL(that provides support for opening, manipulating, and saving many different image file formats) "
      ]
    },
    {
      "cell_type": "code",
      "execution_count": null,
      "id": "6555e55a",
      "metadata": {
        "id": "6555e55a"
      },
      "outputs": [],
      "source": [
        "img1=Image.open(train_files[0])  # Here we are calling the Image.open(), passing the image filename."
      ]
    },
    {
      "cell_type": "code",
      "execution_count": null,
      "id": "d943c872",
      "metadata": {
        "id": "d943c872"
      },
      "outputs": [],
      "source": [
        "img1 #It simply prints the image stored at given argument ie.(train_files[0])."
      ]
    },
    {
      "cell_type": "code",
      "source": [
        "img1_array=np.array(img1) #NumPy uses the np.array function to convert PIL images into NumPy arrays. The asarray() class also produce the same result. "
      ],
      "metadata": {
        "id": "LzklSHHNye4y"
      },
      "id": "LzklSHHNye4y",
      "execution_count": null,
      "outputs": []
    },
    {
      "cell_type": "code",
      "execution_count": null,
      "id": "e5352bdb",
      "metadata": {
        "id": "e5352bdb"
      },
      "outputs": [],
      "source": [
        "print( img1_array.shape) #To summarize the shape of the array created.Here we have height=263,width=320 and 3 other RGB components\n",
        "print(img1_array) #To print the array"
      ]
    }
  ],
  "metadata": {
    "kernelspec": {
      "display_name": "Python 3 (ipykernel)",
      "language": "python",
      "name": "python3"
    },
    "language_info": {
      "codemirror_mode": {
        "name": "ipython",
        "version": 3
      },
      "file_extension": ".py",
      "mimetype": "text/x-python",
      "name": "python",
      "nbconvert_exporter": "python",
      "pygments_lexer": "ipython3",
      "version": "3.9.7"
    },
    "colab": {
      "name": "task1.ipynb",
      "provenance": [],
      "collapsed_sections": [],
      "include_colab_link": true
    }
  },
  "nbformat": 4,
  "nbformat_minor": 5
}