{
  "nbformat": 4,
  "nbformat_minor": 0,
  "metadata": {
    "colab": {
      "name": "Task_5.ipynb",
      "provenance": [],
      "authorship_tag": "ABX9TyNxEdbTVkhZ5K+iitMehVQx",
      "include_colab_link": true
    },
    "kernelspec": {
      "name": "python3",
      "display_name": "Python 3"
    },
    "language_info": {
      "name": "python"
    },
    "gpuClass": "standard"
  },
  "cells": [
    {
      "cell_type": "markdown",
      "metadata": {
        "id": "view-in-github",
        "colab_type": "text"
      },
      "source": [
        "<a href=\"https://colab.research.google.com/github/antariksh2648/Is-the-road-safe-assignment_PClub/blob/main/Task_5.ipynb\" target=\"_parent\"><img src=\"https://colab.research.google.com/assets/colab-badge.svg\" alt=\"Open In Colab\"/></a>"
      ]
    },
    {
      "cell_type": "markdown",
      "source": [
        "## **Importing the Dataset from kaggle**"
      ],
      "metadata": {
        "id": "voCQ1JSVCjIu"
      }
    },
    {
      "cell_type": "code",
      "execution_count": 1,
      "metadata": {
        "id": "VAQLv03RYRdy"
      },
      "outputs": [],
      "source": [
        "!pip install -q kaggle"
      ]
    },
    {
      "cell_type": "code",
      "source": [
        "from google.colab import files\n",
        "files.upload()"
      ],
      "metadata": {
        "colab": {
          "resources": {
            "http://localhost:8080/nbextensions/google.colab/files.js": {
              "data": "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",
              "ok": true,
              "headers": [
                [
                  "content-type",
                  "application/javascript"
                ]
              ],
              "status": 200,
              "status_text": ""
            }
          },
          "base_uri": "https://localhost:8080/",
          "height": 92
        },
        "id": "AfQgxMyNZZ4i",
        "outputId": "111349ad-c149-4465-ce40-0301fdb9bfca"
      },
      "execution_count": 2,
      "outputs": [
        {
          "output_type": "display_data",
          "data": {
            "text/plain": [
              "<IPython.core.display.HTML object>"
            ],
            "text/html": [
              "\n",
              "     <input type=\"file\" id=\"files-8e44434b-e183-47fc-91a5-f3215a39aa46\" name=\"files[]\" multiple disabled\n",
              "        style=\"border:none\" />\n",
              "     <output id=\"result-8e44434b-e183-47fc-91a5-f3215a39aa46\">\n",
              "      Upload widget is only available when the cell has been executed in the\n",
              "      current browser session. Please rerun this cell to enable.\n",
              "      </output>\n",
              "      <script src=\"/nbextensions/google.colab/files.js\"></script> "
            ]
          },
          "metadata": {}
        },
        {
          "output_type": "stream",
          "name": "stdout",
          "text": [
            "Saving kaggle.json to kaggle.json\n"
          ]
        },
        {
          "output_type": "execute_result",
          "data": {
            "text/plain": [
              "{'kaggle.json': b'{\"username\":\"antarikshchoudhary\",\"key\":\"d00bb3e89e3f3f2d10083fbf8a2dca6a\"}'}"
            ]
          },
          "metadata": {},
          "execution_count": 2
        }
      ]
    },
    {
      "cell_type": "code",
      "source": [
        "! mkdir ~/.kaggle"
      ],
      "metadata": {
        "id": "pzJwy5ykZZ7Q"
      },
      "execution_count": 3,
      "outputs": []
    },
    {
      "cell_type": "code",
      "source": [
        "! cp kaggle.json ~/.kaggle/"
      ],
      "metadata": {
        "id": "OzD1-LyLZZ-y"
      },
      "execution_count": 4,
      "outputs": []
    },
    {
      "cell_type": "code",
      "source": [
        "! chmod 600 ~/.kaggle/kaggle.json"
      ],
      "metadata": {
        "id": "V9wWDBwSZaHQ"
      },
      "execution_count": 5,
      "outputs": []
    },
    {
      "cell_type": "code",
      "source": [
        "! kaggle datasets list"
      ],
      "metadata": {
        "colab": {
          "base_uri": "https://localhost:8080/"
        },
        "id": "36DtWm36ZaKn",
        "outputId": "c56fbdd2-e556-40c5-a71f-03983949baf8"
      },
      "execution_count": 6,
      "outputs": [
        {
          "output_type": "stream",
          "name": "stdout",
          "text": [
            "ref                                                       title                                               size  lastUpdated          downloadCount  voteCount  usabilityRating  \n",
            "--------------------------------------------------------  -------------------------------------------------  -----  -------------------  -------------  ---------  ---------------  \n",
            "ruchi798/data-science-job-salaries                        Data Science Job Salaries                            7KB  2022-06-15 08:59:12           6107        206  1.0              \n",
            "surajjha101/bigbasket-entire-product-list-28k-datapoints  BigBasket Entire Product List (~28K datapoints)      6MB  2022-06-22 12:51:18           1918         86  1.0              \n",
            "victorsoeiro/netflix-tv-shows-and-movies                  Netflix TV Shows and Movies                          2MB  2022-05-15 00:01:23          16575        481  1.0              \n",
            "sameepvani/nasa-nearest-earth-objects                     NASA - Nearest Earth Objects                         7MB  2022-06-17 02:32:18           2312        108  1.0              \n",
            "zusmani/petrolgas-prices-worldwide                        Petrol/Gas Prices Worldwide                         10KB  2022-06-24 01:25:33           2221        108  1.0              \n",
            "mukuldeshantri/ecommerce-fashion-dataset                  E-commerce Dataset with 30K Products               546KB  2022-07-08 12:28:18            577         26  1.0              \n",
            "jimschacko/airlines-dataset-to-predict-a-delay            Airlines Dataset to predict a delay                  6MB  2022-06-21 05:45:44           2057         61  1.0              \n",
            "iamsouravbanerjee/nifty500-stocks-dataset                 Stock Market Dataset (NIFTY-500)                    35KB  2022-07-17 11:46:10            648         54  1.0              \n",
            "zusmani/pakistans-national-assembly-attendance-20182022   Pakistan's National Assembly Attendance 2018-2022    2MB  2022-07-15 03:33:32            241         29  0.88235295       \n",
            "dansbecker/melbourne-housing-snapshot                     Melbourne Housing Snapshot                         451KB  2018-06-05 12:52:24          91114       1108  0.7058824        \n",
            "ramjasmaurya/1-gb-internet-price                          Internet Prices around 200+ countries in 2022.      22KB  2022-07-17 02:56:12           1098         39  0.9705882        \n",
            "datasnaek/youtube-new                                     Trending YouTube Video Statistics                  201MB  2019-06-03 00:56:47         179227       4599  0.7941176        \n",
            "zynicide/wine-reviews                                     Wine Reviews                                        51MB  2017-11-27 17:08:04         163055       3335  0.7941176        \n",
            "deepcontractor/car-price-prediction-challenge             Car Price Prediction Challenge                     429KB  2022-07-06 11:38:32            518         40  0.9411765        \n",
            "devansodariya/student-performance-data                    Student Performance Dataset                          7KB  2022-05-26 13:55:09           9676        251  0.9705882        \n",
            "datasnaek/chess                                           Chess Game Dataset (Lichess)                         3MB  2017-09-04 03:09:09          30466       1018  0.8235294        \n",
            "rtatman/188-million-us-wildfires                          1.88 Million US Wildfires                          168MB  2020-05-12 21:03:49          20703       1018  0.8235294        \n",
            "residentmario/ramen-ratings                               Ramen Ratings                                       40KB  2018-01-11 16:04:39          34819        792  0.7058824        \n",
            "dansbecker/powerlifting-database                          powerlifting-database                                9MB  2019-04-30 21:07:41           4919         59  0.5882353        \n",
            "jpmiller/publicassistance                                 US Public Food Assistance                          703KB  2020-08-21 16:51:18          16623        395  0.9117647        \n"
          ]
        }
      ]
    },
    {
      "cell_type": "code",
      "source": [
        "! kaggle datasets download -d l3llff/flowers"
      ],
      "metadata": {
        "colab": {
          "base_uri": "https://localhost:8080/"
        },
        "id": "SGFwD6kiaLOW",
        "outputId": "d7b11d20-c1bb-4a37-c5e7-9d03697951a0"
      },
      "execution_count": 7,
      "outputs": [
        {
          "output_type": "stream",
          "name": "stdout",
          "text": [
            "Downloading flowers.zip to /content\n",
            " 99% 225M/228M [00:16<00:00, 18.1MB/s]\n",
            "100% 228M/228M [00:16<00:00, 14.1MB/s]\n"
          ]
        }
      ]
    },
    {
      "cell_type": "code",
      "source": [
        "! unzip flowers.zip"
      ],
      "metadata": {
        "id": "HZYAgdkAaL-d"
      },
      "execution_count": null,
      "outputs": []
    },
    {
      "cell_type": "markdown",
      "source": [
        "## **Importing all the required libraries**"
      ],
      "metadata": {
        "id": "FbD0_WQ7Cx7e"
      }
    },
    {
      "cell_type": "code",
      "source": [
        "import tensorflow as tf  \n",
        "import pandas as pd\n",
        "import numpy as np\n",
        "import matplotlib.pyplot as plt\n",
        "import keras\n",
        "import glob\n",
        "import os"
      ],
      "metadata": {
        "id": "l09Yz3Euaf29"
      },
      "execution_count": 2,
      "outputs": []
    },
    {
      "cell_type": "markdown",
      "source": [
        "## **Importing all the files using glob**"
      ],
      "metadata": {
        "id": "6xeLQ2b9C6yJ"
      }
    },
    {
      "cell_type": "code",
      "source": [
        "image_net = glob.glob(\"/content/flowers/*/**\")"
      ],
      "metadata": {
        "id": "qPfAgb_3af73"
      },
      "execution_count": 3,
      "outputs": []
    },
    {
      "cell_type": "code",
      "source": [
        "len(image_net)"
      ],
      "metadata": {
        "colab": {
          "base_uri": "https://localhost:8080/"
        },
        "id": "UyjNnx9T_9tZ",
        "outputId": "df115887-5da1-4910-9b6c-b400faf63185"
      },
      "execution_count": 4,
      "outputs": [
        {
          "output_type": "execute_result",
          "data": {
            "text/plain": [
              "15740"
            ]
          },
          "metadata": {},
          "execution_count": 4
        }
      ]
    },
    {
      "cell_type": "markdown",
      "source": [
        "## **Randomising the sample**"
      ],
      "metadata": {
        "id": "IFQHN9sCDEhH"
      }
    },
    {
      "cell_type": "code",
      "source": [
        "from random import shuffle\n",
        "shuffle(image_net)\n",
        "image_net"
      ],
      "metadata": {
        "id": "aDYrdQkt_9w6",
        "colab": {
          "base_uri": "https://localhost:8080/"
        },
        "outputId": "32db450e-28c1-4f06-c3d3-27da6bbbbdd4"
      },
      "execution_count": 5,
      "outputs": [
        {
          "output_type": "execute_result",
          "data": {
            "text/plain": [
              "['/content/flowers/magnolia/41240836395_8060d6dae6_c.jpg',\n",
              " '/content/flowers/astilbe/6006836018_b0572a2904_c.jpg',\n",
              " '/content/flowers/magnolia/3440336907_e78a6e0be3_c.jpg',\n",
              " '/content/flowers/black_eyed_susan/1222886008_3fb639e13d_c.jpg',\n",
              " '/content/flowers/iris/7097465915_bf0035fd3e_c.jpg',\n",
              " '/content/flowers/california_poppy/49709532401_139ba45d6f_c.jpg',\n",
              " '/content/flowers/water_lily/35568806941_20091fd6ae_c.jpg',\n",
              " '/content/flowers/rose/14480749258_2e089a43f6_c.jpg',\n",
              " '/content/flowers/coreopsis/18706611654_3fed922242_c.jpg',\n",
              " '/content/flowers/rose/14868991779_87e3eb76a2_c.jpg',\n",
              " '/content/flowers/common_daisy/8446147377_067742ecf6_c.jpg',\n",
              " '/content/flowers/dandelion/26597673314_a7e4ffbdf2_c.jpg',\n",
              " '/content/flowers/iris/40612282010_ed276b3892_c.jpg',\n",
              " '/content/flowers/california_poppy/49718016483_624fe4bd54_c.jpg',\n",
              " '/content/flowers/coreopsis/7898242078_f2d0688ac1_c.jpg',\n",
              " '/content/flowers/sunflower/15496328905_d861e28d46_c.jpg',\n",
              " '/content/flowers/carnation/515830608_4e2649ab39_c.jpg',\n",
              " '/content/flowers/magnolia/33808921245_3b1ff551d6_c.jpg',\n",
              " '/content/flowers/magnolia/3429140831_6f6901cbcb_c.jpg',\n",
              " '/content/flowers/coreopsis/30053256685_214566bdab_c.jpg',\n",
              " '/content/flowers/california_poppy/9256227703_f19672e448_c.jpg',\n",
              " '/content/flowers/astilbe/50684530518_5365f0162c_c.jpg',\n",
              " '/content/flowers/carnation/3647683921_f655f75f69_c.jpg',\n",
              " '/content/flowers/carnation/96711528_3268218e4d_c.jpg',\n",
              " '/content/flowers/astilbe/19704381156_0f3678b5db_c.jpg',\n",
              " '/content/flowers/bellflower/35485777771_05e7331f11_c.jpg',\n",
              " '/content/flowers/carnation/8685424263_8d088914ab_c.jpg',\n",
              " '/content/flowers/iris/8768093486_21c39ab950_c.jpg',\n",
              " '/content/flowers/calendula/33209602410_a3f22fbc0d_c.jpg',\n",
              " '/content/flowers/magnolia/26958840878_7e494e2cc5_c.jpg',\n",
              " '/content/flowers/carnation/5886423176_8bf1031ea9_c.jpg',\n",
              " '/content/flowers/common_daisy/5907021360_713b26145c_c.jpg',\n",
              " '/content/flowers/daffodil/40676057833_0a34ce63cf_c.jpg',\n",
              " '/content/flowers/black_eyed_susan/9302996966_fe0d214841_c.jpg',\n",
              " '/content/flowers/dandelion/8404455290_773a4161bc_c.jpg',\n",
              " '/content/flowers/iris/6336045269_48c92efc66_c.jpg',\n",
              " '/content/flowers/astilbe/8512808629_20862d5a81_c.jpg',\n",
              " '/content/flowers/water_lily/50320434283_494957506a_c.jpg',\n",
              " '/content/flowers/magnolia/49713204397_e097ff217a_c.jpg',\n",
              " '/content/flowers/tulip/16859971794_531987bfc2_c.jpg',\n",
              " '/content/flowers/dandelion/4541771357_1dd8387f68_c.jpg',\n",
              " '/content/flowers/water_lily/492872809_d626dfe493_c.jpg',\n",
              " '/content/flowers/dandelion/157784486_bbb5fa345c_c.jpg',\n",
              " '/content/flowers/common_daisy/8499199429_64dd1f5d77_c.jpg',\n",
              " '/content/flowers/sunflower/35020175342_c6cb8a215a_c.jpg',\n",
              " '/content/flowers/astilbe/213351172_f845728d7d_c.jpg',\n",
              " '/content/flowers/astilbe/2657414799_e677965acb_c.jpg',\n",
              " '/content/flowers/black_eyed_susan/2848047547_5d86b7a99b_c.jpg',\n",
              " '/content/flowers/water_lily/47791753331_a71e35cc09_c.jpg',\n",
              " '/content/flowers/water_lily/51341147467_b9491ec66e_c.jpg',\n",
              " '/content/flowers/astilbe/3714233973_c745fe0c21_c.jpg',\n",
              " '/content/flowers/california_poppy/51718657152_0f443890d0_c.jpg',\n",
              " '/content/flowers/carnation/3517516291_b4a1baf85c_c.jpg',\n",
              " '/content/flowers/daffodil/13670053284_b5ec6e94fa_c.jpg',\n",
              " '/content/flowers/calendula/5962768749_a82eece8a7_c.jpg',\n",
              " '/content/flowers/calendula/6821294078_21832bd311_c.jpg',\n",
              " '/content/flowers/tulip/17535699379_6d230c47f2_c.jpg',\n",
              " '/content/flowers/bellflower/7643270364_816dd05ccc_c.jpg',\n",
              " '/content/flowers/sunflower/32541652434_71faabd412_c.jpg',\n",
              " '/content/flowers/dandelion/7342196450_62fa1a39ac_c.jpg',\n",
              " '/content/flowers/bellflower/3654323715_2a7864fa7c_c.jpg',\n",
              " '/content/flowers/coreopsis/5783328387_c629ed46d1_c.jpg',\n",
              " '/content/flowers/coreopsis/7682781430_2aa63a4fb9_c.jpg',\n",
              " '/content/flowers/rose/17923058340_f148d321e3_c.jpg',\n",
              " '/content/flowers/coreopsis/2625785143_420e653df2_c.jpg',\n",
              " '/content/flowers/carnation/51794112098_a48f35b16b_c.jpg',\n",
              " '/content/flowers/california_poppy/49762351148_ab49890575_c.jpg',\n",
              " '/content/flowers/bellflower/2706931228_2460e128ba_c.jpg',\n",
              " '/content/flowers/magnolia/49652390582_3c1787da5b_c.jpg',\n",
              " '/content/flowers/dandelion/3520052956_090ae26cbf_c.jpg',\n",
              " '/content/flowers/common_daisy/5973995998_fafe6fce60_c.jpg',\n",
              " '/content/flowers/california_poppy/3457939092_0f9cf343cc_c.jpg',\n",
              " '/content/flowers/calendula/16126066442_b1bd9ef37e_c.jpg',\n",
              " '/content/flowers/sunflower/7861765000_6b97afb457_c.jpg',\n",
              " '/content/flowers/iris/2419589660_80b6084bfc_c.jpg',\n",
              " '/content/flowers/astilbe/22085360_5eb0196960_c.jpg',\n",
              " '/content/flowers/dandelion/46817320365_89d1c3159f_c.jpg',\n",
              " '/content/flowers/california_poppy/50003565201_e961420926_c.jpg',\n",
              " '/content/flowers/common_daisy/5843689657_c43c6b1fce_c.jpg',\n",
              " '/content/flowers/common_daisy/41498917321_2fd0583f22_c.jpg',\n",
              " '/content/flowers/coreopsis/2625784601_0c3cab8522_c.jpg',\n",
              " '/content/flowers/common_daisy/14440946490_25b06c6712_c.jpg',\n",
              " '/content/flowers/sunflower/3808738829_4c6488f88b_c.jpg',\n",
              " '/content/flowers/sunflower/2849071067_b3bce3bd42_c.jpg',\n",
              " '/content/flowers/coreopsis/531575665_7c8354d876_c.jpg',\n",
              " '/content/flowers/california_poppy/9565862787_39ed8328f6_c.jpg',\n",
              " '/content/flowers/black_eyed_susan/2705552544_2ccd467887_c.jpg',\n",
              " '/content/flowers/rose/610912889_f16f2b825f_c.jpg',\n",
              " '/content/flowers/coreopsis/15161893822_b2655f9b58_c.jpg',\n",
              " '/content/flowers/california_poppy/25021968959_edf7bab989_c.jpg',\n",
              " '/content/flowers/iris/41077428225_69b76c27c5_c.jpg',\n",
              " '/content/flowers/california_poppy/8627384137_3ef456f755_c.jpg',\n",
              " '/content/flowers/sunflower/6031710913_898a606c9c_c.jpg',\n",
              " '/content/flowers/rose/26958733230_efa21b24c2_c.jpg',\n",
              " '/content/flowers/bellflower/2694678933_7c39b05ea5_c.jpg',\n",
              " '/content/flowers/sunflower/774458446_a6157e9f6e_c.jpg',\n",
              " '/content/flowers/common_daisy/5994152271_093eca0615_c.jpg',\n",
              " '/content/flowers/common_daisy/28016863185_4a6cc8c790_c.jpg',\n",
              " '/content/flowers/bellflower/4741421700_0e6dfab6e9_c.jpg',\n",
              " '/content/flowers/astilbe/51849580485_7b4aba04bd_c.jpg',\n",
              " '/content/flowers/magnolia/3415214068_f3b65f5e48_c.jpg',\n",
              " '/content/flowers/bellflower/29419015563_bfb22ec6ce_c.jpg',\n",
              " '/content/flowers/daffodil/4481213709_877e120fcc_c.jpg',\n",
              " '/content/flowers/daffodil/13255168_fc903e68e8_c.jpg',\n",
              " '/content/flowers/rose/15212091776_f24a0fe783_c.jpg',\n",
              " '/content/flowers/common_daisy/49683159926_f685690831_c.jpg',\n",
              " '/content/flowers/dandelion/2470913995_ed24771daa_c.jpg',\n",
              " '/content/flowers/carnation/21075436111_613be1fc9c_c.jpg',\n",
              " '/content/flowers/rose/8198458828_db627ac431_c.jpg',\n",
              " '/content/flowers/carnation/26051774624_f40fb2678c_c.jpg',\n",
              " '/content/flowers/coreopsis/7759972764_e98306d737_c.jpg',\n",
              " '/content/flowers/california_poppy/14188300492_f7b0010a19_c.jpg',\n",
              " '/content/flowers/water_lily/8738038191_6ec4b02102_c.jpg',\n",
              " '/content/flowers/rose/29019347750_06621fb6bf_c.jpg',\n",
              " '/content/flowers/sunflower/2441221737_4ea07c6aa2_c.jpg',\n",
              " '/content/flowers/bellflower/4902485978_46c386cb13_c.jpg',\n",
              " '/content/flowers/bellflower/19987092791_c5dd1914ed_c.jpg',\n",
              " '/content/flowers/daffodil/13697026764_2aacebeec0_c.jpg',\n",
              " '/content/flowers/california_poppy/51126380151_d92c372953_c.jpg',\n",
              " '/content/flowers/bellflower/6916859835_11dc513d49_c.jpg',\n",
              " '/content/flowers/california_poppy/34293070035_38ffa04183_c.jpg',\n",
              " '/content/flowers/sunflower/27929274834_26453bbd6d_c.jpg',\n",
              " '/content/flowers/calendula/4705532831_1e7ca22fbf_c.jpg',\n",
              " '/content/flowers/daffodil/4497093643_f40bc5ae58_c.jpg',\n",
              " '/content/flowers/black_eyed_susan/9392895049_ff6c8a249f_c.jpg',\n",
              " '/content/flowers/dandelion/8681169853_1559a607b2_c.jpg',\n",
              " '/content/flowers/sunflower/45203405961_4d327bc459_c.jpg',\n",
              " '/content/flowers/calendula/3907944157_ab741171f3_c.jpg',\n",
              " '/content/flowers/water_lily/49413145137_8cd3dd3280_c.jpg',\n",
              " '/content/flowers/carnation/3349954387_c6daffe484_c.jpg',\n",
              " '/content/flowers/calendula/4050506062_bd9a466822_c.jpg',\n",
              " '/content/flowers/sunflower/4859972908_4ceb3c2813_c.jpg',\n",
              " '/content/flowers/magnolia/49842346011_4098f1a5a6_c.jpg',\n",
              " '/content/flowers/daffodil/3375518658_ffecdac45a_c.jpg',\n",
              " '/content/flowers/bellflower/7532245758_d8dd2c54d7_c.jpg',\n",
              " '/content/flowers/daffodil/16386341877_67d0d3a2f2_c.jpg',\n",
              " '/content/flowers/tulip/6793660853_d2eae0e94c_c.jpg',\n",
              " '/content/flowers/dandelion/30800040467_b4155ef203_c.jpg',\n",
              " '/content/flowers/daffodil/33711867725_ea4f70d893_c.jpg',\n",
              " '/content/flowers/coreopsis/7218630452_fddbd9a2b1_c.jpg',\n",
              " '/content/flowers/dandelion/22376600444_e54579503c_c.jpg',\n",
              " '/content/flowers/water_lily/28026009903_33816bd189_c.jpg',\n",
              " '/content/flowers/iris/26849459003_ea45c2189b_c.jpg',\n",
              " '/content/flowers/sunflower/14729633885_98ea14fb5d_c.jpg',\n",
              " '/content/flowers/daffodil/446479946_67968e63ea_c.jpg',\n",
              " '/content/flowers/common_daisy/5830242168_95c5853def_c.jpg',\n",
              " '/content/flowers/dandelion/15308453885_0e1dd55146_c.jpg',\n",
              " '/content/flowers/iris/28547099438_38ac1343e9_c.jpg',\n",
              " '/content/flowers/sunflower/9491677668_329c4c5603_c.jpg',\n",
              " '/content/flowers/california_poppy/28809699642_9c60965c67_c.jpg',\n",
              " '/content/flowers/sunflower/4777992770_ef514a440e_c.jpg',\n",
              " '/content/flowers/carnation/3932573801_6789059252_c.jpg',\n",
              " '/content/flowers/coreopsis/7810505000_c9c52849a2_c.jpg',\n",
              " '/content/flowers/magnolia/16739412824_321d1ccba6_c.jpg',\n",
              " '/content/flowers/iris/4559373764_8b6b131de1_c.jpg',\n",
              " '/content/flowers/dandelion/7324892628_8dd7899ded_c.jpg',\n",
              " '/content/flowers/dandelion/7381281840_fec6942b7a_c.jpg',\n",
              " '/content/flowers/iris/5895240859_b1ca857aa2_c.jpg',\n",
              " '/content/flowers/magnolia/3902697393_68a3f81d48_c.jpg',\n",
              " '/content/flowers/carnation/5272374341_46e270e643_c.jpg',\n",
              " '/content/flowers/bellflower/48017428046_ddc3e4d2d8_c.jpg',\n",
              " '/content/flowers/daffodil/41129437055_4d09613c0e_c.jpg',\n",
              " '/content/flowers/black_eyed_susan/4315476530_1d88775872_c.jpg',\n",
              " '/content/flowers/common_daisy/8654923402_c742b5f537_c.jpg',\n",
              " '/content/flowers/iris/26740979540_17918a39f4_c.jpg',\n",
              " '/content/flowers/rose/6841548925_ba1149c089_c.jpg',\n",
              " '/content/flowers/astilbe/176229137_1ee8d353e9_c.jpg',\n",
              " '/content/flowers/dandelion/4665880023_f6a01000f5_c.jpg',\n",
              " '/content/flowers/daffodil/8640915845_490d1cfe99_c.jpg',\n",
              " '/content/flowers/water_lily/50616463098_27da45b73b_c.jpg',\n",
              " '/content/flowers/rose/120295872_2d2f47e14e_c.jpg',\n",
              " '/content/flowers/california_poppy/26129560671_8fe047b591_c.jpg',\n",
              " '/content/flowers/carnation/1810074492_0d9d849fd4_c.jpg',\n",
              " '/content/flowers/rose/9574751632_b2cdc0c7a4_c.jpg',\n",
              " '/content/flowers/dandelion/34452935802_38917677e1_c.jpg',\n",
              " '/content/flowers/common_daisy/40808429633_685e27023d_c.jpg',\n",
              " '/content/flowers/bellflower/7588941970_eacdb7c32c_c.jpg',\n",
              " '/content/flowers/astilbe/7390169366_c4286b3fd1_c.jpg',\n",
              " '/content/flowers/calendula/11621297596_cc059b628b_c.jpg',\n",
              " '/content/flowers/magnolia/49392208936_3a19d1eb0d_c.jpg',\n",
              " '/content/flowers/california_poppy/13924764694_3e9ebcf04c_c.jpg',\n",
              " '/content/flowers/california_poppy/50375566431_fdab6604cc_c.jpg',\n",
              " '/content/flowers/dandelion/5650673453_fd182c4672_c.jpg',\n",
              " '/content/flowers/bellflower/2633031914_078a691bc6_c.jpg',\n",
              " '/content/flowers/sunflower/29258450581_f5a0e97849_c.jpg',\n",
              " '/content/flowers/dandelion/5685470187_17a1106a07_c.jpg',\n",
              " '/content/flowers/carnation/5574399117_fec5b04de2_c.jpg',\n",
              " '/content/flowers/california_poppy/35733626341_cc4d8083fc_c.jpg',\n",
              " '/content/flowers/rose/26649662704_2b76b1fccf_c.jpg',\n",
              " '/content/flowers/daffodil/16759440767_5d6a4cd9a3_c.jpg',\n",
              " '/content/flowers/water_lily/51429631483_2dc1d790ff_c.jpg',\n",
              " '/content/flowers/water_lily/51291905376_7894312a0d_c.jpg',\n",
              " '/content/flowers/iris/28882613988_f722525f11_c.jpg',\n",
              " '/content/flowers/sunflower/7830387312_beac3765de_c.jpg',\n",
              " '/content/flowers/calendula/11678611295_02f174bd63_c.jpg',\n",
              " '/content/flowers/california_poppy/4596988523_5d6719d8e6_c.jpg',\n",
              " '/content/flowers/california_poppy/14305334257_ce145d2ae7_c.jpg',\n",
              " '/content/flowers/iris/4551303666_b72e8c4303_c.jpg',\n",
              " '/content/flowers/carnation/3371408515_b5519cdfc3_c.jpg',\n",
              " '/content/flowers/rose/5421405638_2ef350cfed_c.jpg',\n",
              " '/content/flowers/water_lily/51250249923_091e49cea4_c.jpg',\n",
              " '/content/flowers/water_lily/49428092237_f91d557221_c.jpg',\n",
              " '/content/flowers/daffodil/3368085464_a2be6cacc7_c.jpg',\n",
              " '/content/flowers/magnolia/43454492441_9b0de1d929_c.jpg',\n",
              " '/content/flowers/daffodil/357213053_360c9b5f0e_c.jpg',\n",
              " '/content/flowers/dandelion/6018833656_733661f40c_c.jpg',\n",
              " '/content/flowers/common_daisy/526763998_ecb8ae4099_c.jpg',\n",
              " '/content/flowers/tulip/7110931121_3837dfc2d8_c.jpg',\n",
              " '/content/flowers/coreopsis/3113357853_408a598c5f_c.jpg',\n",
              " '/content/flowers/common_daisy/5618183601_a1496cb5eb_c.jpg',\n",
              " '/content/flowers/coreopsis/5501748574_073ccfbe30_c.jpg',\n",
              " '/content/flowers/sunflower/30131718848_18cccc7b3f_c.jpg',\n",
              " '/content/flowers/magnolia/7053599073_5b1539697f_c.jpg',\n",
              " '/content/flowers/iris/33978892840_5d8bf70c4c_c.jpg',\n",
              " '/content/flowers/sunflower/5115287579_44b6c81629_c.jpg',\n",
              " '/content/flowers/california_poppy/16379563590_c396a43075_c.jpg',\n",
              " '/content/flowers/coreopsis/4795559046_34394b1ae0_c.jpg',\n",
              " '/content/flowers/magnolia/25709325104_8c54dba440_c.jpg',\n",
              " '/content/flowers/bellflower/50045070077_7637b7ea98_c.jpg',\n",
              " '/content/flowers/sunflower/6436167263_bc1b7d5e7d_c.jpg',\n",
              " '/content/flowers/california_poppy/33433384376_effa45f391_c.jpg',\n",
              " '/content/flowers/daffodil/454024452_a3a2e9cba9_c.jpg',\n",
              " '/content/flowers/astilbe/50681562822_aa64bf7de1_c.jpg',\n",
              " '/content/flowers/california_poppy/51283697587_e7c6273f96_c.jpg',\n",
              " '/content/flowers/tulip/8691174034_d209951e7c_c.jpg',\n",
              " '/content/flowers/black_eyed_susan/3917382973_5df36ff974_c.jpg',\n",
              " '/content/flowers/tulip/14025342223_bbec085d10_c.jpg',\n",
              " '/content/flowers/daffodil/3402848626_83ac8e0167_c.jpg',\n",
              " '/content/flowers/calendula/6967417155_22246d1998_c.jpg',\n",
              " '/content/flowers/calendula/49713647612_4272f606b0_c.jpg',\n",
              " '/content/flowers/common_daisy/14124749998_554a1ba760_c.jpg',\n",
              " '/content/flowers/california_poppy/50316260551_c94f0d5b17_c.jpg',\n",
              " '/content/flowers/tulip/26273460465_fe4367e05b_c.jpg',\n",
              " '/content/flowers/calendula/5098386359_e778dfa5b2_c.jpg',\n",
              " '/content/flowers/black_eyed_susan/224407281_3947b8de0c_c.jpg',\n",
              " '/content/flowers/carnation/1469585258_f6b0f46577_c.jpg',\n",
              " '/content/flowers/magnolia/5584973323_f3fb7a1b6d_c.jpg',\n",
              " '/content/flowers/bellflower/45824915304_ff108ae270_c.jpg',\n",
              " '/content/flowers/sunflower/22327825519_b91c90d513_c.jpg',\n",
              " '/content/flowers/coreopsis/6150566405_62d76ec410_c.jpg',\n",
              " '/content/flowers/carnation/3989813337_cc2321013f_c.jpg',\n",
              " '/content/flowers/iris/3096006376_931804f5d5_c.jpg',\n",
              " '/content/flowers/dandelion/7163060002_936721661a_c.jpg',\n",
              " '/content/flowers/tulip/13916064029_84f14f082f_c.jpg',\n",
              " '/content/flowers/magnolia/2437895393_228471fb34_c.jpg',\n",
              " '/content/flowers/bellflower/20393784756_9cd9f09656_c.jpg',\n",
              " '/content/flowers/common_daisy/11818584076_f6f598a142_c.jpg',\n",
              " '/content/flowers/black_eyed_susan/6007565316_b18b393a61_c.jpg',\n",
              " '/content/flowers/california_poppy/2581922380_39e3fbbb01_c.jpg',\n",
              " '/content/flowers/dandelion/16869585734_3f757c50d1_c.jpg',\n",
              " '/content/flowers/rose/8172245822_c611e5112e_c.jpg',\n",
              " '/content/flowers/california_poppy/5504842239_ba1f8aa760_c.jpg',\n",
              " '/content/flowers/coreopsis/1417591326_28b050bcd8_c.jpg',\n",
              " '/content/flowers/bellflower/7175937377_25f4774558_c.jpg',\n",
              " '/content/flowers/carnation/5364027972_c8358172ac_c.jpg',\n",
              " '/content/flowers/sunflower/1236911294_5bf65bc438_c.jpg',\n",
              " '/content/flowers/bellflower/1438831569_32590b0c69_c.jpg',\n",
              " '/content/flowers/bellflower/49055784826_cdb8301d60_c.jpg',\n",
              " '/content/flowers/california_poppy/4510185230_3ff0801f7d_c.jpg',\n",
              " '/content/flowers/black_eyed_susan/6115871077_66d2828545_c.jpg',\n",
              " '/content/flowers/bellflower/7634486136_3b7285b1eb_c.jpg',\n",
              " '/content/flowers/rose/369448659_c3cce8889b_c.jpg',\n",
              " '/content/flowers/bellflower/35397732401_f201063c4f_c.jpg',\n",
              " '/content/flowers/coreopsis/1280992579_9448c1c502_c.jpg',\n",
              " '/content/flowers/sunflower/6999438249_277fa8f614_c.jpg',\n",
              " '/content/flowers/magnolia/40691149453_a5cbc4f3cc_c.jpg',\n",
              " '/content/flowers/black_eyed_susan/8752841851_f9429fde57_c.jpg',\n",
              " '/content/flowers/iris/3589545637_79f08b4f7e_c.jpg',\n",
              " '/content/flowers/rose/3496277880_6c04ebe17e_c.jpg',\n",
              " '/content/flowers/calendula/33403062784_f102035ca5_c.jpg',\n",
              " '/content/flowers/bellflower/51312290627_befacbab3f_c.jpg',\n",
              " '/content/flowers/water_lily/50578544521_e62cfe5817_c.jpg',\n",
              " '/content/flowers/black_eyed_susan/3841803711_6f02f34d49_c.jpg',\n",
              " '/content/flowers/astilbe/7492454350_b8087a28aa_c.jpg',\n",
              " '/content/flowers/california_poppy/48827852376_2fbd4e4ced_c.jpg',\n",
              " '/content/flowers/coreopsis/50866118443_a2b0a5bdfe_c.jpg',\n",
              " '/content/flowers/calendula/15122096199_c2ac7e1e33_c.jpg',\n",
              " '/content/flowers/iris/41720023194_7d4939b4cc_c.jpg',\n",
              " '/content/flowers/california_poppy/47988754386_51b438d63f_c.jpg',\n",
              " '/content/flowers/california_poppy/4789698774_3b2b18d679_c.jpg',\n",
              " '/content/flowers/coreopsis/29452933135_1a9d06c44d_c.jpg',\n",
              " '/content/flowers/black_eyed_susan/19911991853_b1babbd8f9_c.jpg',\n",
              " '/content/flowers/tulip/473408540_c18bcd8a81_c.jpg',\n",
              " '/content/flowers/black_eyed_susan/14508944369_31ba47baca_c.jpg',\n",
              " '/content/flowers/sunflower/4971423703_e12e363292_c.jpg',\n",
              " '/content/flowers/california_poppy/19192503571_5a464b305c_c.jpg',\n",
              " '/content/flowers/california_poppy/32195251543_cd1bdc6fc4_c.jpg',\n",
              " '/content/flowers/magnolia/2325102200_1cb9d8cabc_c.jpg',\n",
              " '/content/flowers/sunflower/22219812483_562ee6126b_c.jpg',\n",
              " '/content/flowers/common_daisy/5741237128_f35e08646b_c.jpg',\n",
              " '/content/flowers/rose/9804267784_f5f8c436b4_c.jpg',\n",
              " '/content/flowers/water_lily/3848616705_9ec22582d9_c.jpg',\n",
              " '/content/flowers/iris/3548255551_e61cd1a3d6_c.jpg',\n",
              " '/content/flowers/astilbe/9294084654_3155260dff_c.jpg',\n",
              " '/content/flowers/daffodil/5751848491_18131eb84a_c.jpg',\n",
              " '/content/flowers/carnation/27660723837_ea1ab83d00_c.jpg',\n",
              " '/content/flowers/carnation/6697397155_23a733d8b0_c.jpg',\n",
              " '/content/flowers/tulip/14037025025_aeaa7f7720_c.jpg',\n",
              " '/content/flowers/black_eyed_susan/7768335710_01b057e798_c.jpg',\n",
              " '/content/flowers/common_daisy/49002886526_54b932e515_c.jpg',\n",
              " '/content/flowers/daffodil/8575674525_3e3f2cd464_c.jpg',\n",
              " '/content/flowers/calendula/50918085298_366d27368c_c.jpg',\n",
              " '/content/flowers/rose/592610758_6dd84df3ac_c.jpg',\n",
              " '/content/flowers/daffodil/25364052543_ab779288b6_c.jpg',\n",
              " '/content/flowers/astilbe/3412258651_4bcd0da594_c.jpg',\n",
              " '/content/flowers/sunflower/28546062374_6334868fee_c.jpg',\n",
              " '/content/flowers/coreopsis/4286571831_f03180469a_c.jpg',\n",
              " '/content/flowers/iris/8736067090_40b6150ef7_c.jpg',\n",
              " '/content/flowers/common_daisy/26373545270_e9a3c55486_c.jpg',\n",
              " '/content/flowers/california_poppy/6350361795_148cfd24f4_c.jpg',\n",
              " '/content/flowers/coreopsis/164871455_e5e8a43438_c.jpg',\n",
              " '/content/flowers/astilbe/2604706964_bf103bfdba_c.jpg',\n",
              " '/content/flowers/tulip/5645753876_261fe98660_c.jpg',\n",
              " '/content/flowers/dandelion/27477907335_06d1f39fc9_c.jpg',\n",
              " '/content/flowers/black_eyed_susan/6088997016_6ff0da6d70_c.jpg',\n",
              " '/content/flowers/black_eyed_susan/4754924554_119c673102_c.jpg',\n",
              " '/content/flowers/bellflower/50539601703_2b9ff7fa9e_c.jpg',\n",
              " '/content/flowers/common_daisy/8158454210_c63fdbb1d8_c.jpg',\n",
              " '/content/flowers/carnation/12431866205_5a1be5dd8f_c.jpg',\n",
              " '/content/flowers/common_daisy/6877890207_236c21b037_c.jpg',\n",
              " '/content/flowers/california_poppy/48022441278_273309d47b_c.jpg',\n",
              " '/content/flowers/dandelion/41295674665_e770eccd13_c.jpg',\n",
              " '/content/flowers/sunflower/21441191205_9df55c1d4a_c.jpg',\n",
              " '/content/flowers/rose/27976191426_9dbbcb8db5_c.jpg',\n",
              " '/content/flowers/iris/8699570380_47999babb3_c.jpg',\n",
              " '/content/flowers/tulip/4543488105_0808854829_c.jpg',\n",
              " '/content/flowers/iris/84088028_642a0fd22c_c.jpg',\n",
              " '/content/flowers/dandelion/7022851357_9eb493f9c9_c.jpg',\n",
              " '/content/flowers/daffodil/6157572243_13f6318091_c.jpg',\n",
              " '/content/flowers/coreopsis/15643575168_b6b0778021_c.jpg',\n",
              " '/content/flowers/water_lily/50401953738_0765cb91f4_c.jpg',\n",
              " '/content/flowers/sunflower/15044100040_4cb296ec53_c.jpg',\n",
              " '/content/flowers/daffodil/120216121_e2473ae9fc_c.jpg',\n",
              " '/content/flowers/tulip/7126651139_501a305ea4_c.jpg',\n",
              " '/content/flowers/black_eyed_susan/7514911308_d8feef8a2a_c.jpg',\n",
              " '/content/flowers/coreopsis/5892388575_8466cc4286_c.jpg',\n",
              " '/content/flowers/magnolia/33314930971_fbc080c907_c.jpg',\n",
              " '/content/flowers/common_daisy/49183832633_d50f7f138e_c.jpg',\n",
              " '/content/flowers/dandelion/6999347984_11fe475d25_c.jpg',\n",
              " '/content/flowers/calendula/45993517234_5e4dfdefae_c.jpg',\n",
              " '/content/flowers/calendula/3688824754_423017fee5_c.jpg',\n",
              " '/content/flowers/common_daisy/5665190083_d781cda9df_c.jpg',\n",
              " '/content/flowers/calendula/3823185250_a5180e37e5_c.jpg',\n",
              " '/content/flowers/bellflower/16001670134_0dc95b2656_c.jpg',\n",
              " '/content/flowers/carnation/40779837_29ce65efef_c.jpg',\n",
              " '/content/flowers/dandelion/2877376305_afd825bd19_c.jpg',\n",
              " '/content/flowers/carnation/503023010_814f1da853_c.jpg',\n",
              " '/content/flowers/magnolia/51096625221_d4eb0be416_c.jpg',\n",
              " '/content/flowers/magnolia/6881806856_9467260cc4_c.jpg',\n",
              " '/content/flowers/california_poppy/46581177884_d0b10e7e46_c.jpg',\n",
              " '/content/flowers/dandelion/4548646891_271ed70a7f_c.jpg',\n",
              " '/content/flowers/sunflower/36382169502_ee798226a9_c.jpg',\n",
              " '/content/flowers/iris/564191758_20934915ee_c.jpg',\n",
              " '/content/flowers/rose/2739757169_d813386605_c.jpg',\n",
              " '/content/flowers/water_lily/23577804582_c87efd097b_c.jpg',\n",
              " '/content/flowers/bellflower/44388346821_556626e0f6_c.jpg',\n",
              " '/content/flowers/carnation/213392504_2eaf4f8816_c.jpg',\n",
              " '/content/flowers/black_eyed_susan/26906965963_8e6557e2bb_c.jpg',\n",
              " '/content/flowers/common_daisy/50390705472_7fd1c76028_c.jpg',\n",
              " '/content/flowers/coreopsis/9277142403_c35f547b37_c.jpg',\n",
              " '/content/flowers/carnation/4331803999_8e4124575b_c.jpg',\n",
              " '/content/flowers/calendula/49660707141_a40e2ccf49_c.jpg',\n",
              " '/content/flowers/black_eyed_susan/7532543422_d82565c150_c.jpg',\n",
              " '/content/flowers/magnolia/14457450361_8856753b6c_c.jpg',\n",
              " '/content/flowers/magnolia/33766807625_bf0f1955b3_c.jpg',\n",
              " '/content/flowers/calendula/51858884981_f6a6574ded_c.jpg',\n",
              " '/content/flowers/carnation/49527545366_e17487740e_c.jpg',\n",
              " '/content/flowers/sunflower/44418375252_28481c002a_c.jpg',\n",
              " '/content/flowers/daffodil/41724601581_2b0562359b_c.jpg',\n",
              " '/content/flowers/iris/27582030384_f27c28e3a4_c.jpg',\n",
              " '/content/flowers/astilbe/35933984785_cddb57d220_c.jpg',\n",
              " '/content/flowers/coreopsis/20184104241_c78447d777_c.jpg',\n",
              " '/content/flowers/common_daisy/50153158556_03939e35a3_c.jpg',\n",
              " '/content/flowers/bellflower/7372368136_8de1074fc9_c.jpg',\n",
              " '/content/flowers/common_daisy/6952687988_347f6dbfd3_c.jpg',\n",
              " '/content/flowers/tulip/7210798858_5fbac32536_c.jpg',\n",
              " '/content/flowers/water_lily/31268426302_2579821bc5_c.jpg',\n",
              " '/content/flowers/rose/27532881000_6e2f3fb5c4_c.jpg',\n",
              " '/content/flowers/daffodil/2404499150_658591a514_c.jpg',\n",
              " '/content/flowers/carnation/33505252288_c4059eed51_c.jpg',\n",
              " '/content/flowers/rose/27090580002_cdb0e32d61_c.jpg',\n",
              " '/content/flowers/carnation/16934206458_97c793bede_c.jpg',\n",
              " '/content/flowers/carnation/2912206014_a60c51f038_c.jpg',\n",
              " '/content/flowers/magnolia/16671129299_24d4a827ab_c.jpg',\n",
              " '/content/flowers/california_poppy/4353622157_91a532d3f3_c.jpg',\n",
              " '/content/flowers/black_eyed_susan/38947032_ac96d94c66_c.jpg',\n",
              " '/content/flowers/calendula/2489992174_2f6d693786_c.jpg',\n",
              " '/content/flowers/coreopsis/2719432378_4cea53b2ba_c.jpg',\n",
              " '/content/flowers/sunflower/4872393528_ce4cee7e06_c.jpg',\n",
              " '/content/flowers/calendula/7167313091_d65ec8c7c0_c.jpg',\n",
              " '/content/flowers/coreopsis/8194731793_188e055ed4_c.jpg',\n",
              " '/content/flowers/calendula/3850054284_74debb76d7_c.jpg',\n",
              " '/content/flowers/rose/543488055_2e973307b7_c.jpg',\n",
              " '/content/flowers/coreopsis/6520603837_893c9286cc_c.jpg',\n",
              " '/content/flowers/calendula/50324333212_6eb661fb00_c.jpg',\n",
              " '/content/flowers/magnolia/41761920442_2332ee288f_c.jpg',\n",
              " '/content/flowers/sunflower/3819973057_0663551360_c.jpg',\n",
              " '/content/flowers/common_daisy/26832802306_4c8342ac2f_c.jpg',\n",
              " '/content/flowers/tulip/8647361190_e647699a42_c.jpg',\n",
              " '/content/flowers/astilbe/2585663845_c17c889c5b_c.jpg',\n",
              " '/content/flowers/daffodil/17081940245_09726fe957_c.jpg',\n",
              " '/content/flowers/daffodil/32634410967_132ee34d4a_c.jpg',\n",
              " '/content/flowers/magnolia/50722720118_8b1f016f50_c.jpg',\n",
              " '/content/flowers/carnation/850416779_e9331d6d33_c.jpg',\n",
              " '/content/flowers/calendula/5388589178_38ef1e4e09_c.jpg',\n",
              " '/content/flowers/dandelion/4754662208_c4f00d3179_c.jpg',\n",
              " '/content/flowers/tulip/14018792524_ae59fe5b97_c.jpg',\n",
              " '/content/flowers/daffodil/487258863_49ff70165f_c.jpg',\n",
              " '/content/flowers/bellflower/51312754607_8df4f4dba9_c.jpg',\n",
              " '/content/flowers/coreopsis/1448819519_5c59413a27_c.jpg',\n",
              " '/content/flowers/daffodil/39516506180_79d4d6fde7_c.jpg',\n",
              " '/content/flowers/magnolia/27351882071_5e2c00f7f2_c.jpg',\n",
              " '/content/flowers/daffodil/26189278341_ee8b1f0aca_c.jpg',\n",
              " '/content/flowers/astilbe/51241745000_3b0b8baf7d_c.jpg',\n",
              " '/content/flowers/daffodil/41283240661_0528a5d127_c.jpg',\n",
              " '/content/flowers/iris/2624262631_1ee38d9841_c.jpg',\n",
              " '/content/flowers/water_lily/21204586494_974a7a1462_c.jpg',\n",
              " '/content/flowers/bellflower/35830956355_7d67dba837_c.jpg',\n",
              " '/content/flowers/magnolia/50062514022_cb2038d38b_c.jpg',\n",
              " '/content/flowers/rose/10063573746_dae22f863b_c.jpg',\n",
              " '/content/flowers/magnolia/12806284723_2e1c7c14b6_c.jpg',\n",
              " '/content/flowers/black_eyed_susan/11433360975_8b3bddc7dc_c.jpg',\n",
              " '/content/flowers/astilbe/3413055878_4a8edb12eb_c.jpg',\n",
              " '/content/flowers/magnolia/42774425700_bbcd2b1807_c.jpg',\n",
              " '/content/flowers/iris/45480495542_eac27ac7a8_c.jpg',\n",
              " '/content/flowers/dandelion/8682282584_141fe6d447_c.jpg',\n",
              " '/content/flowers/sunflower/28932236497_cd71fa9b40_c.jpg',\n",
              " '/content/flowers/magnolia/50736752918_43c8cea7ee_c.jpg',\n",
              " '/content/flowers/iris/41935833655_b9a5b85083_c.jpg',\n",
              " '/content/flowers/iris/7394746994_bfc67e1deb_c.jpg',\n",
              " '/content/flowers/iris/13966492170_5e3d6d8536_c.jpg',\n",
              " '/content/flowers/california_poppy/27408305275_e440b7d35d_c.jpg',\n",
              " '/content/flowers/dandelion/4965834765_49a0cb4374_c.jpg',\n",
              " '/content/flowers/black_eyed_susan/20344873028_bdb98621c8_c.jpg',\n",
              " '/content/flowers/california_poppy/49915324897_e95093f015_c.jpg',\n",
              " '/content/flowers/coreopsis/14493814526_34c33a13bf_c.jpg',\n",
              " '/content/flowers/sunflower/1255290711_691bf6d671_c.jpg',\n",
              " '/content/flowers/rose/23860547783_61e81b3ea2_c.jpg',\n",
              " '/content/flowers/common_daisy/50616328741_0385ab1d60_c.jpg',\n",
              " '/content/flowers/water_lily/30124498556_fea07c945a_c.jpg',\n",
              " '/content/flowers/rose/14599589255_bc4e2140eb_c.jpg',\n",
              " '/content/flowers/iris/40502574023_2e7bcebb93_c.jpg',\n",
              " '/content/flowers/rose/3826295683_979923fbb1_c.jpg',\n",
              " '/content/flowers/water_lily/49116305371_49d6b1a620_c.jpg',\n",
              " '/content/flowers/calendula/7352422888_573ac9bb9b_c.jpg',\n",
              " '/content/flowers/tulip/4592114710_71b5f8ee17_c.jpg',\n",
              " '/content/flowers/rose/1363267709_7c509e4005_c.jpg',\n",
              " '/content/flowers/coreopsis/14762965513_f03a904c3f_c.jpg',\n",
              " '/content/flowers/water_lily/28967620284_fd27c44d9a_c.jpg',\n",
              " '/content/flowers/magnolia/33665911780_49c4e2d760_c.jpg',\n",
              " '/content/flowers/california_poppy/34187924352_4fb5e4c37e_c.jpg',\n",
              " '/content/flowers/iris/39917514380_4b893d1c08_c.jpg',\n",
              " '/content/flowers/water_lily/50497295143_678b2f3e37_c.jpg',\n",
              " '/content/flowers/magnolia/51878440802_6ecf95164b_c.jpg',\n",
              " '/content/flowers/coreopsis/15491915889_11b77678eb_c.jpg',\n",
              " '/content/flowers/sunflower/328257848_579e043cd5_c.jpg',\n",
              " '/content/flowers/magnolia/1126896_de160ba611_c.jpg',\n",
              " '/content/flowers/dandelion/4631632138_2a235de5fb_c.jpg',\n",
              " '/content/flowers/water_lily/19982627726_b53ca8212d_c.jpg',\n",
              " '/content/flowers/calendula/49326892396_e900010a8d_c.jpg',\n",
              " '/content/flowers/daffodil/139351880_3c13bc9a2e_c.jpg',\n",
              " '/content/flowers/iris/41917293294_7186cf815d_c.jpg',\n",
              " '/content/flowers/iris/2586380522_d0917a3a27_c.jpg',\n",
              " '/content/flowers/astilbe/14342758267_5f39de515e_c.jpg',\n",
              " '/content/flowers/iris/14486063892_274a94873f_c.jpg',\n",
              " '/content/flowers/magnolia/4393629336_52d2350a6f_c.jpg',\n",
              " '/content/flowers/black_eyed_susan/2358858307_798b15974f_c.jpg',\n",
              " '/content/flowers/rose/5397459269_4ebdf0d8d4_c.jpg',\n",
              " '/content/flowers/daffodil/7013580353_0e6151f396_c.jpg',\n",
              " '/content/flowers/bellflower/50128604862_9b1e2079f5_c.jpg',\n",
              " '/content/flowers/common_daisy/7073811329_c9b9ddb86a_c.jpg',\n",
              " '/content/flowers/coreopsis/18642397508_6eda3f6fc8_c.jpg',\n",
              " '/content/flowers/sunflower/28912138637_9f11178279_c.jpg',\n",
              " '/content/flowers/california_poppy/2215644418_98c9f3a65f_c.jpg',\n",
              " '/content/flowers/black_eyed_susan/15218443010_bdd568f976_c.jpg',\n",
              " '/content/flowers/bellflower/51329588523_82e9ae6a63_c.jpg',\n",
              " '/content/flowers/coreopsis/4724201134_e0c4063280_c.jpg',\n",
              " '/content/flowers/bellflower/40728856230_002700745b_c.jpg',\n",
              " '/content/flowers/black_eyed_susan/6307070681_056b4e3866_c.jpg',\n",
              " '/content/flowers/iris/27436125285_bc32f066f6_c.jpg',\n",
              " '/content/flowers/common_daisy/34642886976_0c74f6e9fa_c.jpg',\n",
              " '/content/flowers/astilbe/2778883029_f64b887c6f_c.jpg',\n",
              " '/content/flowers/iris/27422482155_5fe51f09b2_c.jpg',\n",
              " '/content/flowers/calendula/424215520_5e6029a675_c.jpg',\n",
              " '/content/flowers/bellflower/48366980712_40f311a78e_c.jpg',\n",
              " '/content/flowers/black_eyed_susan/9382188248_3eca7d2fb1_c.jpg',\n",
              " '/content/flowers/dandelion/490904416_799753c112_c.jpg',\n",
              " '/content/flowers/astilbe/21189654503_a082444bee_c.jpg',\n",
              " '/content/flowers/water_lily/48324400856_aa5c4680a7_c.jpg',\n",
              " '/content/flowers/california_poppy/8714603632_2a0ab88fe4_c.jpg',\n",
              " '/content/flowers/black_eyed_susan/4972399779_7794d07a51_c.jpg',\n",
              " '/content/flowers/tulip/975379298_605e63a43f_c.jpg',\n",
              " '/content/flowers/astilbe/3698910076_cd0723284d_c.jpg',\n",
              " '/content/flowers/bellflower/50896694283_14c5382303_c.jpg',\n",
              " '/content/flowers/common_daisy/8711100886_43904a9a8d_c.jpg',\n",
              " '/content/flowers/magnolia/18013387015_5439d4aef1_c.jpg',\n",
              " '/content/flowers/calendula/2221737528_d2b911d4e9_c.jpg',\n",
              " '/content/flowers/rose/34558551245_c13cda64da_c.jpg',\n",
              " '/content/flowers/black_eyed_susan/3800155548_50e77b0290_c.jpg',\n",
              " '/content/flowers/tulip/24732645970_cf0d0dd94b_c.jpg',\n",
              " '/content/flowers/california_poppy/50063778658_9d789dbba1_c.jpg',\n",
              " '/content/flowers/calendula/49814906177_94320d9795_c.jpg',\n",
              " '/content/flowers/dandelion/18132647866_56819cbb8e_c.jpg',\n",
              " '/content/flowers/magnolia/26421735171_15826b7d9f_c.jpg',\n",
              " '/content/flowers/dandelion/11240271406_996df75a91_c.jpg',\n",
              " '/content/flowers/iris/3516661636_2abab91667_c.jpg',\n",
              " '/content/flowers/tulip/25048430162_ed6f2f4106_c.jpg',\n",
              " '/content/flowers/coreopsis/168041530_849d722d44_c.jpg',\n",
              " '/content/flowers/magnolia/5593430976_b74ac5e934_c.jpg',\n",
              " '/content/flowers/astilbe/48176392302_bc804be89f_c.jpg',\n",
              " '/content/flowers/carnation/49988293471_d683abd904_c.jpg',\n",
              " '/content/flowers/coreopsis/5960771892_0909f094aa_c.jpg',\n",
              " '/content/flowers/california_poppy/50335966483_01ba2891b4_c.jpg',\n",
              " '/content/flowers/rose/4999491651_1e5d7befa0_c.jpg',\n",
              " '/content/flowers/coreopsis/356975501_020ff8b5af_c.jpg',\n",
              " '/content/flowers/bellflower/28386161373_d128c62cf8_c.jpg',\n",
              " '/content/flowers/california_poppy/8217157072_69aaca7f90_c.jpg',\n",
              " '/content/flowers/iris/4614530689_8460dc1e5e_c.jpg',\n",
              " '/content/flowers/california_poppy/5914781522_fe4d294d64_c.jpg',\n",
              " '/content/flowers/carnation/4588289250_64340b0ba6_c.jpg',\n",
              " '/content/flowers/carnation/5097158830_1916522886_c.jpg',\n",
              " '/content/flowers/sunflower/26614946_4a4708a412_c.jpg',\n",
              " '/content/flowers/coreopsis/538031164_b61878f0ee_c.jpg',\n",
              " '/content/flowers/common_daisy/4683639815_57ff120083_c.jpg',\n",
              " '/content/flowers/daffodil/3402038399_e9188f1d87_c.jpg',\n",
              " '/content/flowers/california_poppy/51025034696_2ef74d67dc_c.jpg',\n",
              " '/content/flowers/tulip/122033121_0c4981d8a1_c.jpg',\n",
              " '/content/flowers/bellflower/3723699864_8cdf1b25d4_c.jpg',\n",
              " '/content/flowers/dandelion/17569088845_51c4d934ac_c.jpg',\n",
              " '/content/flowers/common_daisy/26664249162_f6d12e6130_c.jpg',\n",
              " '/content/flowers/carnation/16676769067_b640709491_c.jpg',\n",
              " '/content/flowers/common_daisy/13898256673_736e09953d_c.jpg',\n",
              " '/content/flowers/calendula/51369683689_70c69f026c_c.jpg',\n",
              " '/content/flowers/tulip/6851672267_2e1b1c6a96_c.jpg',\n",
              " '/content/flowers/dandelion/4794838673_b9c5e7cb69_c.jpg',\n",
              " '/content/flowers/sunflower/5823885797_723b8968ec_c.jpg',\n",
              " '/content/flowers/bellflower/50231548687_fc86a9d208_c.jpg',\n",
              " '/content/flowers/dandelion/10426570685_3bb029938d_c.jpg',\n",
              " '/content/flowers/magnolia/17090932945_569766b8ac_c.jpg',\n",
              " '/content/flowers/rose/22781303545_e35882daf5_c.jpg',\n",
              " '/content/flowers/iris/3542799989_55a00681f1_c.jpg',\n",
              " '/content/flowers/common_daisy/7073811985_0991101a3a_c.jpg',\n",
              " '/content/flowers/carnation/14180789538_8cdf21d4a3_c.jpg',\n",
              " '/content/flowers/dandelion/144804260_4a93ffa2a1_c.jpg',\n",
              " '/content/flowers/black_eyed_susan/2685088883_f415843b2f_c.jpg',\n",
              " '/content/flowers/california_poppy/48104044363_bd7b8de016_c.jpg',\n",
              " '/content/flowers/bellflower/34439981781_89ef16628f_c.jpg',\n",
              " '/content/flowers/california_poppy/26872843464_dc3ba19974_c.jpg',\n",
              " '/content/flowers/coreopsis/5894920062_ed979d13c0_c.jpg',\n",
              " '/content/flowers/bellflower/14591624981_19d73622a2_c.jpg',\n",
              " '/content/flowers/tulip/16231116259_eaec04685d_c.jpg',\n",
              " '/content/flowers/sunflower/4984326749_4b999326ba_c.jpg',\n",
              " '/content/flowers/sunflower/3718234597_709e74c127_c.jpg',\n",
              " '/content/flowers/tulip/6121650877_f0ae062f2d_c.jpg',\n",
              " '/content/flowers/tulip/5420935062_ef7f1c0ba7_c.jpg',\n",
              " '/content/flowers/bellflower/3630387722_70e6d4b1e1_c.jpg',\n",
              " '/content/flowers/daffodil/115459270_009e3f4e12_c.jpg',\n",
              " '/content/flowers/carnation/3315280754_132d0f2161_c.jpg',\n",
              " '/content/flowers/daffodil/5506454783_29b6b7fd0d_c.jpg',\n",
              " '/content/flowers/sunflower/29976235266_32a8616c9a_c.jpg',\n",
              " '/content/flowers/rose/35526147234_6270428c4e_c.jpg',\n",
              " '/content/flowers/coreopsis/6209355561_146d0aed33_c.jpg',\n",
              " '/content/flowers/california_poppy/16289328094_57888eec4c_c.jpg',\n",
              " '/content/flowers/magnolia/51939751226_dd81fcfaec_c.jpg',\n",
              " '/content/flowers/tulip/5705231079_22b27df2de_c.jpg',\n",
              " '/content/flowers/bellflower/13980709880_5ea5b322a1_c.jpg',\n",
              " '/content/flowers/calendula/14815989526_4bb27de175_c.jpg',\n",
              " '/content/flowers/magnolia/26920479462_bf47fe7383_c.jpg',\n",
              " '/content/flowers/daffodil/6131782003_7671790654_c.jpg',\n",
              " '/content/flowers/sunflower/4638147651_41895002c0_c.jpg',\n",
              " '/content/flowers/calendula/4898724796_6ecb8ef2aa_c.jpg',\n",
              " '/content/flowers/calendula/7754446930_41b78f27c0_c.jpg',\n",
              " '/content/flowers/rose/28777523597_15f55b85cf_c.jpg',\n",
              " '/content/flowers/carnation/2825026188_a42b4bf6e0_c.jpg',\n",
              " '/content/flowers/tulip/17228579256_4a31671048_c.jpg',\n",
              " '/content/flowers/calendula/48908754033_ccea492f76_c.jpg',\n",
              " '/content/flowers/black_eyed_susan/5357080416_950e050729_c.jpg',\n",
              " '/content/flowers/coreopsis/2625785543_36278d8521_c.jpg',\n",
              " '/content/flowers/water_lily/9192827211_c469c38e1c_c.jpg',\n",
              " '/content/flowers/california_poppy/3459421288_0d3ba3371b_c.jpg',\n",
              " '/content/flowers/common_daisy/265033379_c21fba969a_c.jpg',\n",
              " '/content/flowers/calendula/6225129133_70dcbbb59e_c.jpg',\n",
              " '/content/flowers/astilbe/220641238_6b935d18ea_c.jpg',\n",
              " '/content/flowers/rose/2600697873_b8878658de_c.jpg',\n",
              " '/content/flowers/bellflower/1442215460_f0c56421f3_c.jpg',\n",
              " '/content/flowers/sunflower/43613775650_1275b2cf04_c.jpg',\n",
              " '/content/flowers/bellflower/2453348831_e705aac58d_c.jpg',\n",
              " '/content/flowers/calendula/42759462810_f147a7c371_c.jpg',\n",
              " '/content/flowers/iris/21156066750_8b1308077b_c.jpg',\n",
              " '/content/flowers/tulip/4667490085_ce3be9cc92_c.jpg',\n",
              " '/content/flowers/magnolia/44272983112_1c8f544ba2_c.jpg',\n",
              " '/content/flowers/water_lily/31289886025_ecc73fec85_c.jpg',\n",
              " '/content/flowers/coreopsis/572767769_81e4f5505c_c.jpg',\n",
              " '/content/flowers/tulip/1173712163_be8792e8c7_c.jpg',\n",
              " '/content/flowers/common_daisy/27542044901_201afffca7_c.jpg',\n",
              " '/content/flowers/magnolia/51096701309_8492691b2a_c.jpg',\n",
              " '/content/flowers/calendula/48092346801_666fe8d122_c.jpg',\n",
              " '/content/flowers/tulip/5466118204_3e970871bb_c.jpg',\n",
              " '/content/flowers/dandelion/47686150122_7851941068_c.jpg',\n",
              " '/content/flowers/water_lily/51709527205_44d0a95da8_c.jpg',\n",
              " '/content/flowers/coreopsis/576389893_a042918fb3_c.jpg',\n",
              " '/content/flowers/magnolia/51968223725_61a8c9c3ae_c.jpg',\n",
              " '/content/flowers/coreopsis/3113358061_9ccd15075b_c.jpg',\n",
              " '/content/flowers/rose/30639492295_d770b34935_c.jpg',\n",
              " '/content/flowers/daffodil/40517035965_1ab3bec198_c.jpg',\n",
              " '/content/flowers/bellflower/5896418968_f1d64e039a_c.jpg',\n",
              " '/content/flowers/calendula/27755988150_7f56b6e87e_c.jpg',\n",
              " '/content/flowers/water_lily/48459527987_6e83cba51b_c.jpg',\n",
              " '/content/flowers/sunflower/42148954985_a9b53537a5_c.jpg',\n",
              " '/content/flowers/california_poppy/50056419588_bf812f4296_c.jpg',\n",
              " '/content/flowers/sunflower/8080210764_e673a3f7d6_c.jpg',\n",
              " '/content/flowers/water_lily/35651200791_c2860a41c9_c.jpg',\n",
              " '/content/flowers/water_lily/31633990812_f4ddb9d538_c.jpg',\n",
              " '/content/flowers/dandelion/4629103798_0946214a79_c.jpg',\n",
              " '/content/flowers/calendula/28872361200_855e931aa4_c.jpg',\n",
              " '/content/flowers/bellflower/519650301_965f04f0dc_c.jpg',\n",
              " '/content/flowers/tulip/16660289283_6aac7472df_c.jpg',\n",
              " '/content/flowers/common_daisy/2466854309_416d1754bd_c.jpg',\n",
              " '/content/flowers/dandelion/8835963378_e08030a1e7_c.jpg',\n",
              " '/content/flowers/water_lily/27154497152_ed85c06b85_c.jpg',\n",
              " '/content/flowers/coreopsis/7154262337_27a010766b_c.jpg',\n",
              " '/content/flowers/rose/7755487360_5156b4b915_c.jpg',\n",
              " '/content/flowers/rose/29187641955_37a5a50c94_c.jpg',\n",
              " '/content/flowers/calendula/10974555905_7e36ebb280_c.jpg',\n",
              " '/content/flowers/black_eyed_susan/21173581800_cb9e3afc71_c.jpg',\n",
              " '/content/flowers/iris/5568505273_fc32aa84fe_c.jpg',\n",
              " '/content/flowers/tulip/2500309962_7fcacf8bbe_c.jpg',\n",
              " '/content/flowers/magnolia/5588519501_7e907bb9e8_c.jpg',\n",
              " '/content/flowers/rose/5984683059_d38fb078a9_c.jpg',\n",
              " '/content/flowers/magnolia/17511926203_53c5964689_c.jpg',\n",
              " '/content/flowers/iris/14268557170_5d8e265133_c.jpg',\n",
              " '/content/flowers/rose/2760604717_c750ba2b66_c.jpg',\n",
              " '/content/flowers/bellflower/4037697708_59c8afef04_c.jpg',\n",
              " '/content/flowers/black_eyed_susan/5924540595_6c50c320ca_c.jpg',\n",
              " '/content/flowers/dandelion/4669964365_7fa45344bc_c.jpg',\n",
              " '/content/flowers/bellflower/5368249574_f950769fde_c.jpg',\n",
              " '/content/flowers/water_lily/35502017172_d88d3ab19c_c.jpg',\n",
              " '/content/flowers/common_daisy/25579582812_da75fdedc9_c.jpg',\n",
              " '/content/flowers/astilbe/9054250565_94178e5e7b_c.jpg',\n",
              " '/content/flowers/sunflower/37163695645_4414843eb6_c.jpg',\n",
              " '/content/flowers/coreopsis/3580706004_7289f03004_c.jpg',\n",
              " '/content/flowers/iris/40612281640_d21ab9d8ba_c.jpg',\n",
              " '/content/flowers/california_poppy/51059334853_5a97dd20bf_c.jpg',\n",
              " '/content/flowers/carnation/5895697057_1fbf6c01a0_c.jpg',\n",
              " '/content/flowers/common_daisy/4195050300_983a77e1a4_c.jpg',\n",
              " '/content/flowers/iris/13834265613_48f7938810_c.jpg',\n",
              " '/content/flowers/dandelion/4609426200_7d135c7e60_c.jpg',\n",
              " '/content/flowers/sunflower/5540989292_0076bdb2dc_c.jpg',\n",
              " '/content/flowers/daffodil/28009610579_9e103eed85_c.jpg',\n",
              " '/content/flowers/tulip/4579326811_2dea607bfe_c.jpg',\n",
              " '/content/flowers/bellflower/14807116669_2b4f6079ab_c.jpg',\n",
              " '/content/flowers/daffodil/3370260682_f7b09be0ce_c.jpg',\n",
              " '/content/flowers/coreopsis/7059176769_9dc37e9689_c.jpg',\n",
              " '/content/flowers/black_eyed_susan/7501407930_7dbc2c2d7e_c.jpg',\n",
              " '/content/flowers/daffodil/13224347713_53c3d7e236_c.jpg',\n",
              " '/content/flowers/black_eyed_susan/3942598083_fc7dc51c77_c.jpg',\n",
              " '/content/flowers/sunflower/42351551475_b28ba92f15_c.jpg',\n",
              " '/content/flowers/rose/5076415842_1828384df0_c.jpg',\n",
              " '/content/flowers/sunflower/1182186777_37be9cba9a_c.jpg',\n",
              " '/content/flowers/coreopsis/3598392189_90ba755e5c_c.jpg',\n",
              " '/content/flowers/magnolia/35870777011_4645769f72_c.jpg',\n",
              " '/content/flowers/dandelion/3587967969_26176b360a_c.jpg',\n",
              " '/content/flowers/magnolia/51969180332_e26a20e5ec_c.jpg',\n",
              " '/content/flowers/iris/26774374114_6d377e63e8_c.jpg',\n",
              " '/content/flowers/calendula/50183832001_2b7eefb785_c.jpg',\n",
              " '/content/flowers/magnolia/51949894984_efb760fa3f_c.jpg',\n",
              " '/content/flowers/sunflower/395619833_f4ea3c8145_c.jpg',\n",
              " '/content/flowers/magnolia/6860917882_9331110ac7_c.jpg',\n",
              " '/content/flowers/california_poppy/49908298043_c51c307653_c.jpg',\n",
              " '/content/flowers/iris/139461243_6f64054fbc_c.jpg',\n",
              " '/content/flowers/common_daisy/13546611605_775d785456_c.jpg',\n",
              " '/content/flowers/daffodil/2500817948_ea83026be9_c.jpg',\n",
              " '/content/flowers/carnation/364467920_420ddab32e_c.jpg',\n",
              " '/content/flowers/iris/5735630872_1d8b57ce46_c.jpg',\n",
              " '/content/flowers/coreopsis/32276757055_d8ebbe341c_c.jpg',\n",
              " '/content/flowers/daffodil/3446540302_1be48008f3_c.jpg',\n",
              " '/content/flowers/iris/27355148587_c3c61049f0_c.jpg',\n",
              " '/content/flowers/california_poppy/11903655963_5e2cc51170_c.jpg',\n",
              " '/content/flowers/coreopsis/3681012219_f0d8952e24_c.jpg',\n",
              " '/content/flowers/tulip/6189273178_e1d8b4ce67_c.jpg',\n",
              " '/content/flowers/bellflower/28146095964_f5d3e52c51_c.jpg',\n",
              " '/content/flowers/coreopsis/3699544548_b578ef4a4c_c.jpg',\n",
              " '/content/flowers/black_eyed_susan/2728616451_2c7d368936_c.jpg',\n",
              " '/content/flowers/water_lily/35415559103_44701a699b_c.jpg',\n",
              " '/content/flowers/black_eyed_susan/2965134885_f96399faec_c.jpg',\n",
              " '/content/flowers/calendula/14918553605_e1b841b920_c.jpg',\n",
              " '/content/flowers/water_lily/29528063916_2588c052bb_c.jpg',\n",
              " '/content/flowers/sunflower/14507901260_5149a745d7_c.jpg',\n",
              " '/content/flowers/magnolia/33657650908_822bd65894_c.jpg',\n",
              " '/content/flowers/magnolia/3597089907_c0cde1fb3d_c.jpg',\n",
              " '/content/flowers/dandelion/44767069195_9f16fb57e8_c.jpg',\n",
              " '/content/flowers/california_poppy/43330397282_7ea97e497a_c.jpg',\n",
              " '/content/flowers/dandelion/4613233362_a9ce9d5a0f_c.jpg',\n",
              " '/content/flowers/coreopsis/51737319756_8f0e6cd9db_c.jpg',\n",
              " '/content/flowers/sunflower/27715391_8956d218b5_c.jpg',\n",
              " '/content/flowers/common_daisy/15324446538_face5ba089_c.jpg',\n",
              " '/content/flowers/daffodil/5681585746_dbd5085ca7_c.jpg',\n",
              " '/content/flowers/tulip/14053225753_4774964571_c.jpg',\n",
              " '/content/flowers/common_daisy/51364555133_b510d3c39f_c.jpg',\n",
              " '/content/flowers/coreopsis/2625784737_5f50a1b82d_c.jpg',\n",
              " '/content/flowers/iris/532112193_cd28748e3e_c.jpg',\n",
              " '/content/flowers/carnation/6014916038_26147c1a7e_c.jpg',\n",
              " '/content/flowers/magnolia/25213054266_8c8116216c_c.jpg',\n",
              " '/content/flowers/black_eyed_susan/2717848715_fafc0f45c6_c.jpg',\n",
              " '/content/flowers/coreopsis/7180578295_76058f3847_c.jpg',\n",
              " '/content/flowers/carnation/8610973794_a2a9d59991_c.jpg',\n",
              " '/content/flowers/tulip/14050982084_533003841f_c.jpg',\n",
              " '/content/flowers/iris/17341978226_dd36526165_c.jpg',\n",
              " '/content/flowers/common_daisy/41126622794_ff7d2ae7ee_c.jpg',\n",
              " '/content/flowers/rose/23994135190_66c703fd46_c.jpg',\n",
              " '/content/flowers/bellflower/4715725206_20b99a797b_c.jpg',\n",
              " '/content/flowers/water_lily/5872663460_7759e60865_c.jpg',\n",
              " '/content/flowers/iris/8889993276_296c56686f_c.jpg',\n",
              " '/content/flowers/carnation/3288712876_a596d8c066_c.jpg',\n",
              " '/content/flowers/california_poppy/51142699882_2b93d7a774_c.jpg',\n",
              " '/content/flowers/astilbe/3738739100_88641f5f9e_c.jpg',\n",
              " '/content/flowers/sunflower/7168733793_e181bdb4e5_c.jpg',\n",
              " '/content/flowers/common_daisy/7290118744_48c44587e0_c.jpg',\n",
              " '/content/flowers/magnolia/21500695820_bc9f753d79_c.jpg',\n",
              " '/content/flowers/rose/26535958444_e62ab9b06f_c.jpg',\n",
              " '/content/flowers/iris/3517779118_ab808a3745_c.jpg',\n",
              " '/content/flowers/black_eyed_susan/20240345936_e9635eba3d_c.jpg',\n",
              " '/content/flowers/daffodil/126452975_f3812d0fd4_c.jpg',\n",
              " '/content/flowers/carnation/5723016579_647578e680_c.jpg',\n",
              " '/content/flowers/daffodil/8666954749_9e8809ed8c_c.jpg',\n",
              " '/content/flowers/bellflower/40716703535_6fa8cb949a_c.jpg',\n",
              " '/content/flowers/california_poppy/50018077016_752bfe620e_c.jpg',\n",
              " '/content/flowers/water_lily/50159916618_7a113e6b25_c.jpg',\n",
              " '/content/flowers/calendula/3582449200_c043197ba2_c.jpg',\n",
              " '/content/flowers/coreopsis/7902334746_5a6ac33a08_c.jpg',\n",
              " '/content/flowers/magnolia/31148421687_f3ab98c0b2_c.jpg',\n",
              " '/content/flowers/bellflower/373338926_ec24e8919e_c.jpg',\n",
              " '/content/flowers/coreopsis/2625784811_201b8d7087_c.jpg',\n",
              " '/content/flowers/tulip/5623693702_2a0785697b_c.jpg',\n",
              " '/content/flowers/magnolia/7009820203_5cd4f943d4_c.jpg',\n",
              " '/content/flowers/coreopsis/3782606590_1b7a19e472_c.jpg',\n",
              " '/content/flowers/astilbe/6837949668_4a70a12c19_c.jpg',\n",
              " '/content/flowers/iris/7793427620_dd1f5ddbaa_c.jpg',\n",
              " '/content/flowers/common_daisy/9283731195_dc5ef9f4c4_c.jpg',\n",
              " '/content/flowers/bellflower/14947492917_4851c73a9f_c.jpg',\n",
              " '/content/flowers/coreopsis/27836718924_f629a193c4_c.jpg',\n",
              " '/content/flowers/iris/4625750818_c23a1d2d64_c.jpg',\n",
              " '/content/flowers/rose/5845183319_a2f06a86e4_c.jpg',\n",
              " '/content/flowers/water_lily/47985079347_0de8724f6b_c.jpg',\n",
              " '/content/flowers/magnolia/32524160087_ef521a0156_c.jpg',\n",
              " '/content/flowers/water_lily/48401500322_64ea3021f0_c.jpg',\n",
              " '/content/flowers/bellflower/14554932378_8bb6abd4a1_c.jpg',\n",
              " '/content/flowers/common_daisy/27852388619_139277b2ed_c.jpg',\n",
              " '/content/flowers/magnolia/33960212714_0f1ae7c7e0_c.jpg',\n",
              " '/content/flowers/dandelion/10341478483_3e8662df8a_c.jpg',\n",
              " '/content/flowers/carnation/34418068630_c320510e0b_c.jpg',\n",
              " '/content/flowers/rose/16782479450_c7e81eda30_c.jpg',\n",
              " '/content/flowers/black_eyed_susan/4914793046_7a96eb13dc_c.jpg',\n",
              " '/content/flowers/sunflower/43872893685_7d8db819d9_c.jpg',\n",
              " '/content/flowers/rose/27590987_7d079605e3_c.jpg',\n",
              " '/content/flowers/common_daisy/33793515674_8a1b5bdd1c_c.jpg',\n",
              " '/content/flowers/rose/2580948483_5cd06d64cc_c.jpg',\n",
              " '/content/flowers/coreopsis/7726435068_688e86e578_c.jpg',\n",
              " '/content/flowers/calendula/45289493671_ae6c2b85a8_c.jpg',\n",
              " '/content/flowers/coreopsis/6203499105_e415ea6df1_c.jpg',\n",
              " '/content/flowers/carnation/51329625088_b6dc92e34b_c.jpg',\n",
              " '/content/flowers/rose/30507464380_451af23df5_c.jpg',\n",
              " '/content/flowers/carnation/30294149094_5d015b61bc_c.jpg',\n",
              " '/content/flowers/california_poppy/49712404311_2065b78428_c.jpg',\n",
              " '/content/flowers/astilbe/3412267929_481627e8b4_c.jpg',\n",
              " '/content/flowers/common_daisy/7256413806_abb4bc2aed_c.jpg',\n",
              " '/content/flowers/coreopsis/7694543860_1b6d316599_c.jpg',\n",
              " '/content/flowers/black_eyed_susan/2906433692_a4854039c7_c.jpg',\n",
              " '/content/flowers/bellflower/885489820_9662a26c6e_c.jpg',\n",
              " '/content/flowers/iris/28217014167_39844d3670_c.jpg',\n",
              " '/content/flowers/sunflower/7530251558_baf8d2a8c9_c.jpg',\n",
              " '/content/flowers/tulip/8632084103_70c3132d7b_c.jpg',\n",
              " '/content/flowers/magnolia/40768038503_96b56e4b29_c.jpg',\n",
              " '/content/flowers/sunflower/11779438744_3c68cd846b_c.jpg',\n",
              " '/content/flowers/sunflower/4860249378_8df8d29c65_c.jpg',\n",
              " '/content/flowers/magnolia/51962704510_78afcc1385_c.jpg',\n",
              " '/content/flowers/black_eyed_susan/4811114680_111c04bd42_c.jpg',\n",
              " '/content/flowers/california_poppy/9073294462_d69c6a1d54_c.jpg',\n",
              " '/content/flowers/magnolia/340633503_57f5ae1764_c.jpg',\n",
              " '/content/flowers/daffodil/4889911410_48535ffb00_c.jpg',\n",
              " '/content/flowers/coreopsis/19903389121_eab673206e_c.jpg',\n",
              " '/content/flowers/daffodil/16875593185_b761f0efe1_c.jpg',\n",
              " '/content/flowers/magnolia/49673323768_54c6560c79_c.jpg',\n",
              " '/content/flowers/bellflower/15105510606_175487d1ab_c.jpg',\n",
              " '/content/flowers/rose/9185768268_1e48d4d119_c.jpg',\n",
              " '/content/flowers/daffodil/4463132045_769bdfb9e1_c.jpg',\n",
              " '/content/flowers/coreopsis/6913346472_b8b149f3ea_c.jpg',\n",
              " '/content/flowers/black_eyed_susan/7593327878_14a9ec6ffd_c.jpg',\n",
              " '/content/flowers/common_daisy/9078886735_4cb697f239_c.jpg',\n",
              " '/content/flowers/dandelion/8835963462_cc3259e1c1_c.jpg',\n",
              " '/content/flowers/calendula/9250365990_79a4b8ae73_c.jpg',\n",
              " '/content/flowers/iris/3644009115_b421ece4a5_c.jpg',\n",
              " '/content/flowers/calendula/51363920672_0981848ed7_c.jpg',\n",
              " '/content/flowers/iris/507080592_93ab2d698e_c.jpg',\n",
              " '/content/flowers/magnolia/46515172355_82b3c87c41_c.jpg',\n",
              " '/content/flowers/bellflower/49682410611_3b37cb2ccb_c.jpg',\n",
              " '/content/flowers/magnolia/49126300196_7209865e6b_c.jpg',\n",
              " '/content/flowers/dandelion/14105940708_e99f4ff36d_c.jpg',\n",
              " '/content/flowers/common_daisy/2984125459_022f7f6181_c.jpg',\n",
              " '/content/flowers/common_daisy/34957620636_5a5b5621a8_c.jpg',\n",
              " '/content/flowers/common_daisy/7027224319_623a3fd6df_c.jpg',\n",
              " '/content/flowers/tulip/4518755377_936c6e6463_c.jpg',\n",
              " '/content/flowers/sunflower/3955260539_eee0766763_c.jpg',\n",
              " '/content/flowers/daffodil/2409189261_6044c1fd5a_c.jpg',\n",
              " '/content/flowers/rose/43874460570_febb5e0a27_c.jpg',\n",
              " '/content/flowers/california_poppy/35858937872_3086f50871_c.jpg',\n",
              " '/content/flowers/rose/7202205662_6bd0259962_c.jpg',\n",
              " '/content/flowers/iris/629081105_9c6a37e80f_c.jpg',\n",
              " '/content/flowers/tulip/2469914212_cb37f31f0e_c.jpg',\n",
              " '/content/flowers/dandelion/4638995684_6c7831ee32_c.jpg',\n",
              " '/content/flowers/california_poppy/14711846243_8c8e89242f_c.jpg',\n",
              " '/content/flowers/california_poppy/51385005914_26aedf5402_c.jpg',\n",
              " '/content/flowers/coreopsis/4632516819_46eedf89b2_c.jpg',\n",
              " '/content/flowers/carnation/4033735661_4426d0e88d_c.jpg',\n",
              " '/content/flowers/tulip/2897874027_83b2d2d116_c.jpg',\n",
              " '/content/flowers/carnation/49947610318_58667efdae_c.jpg',\n",
              " '/content/flowers/tulip/33973331695_e7d627ec96_c.jpg',\n",
              " '/content/flowers/astilbe/2038713607_3f17946341_c.jpg',\n",
              " '/content/flowers/california_poppy/9071013153_395734ef40_c.jpg',\n",
              " '/content/flowers/tulip/14190396837_f43efc3e7e_c.jpg',\n",
              " '/content/flowers/rose/9304394239_3bdfb8d28b_c.jpg',\n",
              " '/content/flowers/california_poppy/49927127331_d41a3ae0c5_c.jpg',\n",
              " '/content/flowers/tulip/16891607282_be0102719a_c.jpg',\n",
              " '/content/flowers/daffodil/8693207186_0468106e9c_c.jpg',\n",
              " '/content/flowers/water_lily/43071183512_f08e651b74_c.jpg',\n",
              " '/content/flowers/tulip/2773609989_02a4c5f0de_c.jpg',\n",
              " '/content/flowers/rose/2618242364_c76f60ffb9_c.jpg',\n",
              " '/content/flowers/calendula/51627980704_9415b0c27b_c.jpg',\n",
              " '/content/flowers/carnation/5523693115_8d20c2be03_c.jpg',\n",
              " '/content/flowers/black_eyed_susan/194413700_99e725d01f_c.jpg',\n",
              " '/content/flowers/california_poppy/4473760847_2e7f511486_c.jpg',\n",
              " '/content/flowers/carnation/39595782971_69834b390b_c.jpg',\n",
              " '/content/flowers/common_daisy/34859351365_e83d4508f0_c.jpg',\n",
              " '/content/flowers/bellflower/49569868083_209bb2c813_c.jpg',\n",
              " '/content/flowers/water_lily/48980635176_bbe0d574b8_c.jpg',\n",
              " '/content/flowers/water_lily/51687361057_82463f5ea1_c.jpg',\n",
              " '/content/flowers/coreopsis/6071189900_e6cb9f089f_c.jpg',\n",
              " '/content/flowers/water_lily/50193663533_a4710da908_c.jpg',\n",
              " '/content/flowers/magnolia/2126107417_92101f8b5f_c.jpg',\n",
              " '/content/flowers/coreopsis/766944837_0dc90903c8_c.jpg',\n",
              " '/content/flowers/common_daisy/7013894695_f49e69a2de_c.jpg',\n",
              " '/content/flowers/magnolia/460312812_15f4855d1d_c.jpg',\n",
              " '/content/flowers/water_lily/48668191727_49e710afc6_c.jpg',\n",
              " '/content/flowers/astilbe/14495221492_56a9c0d932_c.jpg',\n",
              " '/content/flowers/magnolia/47353956002_283d434fd2_c.jpg',\n",
              " '/content/flowers/magnolia/46588753445_a04a7fe315_c.jpg',\n",
              " '/content/flowers/california_poppy/27418351972_581d1a8e38_c.jpg',\n",
              " '/content/flowers/coreopsis/524597679_9c06c13bc9_c.jpg',\n",
              " '/content/flowers/common_daisy/25262391151_2694a32f92_c.jpg',\n",
              " '/content/flowers/california_poppy/8110998685_0133424f74_c.jpg',\n",
              " '/content/flowers/water_lily/15628172898_87147a9f18_c.jpg',\n",
              " '/content/flowers/rose/2890098318_0363387479_c.jpg',\n",
              " '/content/flowers/common_daisy/14331617003_0410f897c7_c.jpg',\n",
              " '/content/flowers/daffodil/6132328390_cc380f99cb_c.jpg',\n",
              " '/content/flowers/carnation/4454754383_669fc0a6b1_c.jpg',\n",
              " '/content/flowers/california_poppy/51824368750_b04e373b69_c.jpg',\n",
              " '/content/flowers/black_eyed_susan/2763270325_da3ec757ba_c.jpg',\n",
              " '/content/flowers/calendula/5663365829_595be3719c_c.jpg',\n",
              " '/content/flowers/california_poppy/4493773180_7c3f19c45c_c.jpg',\n",
              " '/content/flowers/magnolia/8138326525_c7a96cf8b0_c.jpg',\n",
              " '/content/flowers/california_poppy/46936234015_032f43f29b_c.jpg',\n",
              " '/content/flowers/dandelion/7356144082_7d47e4d464_c.jpg',\n",
              " '/content/flowers/black_eyed_susan/3600951647_26f2706f33_c.jpg',\n",
              " '/content/flowers/coreopsis/166381034_90adc1b8d2_c.jpg',\n",
              " '/content/flowers/iris/35307562225_9d443e7001_c.jpg',\n",
              " '/content/flowers/calendula/51180702721_332dc46bd1_c.jpg',\n",
              " '/content/flowers/magnolia/51889432626_5330ef4a97_c.jpg',\n",
              " '/content/flowers/california_poppy/41748246852_0bd3fc4d85_c.jpg',\n",
              " '/content/flowers/calendula/29641221123_9c0432faee_c.jpg',\n",
              " '/content/flowers/water_lily/48862431726_bb68570e82_c.jpg',\n",
              " '/content/flowers/california_poppy/32802202027_bef243ab1d_c.jpg',\n",
              " '/content/flowers/sunflower/43255146205_88e5151b85_c.jpg',\n",
              " '/content/flowers/astilbe/1053073526_188a5b816e_c.jpg',\n",
              " '/content/flowers/magnolia/4531753808_1b7dd13e52_c.jpg',\n",
              " '/content/flowers/tulip/136091467_97c1e51700_c.jpg',\n",
              " '/content/flowers/iris/3597378787_4e6176253c_c.jpg',\n",
              " '/content/flowers/carnation/51320512993_ec5dd6a3bb_c.jpg',\n",
              " '/content/flowers/water_lily/33536228608_a267e7b41c_c.jpg',\n",
              " '/content/flowers/daffodil/119049014_fbc879188b_c.jpg',\n",
              " '/content/flowers/black_eyed_susan/14314871359_68d09e94e8_c.jpg',\n",
              " '/content/flowers/common_daisy/35347063210_e6d70aa6dd_c.jpg',\n",
              " '/content/flowers/dandelion/27314468298_1f98b07770_c.jpg',\n",
              " '/content/flowers/common_daisy/46607190664_2be8466eb2_c.jpg',\n",
              " '/content/flowers/carnation/3361948625_0ce9de5782_c.jpg',\n",
              " '/content/flowers/calendula/5710092229_8c89c20b7f_c.jpg',\n",
              " '/content/flowers/dandelion/13541280674_e859bd9a9d_c.jpg',\n",
              " '/content/flowers/calendula/14116928575_162ea2c2f7_c.jpg',\n",
              " '/content/flowers/magnolia/9461533590_37f9e684d2_c.jpg',\n",
              " '/content/flowers/tulip/14742827367_8c3b50b7a4_c.jpg',\n",
              " '/content/flowers/rose/9574751794_93bf8fa1e8_c.jpg',\n",
              " '/content/flowers/rose/3747927271_6955aa40b8_c.jpg',\n",
              " '/content/flowers/sunflower/5982626867_594c73207e_c.jpg',\n",
              " '/content/flowers/calendula/34495263741_7391b8c9a4_c.jpg',\n",
              " '/content/flowers/bellflower/39531059605_e02495061f_c.jpg',\n",
              " '/content/flowers/carnation/5449786836_7a46d75df1_c.jpg',\n",
              " '/content/flowers/black_eyed_susan/6250185825_cdc8bfe0aa_c.jpg',\n",
              " '/content/flowers/calendula/481604697_53eca4b20f_c.jpg',\n",
              " '/content/flowers/common_daisy/5507073227_f526d92daa_c.jpg',\n",
              " '/content/flowers/calendula/287238364_c20b1b33a7_c.jpg',\n",
              " '/content/flowers/daffodil/3432395504_c2a870158c_c.jpg',\n",
              " '/content/flowers/sunflower/15047853109_13df3107ed_c.jpg',\n",
              " '/content/flowers/dandelion/32373749096_e2792bdf6b_c.jpg',\n",
              " '/content/flowers/dandelion/7223754140_a779e45291_c.jpg',\n",
              " '/content/flowers/water_lily/29022341173_448edb8e08_c.jpg',\n",
              " '/content/flowers/rose/8705175629_3ca610d337_c.jpg',\n",
              " '/content/flowers/calendula/40159395180_548fcd24cd_c.jpg',\n",
              " '/content/flowers/calendula/2799112963_46384697dc_c.jpg',\n",
              " '/content/flowers/california_poppy/18597295024_72577ba0fb_c.jpg',\n",
              " '/content/flowers/iris/6743251579_af67627afa_c.jpg',\n",
              " '/content/flowers/carnation/3879033115_6f4f0e468e_c.jpg',\n",
              " '/content/flowers/rose/8633402710_5f1b9e0040_c.jpg',\n",
              " '/content/flowers/daffodil/38888873205_7023fbd92e_c.jpg',\n",
              " '/content/flowers/carnation/509253927_f3ce7db154_c.jpg',\n",
              " '/content/flowers/common_daisy/2458025920_14572bab61_c.jpg',\n",
              " '/content/flowers/sunflower/9718518727_0f0c909197_c.jpg',\n",
              " '/content/flowers/black_eyed_susan/5892129875_010fcf747f_c.jpg',\n",
              " '/content/flowers/daffodil/3378467813_dd2a7f010e_c.jpg',\n",
              " '/content/flowers/water_lily/50178128883_6a893310ee_c.jpg',\n",
              " '/content/flowers/iris/649863652_b9796f49b6_c.jpg',\n",
              " '/content/flowers/common_daisy/7450214570_3486907e27_c.jpg',\n",
              " '/content/flowers/daffodil/3432479276_b7885f31a7_c.jpg',\n",
              " '/content/flowers/tulip/3500697223_103e30ecf1_c.jpg',\n",
              " '/content/flowers/magnolia/25903104236_c25c4f346e_c.jpg',\n",
              " '/content/flowers/calendula/27546971285_191ab5693a_c.jpg',\n",
              " '/content/flowers/daffodil/4484778345_b8be3d0780_c.jpg',\n",
              " '/content/flowers/iris/2429138274_506667c3ff_c.jpg',\n",
              " '/content/flowers/dandelion/14170798364_f31024e0aa_c.jpg',\n",
              " '/content/flowers/calendula/2242762809_14d9c430b0_c.jpg',\n",
              " '/content/flowers/magnolia/51078040783_ef669ea3dd_c.jpg',\n",
              " '/content/flowers/california_poppy/2387904113_2e81bec5d3_c.jpg',\n",
              " '/content/flowers/iris/17677574842_5867b026b1_c.jpg',\n",
              " '/content/flowers/calendula/51605461750_abae07fe45_c.jpg',\n",
              " '/content/flowers/water_lily/50052839393_c27c73072b_c.jpg',\n",
              " '/content/flowers/water_lily/19324996661_4676b644e6_c.jpg',\n",
              " '/content/flowers/dandelion/2166831869_1f83e382d2_c.jpg',\n",
              " '/content/flowers/iris/9054832831_94db399ccf_c.jpg',\n",
              " '/content/flowers/magnolia/51097426240_deb922056d_c.jpg',\n",
              " '/content/flowers/coreopsis/8970255633_469db62871_c.jpg',\n",
              " '/content/flowers/rose/7344357814_590359907e_c.jpg',\n",
              " '/content/flowers/bellflower/48383335997_e3db6c1096_c.jpg',\n",
              " '/content/flowers/california_poppy/48906433601_b809db34e0_c.jpg',\n",
              " '/content/flowers/common_daisy/13843215313_b716eca309_c.jpg',\n",
              " '/content/flowers/iris/32172527653_7eb4b9ac56_c.jpg',\n",
              " '/content/flowers/calendula/39142543071_db58cc9f65_c.jpg',\n",
              " '/content/flowers/daffodil/4481390333_d3b5d27d06_c.jpg',\n",
              " '/content/flowers/iris/477207173_91eecdb47d_c.jpg',\n",
              " '/content/flowers/black_eyed_susan/2725031513_94fd4fc026_c.jpg',\n",
              " '/content/flowers/bellflower/51704669302_67e8dda02b_c.jpg',\n",
              " '/content/flowers/black_eyed_susan/4697436654_fb398ac877_c.jpg',\n",
              " '/content/flowers/dandelion/17649960472_2294659998_c.jpg',\n",
              " '/content/flowers/carnation/9813771_576a3de14a_c.jpg',\n",
              " '/content/flowers/calendula/46797324521_6c025cd923_c.jpg',\n",
              " '/content/flowers/black_eyed_susan/7468678790_2f25a46960_c.jpg',\n",
              " '/content/flowers/magnolia/51890321183_e2190eac88_c.jpg',\n",
              " '/content/flowers/bellflower/3524578151_675ab7ed66_c.jpg',\n",
              " '/content/flowers/magnolia/40610514795_7a08917aa2_c.jpg',\n",
              " '/content/flowers/dandelion/4624736138_8a1bbc4865_c.jpg',\n",
              " '/content/flowers/bellflower/43595019572_c3724cc40d_c.jpg',\n",
              " '/content/flowers/sunflower/43579304771_171605a947_c.jpg',\n",
              " '/content/flowers/rose/504717952_76a8e7b101_c.jpg',\n",
              " '/content/flowers/california_poppy/3401256020_b39d7a2e4d_c.jpg',\n",
              " '/content/flowers/carnation/50570983466_97ed0a46e4_c.jpg',\n",
              " '/content/flowers/astilbe/28546323030_b4b17ae257_c.jpg',\n",
              " '/content/flowers/dandelion/3916616267_a78b4f1127_c.jpg',\n",
              " '/content/flowers/coreopsis/7460583626_1d236a6f4b_c.jpg',\n",
              " '/content/flowers/dandelion/8967773366_1a63d17b67_c.jpg',\n",
              " '/content/flowers/astilbe/51292780583_f6ec9ae77b_c.jpg',\n",
              " '/content/flowers/rose/8143794762_83606a103e_c.jpg',\n",
              " '/content/flowers/rose/7148255519_0411f8728e_c.jpg',\n",
              " '/content/flowers/bellflower/5750248199_93b553f468_c.jpg',\n",
              " '/content/flowers/black_eyed_susan/28498634406_9bd7b26071_c.jpg',\n",
              " '/content/flowers/rose/5864602630_84132bd7ff_c.jpg',\n",
              " '/content/flowers/coreopsis/14364751223_c9cc28646b_c.jpg',\n",
              " '/content/flowers/carnation/90191391_ac92241430_c.jpg',\n",
              " '/content/flowers/tulip/8620286401_f8ced1a9cf_c.jpg',\n",
              " '/content/flowers/common_daisy/26229689202_902a1a845a_c.jpg',\n",
              " '/content/flowers/california_poppy/50132444367_ddbd0811b9_c.jpg',\n",
              " '/content/flowers/rose/8198373888_9f104f3676_c.jpg',\n",
              " '/content/flowers/rose/18479023778_530a960af7_c.jpg',\n",
              " '/content/flowers/carnation/3944361411_9404a69db7_c.jpg',\n",
              " '/content/flowers/bellflower/7984916264_5dc5342407_c.jpg',\n",
              " '/content/flowers/coreopsis/3542430556_4ee2b77718_c.jpg',\n",
              " '/content/flowers/black_eyed_susan/30536084456_a67fa9c354_c.jpg',\n",
              " '/content/flowers/california_poppy/50035084051_9c6f896903_c.jpg',\n",
              " '/content/flowers/rose/153250507_e2daa13434_c.jpg',\n",
              " '/content/flowers/iris/17612867401_a310a3a347_c.jpg',\n",
              " '/content/flowers/magnolia/51124265195_2ba28aa223_c.jpg',\n",
              " '/content/flowers/california_poppy/6897920266_30154f9e00_c.jpg',\n",
              " '/content/flowers/magnolia/41649644171_fa0df44e82_c.jpg',\n",
              " '/content/flowers/iris/18607022104_4ae51cd825_c.jpg',\n",
              " '/content/flowers/rose/9712694465_58b70077d1_c.jpg',\n",
              " '/content/flowers/common_daisy/8739955303_374eec7729_c.jpg',\n",
              " '/content/flowers/bellflower/49719109077_3ea39b63bf_c.jpg',\n",
              " '/content/flowers/water_lily/49956941346_689568833f_c.jpg',\n",
              " '/content/flowers/magnolia/2421451765_70780d6326_c.jpg',\n",
              " '/content/flowers/calendula/20852692938_bf388a15ed_c.jpg',\n",
              " '/content/flowers/rose/18266970920_0b2784078d_c.jpg',\n",
              " '/content/flowers/dandelion/228845130_9813465a28_c.jpg',\n",
              " '/content/flowers/daffodil/3251051725_b5d5e9b864_c.jpg',\n",
              " '/content/flowers/coreopsis/5223542402_258dc27143_c.jpg',\n",
              " ...]"
            ]
          },
          "metadata": {},
          "execution_count": 5
        }
      ]
    },
    {
      "cell_type": "markdown",
      "source": [
        "## **To show the image at 0th position**"
      ],
      "metadata": {
        "id": "hfT--qxuDOMx"
      }
    },
    {
      "cell_type": "code",
      "source": [
        "from PIL import Image\n",
        "img=Image.open(image_net[0])\n",
        "plt.imshow(img)"
      ],
      "metadata": {
        "id": "v3myXpPsBCFO",
        "colab": {
          "base_uri": "https://localhost:8080/",
          "height": 287
        },
        "outputId": "86447e1b-28d0-43ab-87b5-fa945e1a8424"
      },
      "execution_count": 6,
      "outputs": [
        {
          "output_type": "execute_result",
          "data": {
            "text/plain": [
              "<matplotlib.image.AxesImage at 0x7f1e852d5b90>"
            ]
          },
          "metadata": {},
          "execution_count": 6
        },
        {
          "output_type": "display_data",
          "data": {
            "text/plain": [
              "<Figure size 432x288 with 1 Axes>"
            ],
            "image/png": "[encoded data removed]"
          },
          "metadata": {
            "needs_background": "light"
          }
        }
      ]
    },
    {
      "cell_type": "code",
      "source": [
        "np.array(img)"
      ],
      "metadata": {
        "id": "y7xBBKlPBPcN",
        "colab": {
          "base_uri": "https://localhost:8080/"
        },
        "outputId": "239b21c5-6727-40ed-c331-289c3c88aee2"
      },
      "execution_count": 7,
      "outputs": [
        {
          "output_type": "execute_result",
          "data": {
            "text/plain": [
              "array([[[ 84,  64,  53],\n",
              "        [ 82,  62,  51],\n",
              "        [ 78,  60,  48],\n",
              "        ...,\n",
              "        [119,  97,  73],\n",
              "        [116,  94,  70],\n",
              "        [114,  92,  68]],\n",
              "\n",
              "       [[ 85,  65,  54],\n",
              "        [ 83,  63,  52],\n",
              "        [ 80,  62,  50],\n",
              "        ...,\n",
              "        [120,  98,  74],\n",
              "        [117,  95,  71],\n",
              "        [115,  93,  69]],\n",
              "\n",
              "       [[ 87,  67,  56],\n",
              "        [ 85,  65,  54],\n",
              "        [ 82,  64,  52],\n",
              "        ...,\n",
              "        [120,  98,  74],\n",
              "        [117,  95,  71],\n",
              "        [116,  94,  70]],\n",
              "\n",
              "       ...,\n",
              "\n",
              "       [[ 94,  86,  49],\n",
              "        [ 93,  85,  48],\n",
              "        [ 92,  84,  47],\n",
              "        ...,\n",
              "        [ 73,  54,  39],\n",
              "        [ 72,  55,  39],\n",
              "        [ 72,  55,  39]],\n",
              "\n",
              "       [[ 96,  88,  52],\n",
              "        [ 95,  87,  51],\n",
              "        [ 93,  85,  49],\n",
              "        ...,\n",
              "        [ 71,  54,  38],\n",
              "        [ 70,  53,  37],\n",
              "        [ 70,  53,  37]],\n",
              "\n",
              "       [[ 96,  88,  52],\n",
              "        [ 96,  88,  52],\n",
              "        [ 94,  86,  50],\n",
              "        ...,\n",
              "        [ 69,  52,  36],\n",
              "        [ 69,  52,  36],\n",
              "        [ 69,  52,  36]]], dtype=uint8)"
            ]
          },
          "metadata": {},
          "execution_count": 7
        }
      ]
    },
    {
      "cell_type": "code",
      "source": [
        "np.array(img).shape"
      ],
      "metadata": {
        "colab": {
          "base_uri": "https://localhost:8080/"
        },
        "id": "5aeTOZ7l7jTI",
        "outputId": "bcf0c307-d010-48f7-d5f8-9e6944978d39"
      },
      "execution_count": 8,
      "outputs": [
        {
          "output_type": "execute_result",
          "data": {
            "text/plain": [
              "(256, 256, 3)"
            ]
          },
          "metadata": {},
          "execution_count": 8
        }
      ]
    },
    {
      "cell_type": "code",
      "source": [
        "image_net[0][-5]"
      ],
      "metadata": {
        "id": "LZv3kMQNBQR9",
        "colab": {
          "base_uri": "https://localhost:8080/",
          "height": 36
        },
        "outputId": "647d3e1f-8842-490c-c08d-396cbf5bc4cb"
      },
      "execution_count": 9,
      "outputs": [
        {
          "output_type": "execute_result",
          "data": {
            "text/plain": [
              "'c'"
            ],
            "application/vnd.google.colaboratory.intrinsic+json": {
              "type": "string"
            }
          },
          "metadata": {},
          "execution_count": 9
        }
      ]
    },
    {
      "cell_type": "code",
      "source": [
        "import cv2"
      ],
      "metadata": {
        "id": "OXyW72Vv8BFG"
      },
      "execution_count": 10,
      "outputs": []
    },
    {
      "cell_type": "code",
      "source": [
        "key1 = 's/'\n",
        "key2 = '/'"
      ],
      "metadata": {
        "id": "4nvn3bRDfY7t"
      },
      "execution_count": 11,
      "outputs": []
    },
    {
      "cell_type": "markdown",
      "source": [
        "## **For creating the X-train and Y_train**"
      ],
      "metadata": {
        "id": "0E0lna_aDeja"
      }
    },
    {
      "cell_type": "code",
      "source": [
        "X_train=np.zeros((len(image_net),256,256),dtype=np.int)\n",
        "Y_train = []"
      ],
      "metadata": {
        "id": "wehlL9lUEdpe",
        "colab": {
          "base_uri": "https://localhost:8080/"
        },
        "outputId": "0e7bac91-b413-48fb-af01-d8ace765a6d5"
      },
      "execution_count": 12,
      "outputs": [
        {
          "output_type": "stream",
          "name": "stderr",
          "text": [
            "/usr/local/lib/python3.7/dist-packages/ipykernel_launcher.py:1: DeprecationWarning: `np.int` is a deprecated alias for the builtin `int`. To silence this warning, use `int` by itself. Doing this will not modify any behavior and is safe. When replacing `np.int`, you may wish to use e.g. `np.int64` or `np.int32` to specify the precision. If you wish to review your current use, check the release note link for additional information.\n",
            "Deprecated in NumPy 1.20; for more details and guidance: https://numpy.org/devdocs/release/1.20.0-notes.html#deprecations\n",
            "  \"\"\"Entry point for launching an IPython kernel.\n"
          ]
        }
      ]
    },
    {
      "cell_type": "code",
      "source": [
        "i=0\n",
        "for fi in image_net:\n",
        "    im=cv2.imread(fi, cv2.IMREAD_GRAYSCALE)\n",
        "    new_array=cv2.resize(im,(256,256))\n",
        "    X_train[i,:,:]=new_array\n",
        "    label=image_net[i].partition(key1)[2].partition(key2)[0]\n",
        "    Y_train.append(label)\n",
        "    i=i+1"
      ],
      "metadata": {
        "id": "5mufnUUce2Cr"
      },
      "execution_count": 13,
      "outputs": []
    },
    {
      "cell_type": "code",
      "source": [
        "X_train[0,:,:]"
      ],
      "metadata": {
        "colab": {
          "base_uri": "https://localhost:8080/"
        },
        "id": "M9AJ0TSkh3c4",
        "outputId": "e56baaaf-b93e-4a32-e1e0-786e9139518f"
      },
      "execution_count": 14,
      "outputs": [
        {
          "output_type": "execute_result",
          "data": {
            "text/plain": [
              "array([[ 69,  67,  64, ..., 101,  98,  96],\n",
              "       [ 70,  68,  66, ..., 102,  99,  97],\n",
              "       [ 72,  70,  68, ..., 102,  99,  98],\n",
              "       ...,\n",
              "       [ 84,  83,  82, ...,  58,  58,  58],\n",
              "       [ 86,  85,  83, ...,  57,  56,  56],\n",
              "       [ 86,  86,  84, ...,  55,  55,  55]])"
            ]
          },
          "metadata": {},
          "execution_count": 14
        }
      ]
    },
    {
      "cell_type": "code",
      "source": [
        "Y_train[0]"
      ],
      "metadata": {
        "colab": {
          "base_uri": "https://localhost:8080/",
          "height": 36
        },
        "id": "KZ0udl9Sh3Vq",
        "outputId": "678d8416-2d59-4472-967e-6629944a7fb2"
      },
      "execution_count": 15,
      "outputs": [
        {
          "output_type": "execute_result",
          "data": {
            "text/plain": [
              "'magnolia'"
            ],
            "application/vnd.google.colaboratory.intrinsic+json": {
              "type": "string"
            }
          },
          "metadata": {},
          "execution_count": 15
        }
      ]
    },
    {
      "cell_type": "code",
      "source": [
        "from sklearn.preprocessing import LabelEncoder"
      ],
      "metadata": {
        "id": "K8glhFyUXh4h"
      },
      "execution_count": 16,
      "outputs": []
    },
    {
      "cell_type": "code",
      "source": [
        "Y_train = LabelEncoder().fit_transform(Y_train)"
      ],
      "metadata": {
        "id": "XyJjbFIGXh04"
      },
      "execution_count": 17,
      "outputs": []
    },
    {
      "cell_type": "code",
      "source": [
        "Y_train"
      ],
      "metadata": {
        "colab": {
          "base_uri": "https://localhost:8080/"
        },
        "id": "B9CxUoXHXhvB",
        "outputId": "cd255e40-4b61-4207-ec8f-e12fd397f59f"
      },
      "execution_count": 18,
      "outputs": [
        {
          "output_type": "execute_result",
          "data": {
            "text/plain": [
              "array([11,  0, 11, ..., 10,  2, 10])"
            ]
          },
          "metadata": {},
          "execution_count": 18
        }
      ]
    },
    {
      "cell_type": "code",
      "source": [
        "from tensorflow.keras.utils import to_categorical"
      ],
      "metadata": {
        "id": "6rAzJ2ryXxgK"
      },
      "execution_count": 19,
      "outputs": []
    },
    {
      "cell_type": "code",
      "source": [
        "Y_train_new = to_categorical(Y_train)"
      ],
      "metadata": {
        "id": "EwamDKSpX0ko"
      },
      "execution_count": 20,
      "outputs": []
    },
    {
      "cell_type": "code",
      "source": [
        "Y_train_new"
      ],
      "metadata": {
        "colab": {
          "base_uri": "https://localhost:8080/"
        },
        "id": "F7jiQjGlYIoz",
        "outputId": "223c5b5c-d217-4d44-e0a5-6f4216c33f81"
      },
      "execution_count": 21,
      "outputs": [
        {
          "output_type": "execute_result",
          "data": {
            "text/plain": [
              "array([[0., 0., 0., ..., 0., 0., 0.],\n",
              "       [1., 0., 0., ..., 0., 0., 0.],\n",
              "       [0., 0., 0., ..., 0., 0., 0.],\n",
              "       ...,\n",
              "       [0., 0., 0., ..., 0., 0., 0.],\n",
              "       [0., 0., 1., ..., 0., 0., 0.],\n",
              "       [0., 0., 0., ..., 0., 0., 0.]], dtype=float32)"
            ]
          },
          "metadata": {},
          "execution_count": 21
        }
      ]
    },
    {
      "cell_type": "code",
      "source": [
        "Y_train_new[0]"
      ],
      "metadata": {
        "colab": {
          "base_uri": "https://localhost:8080/"
        },
        "id": "EHQzUwtKYL0_",
        "outputId": "bc6e5619-1a2a-4bd7-b980-b6efabb7b6a6"
      },
      "execution_count": 22,
      "outputs": [
        {
          "output_type": "execute_result",
          "data": {
            "text/plain": [
              "array([0., 0., 0., 0., 0., 0., 0., 0., 0., 0., 0., 1., 0., 0., 0., 0.],\n",
              "      dtype=float32)"
            ]
          },
          "metadata": {},
          "execution_count": 22
        }
      ]
    },
    {
      "cell_type": "code",
      "source": [
        "#two types selectors functions: 1. INT  2. Choice\n",
        "def build_model(hp):  \n",
        "  model = keras.Sequential([\n",
        "    keras.layers.Conv2D(\n",
        "        filters=hp.Int('conv_1_filter', min_value=32, max_value=512, step=16),#min value of filter you want\n",
        "        kernel_size=hp.Choice('conv_1_kernel', values = [3,5]),#picks like mcq\n",
        "        activation='relu',\n",
        "        input_shape=(256,256,1)\n",
        "    ),\n",
        "      #for i in range(0,hp.Int(....)) this will also work\n",
        "    keras.layers.Conv2D(\n",
        "        filters=hp.Int('conv_2_filter', min_value=32, max_value=256, step=16),# ihave added this line extra in comparison to the old model\n",
        "        kernel_size=hp.Choice('conv_2_kernel', values = [3,5]),\n",
        "        activation='relu'\n",
        "    ),\n",
        "    keras.layers.Flatten(),\n",
        "    keras.layers.Dense(\n",
        "        units=hp.Int('dense_1_units', min_value=32, max_value=128, step=16),\n",
        "        activation='relu'\n",
        "    ),\n",
        "    keras.layers.Dense(16, activation='softmax')\n",
        "  ])\n",
        "  \n",
        "  model.compile(optimizer=tf.keras.optimizers.Adam(hp.Choice('learning_rate', values=[1e-2, 1e-3])),\n",
        "              loss='sparse_categorical_crossentropy',\n",
        "              metrics=['accuracy'])\n",
        "  \n",
        "  return model"
      ],
      "metadata": {
        "id": "T1BYQn5MYkK5"
      },
      "execution_count": 23,
      "outputs": []
    },
    {
      "cell_type": "code",
      "source": [
        "!pip install keras_tuner"
      ],
      "metadata": {
        "colab": {
          "base_uri": "https://localhost:8080/"
        },
        "id": "XbVxnZ1ekv0Z",
        "outputId": "57cc35c3-948c-4902-a8cb-1c2ad84b66af"
      },
      "execution_count": 24,
      "outputs": [
        {
          "output_type": "stream",
          "name": "stdout",
          "text": [
            "Looking in indexes: https://pypi.org/simple, https://us-python.pkg.dev/colab-wheels/public/simple/\n",
            "Requirement already satisfied: keras_tuner in /usr/local/lib/python3.7/dist-packages (1.1.3)\n",
            "Requirement already satisfied: numpy in /usr/local/lib/python3.7/dist-packages (from keras_tuner) (1.21.6)\n",
            "Requirement already satisfied: kt-legacy in /usr/local/lib/python3.7/dist-packages (from keras_tuner) (1.0.4)\n",
            "Requirement already satisfied: tensorboard in /usr/local/lib/python3.7/dist-packages (from keras_tuner) (2.8.0)\n",
            "Requirement already satisfied: requests in /usr/local/lib/python3.7/dist-packages (from keras_tuner) (2.23.0)\n",
            "Requirement already satisfied: ipython in /usr/local/lib/python3.7/dist-packages (from keras_tuner) (5.5.0)\n",
            "Requirement already satisfied: packaging in /usr/local/lib/python3.7/dist-packages (from keras_tuner) (21.3)\n",
            "Requirement already satisfied: setuptools>=18.5 in /usr/local/lib/python3.7/dist-packages (from ipython->keras_tuner) (57.4.0)\n",
            "Requirement already satisfied: traitlets>=4.2 in /usr/local/lib/python3.7/dist-packages (from ipython->keras_tuner) (5.1.1)\n",
            "Requirement already satisfied: prompt-toolkit<2.0.0,>=1.0.4 in /usr/local/lib/python3.7/dist-packages (from ipython->keras_tuner) (1.0.18)\n",
            "Requirement already satisfied: pickleshare in /usr/local/lib/python3.7/dist-packages (from ipython->keras_tuner) (0.7.5)\n",
            "Requirement already satisfied: simplegeneric>0.8 in /usr/local/lib/python3.7/dist-packages (from ipython->keras_tuner) (0.8.1)\n",
            "Requirement already satisfied: pygments in /usr/local/lib/python3.7/dist-packages (from ipython->keras_tuner) (2.6.1)\n",
            "Requirement already satisfied: decorator in /usr/local/lib/python3.7/dist-packages (from ipython->keras_tuner) (4.4.2)\n",
            "Requirement already satisfied: pexpect in /usr/local/lib/python3.7/dist-packages (from ipython->keras_tuner) (4.8.0)\n",
            "Requirement already satisfied: six>=1.9.0 in /usr/local/lib/python3.7/dist-packages (from prompt-toolkit<2.0.0,>=1.0.4->ipython->keras_tuner) (1.15.0)\n",
            "Requirement already satisfied: wcwidth in /usr/local/lib/python3.7/dist-packages (from prompt-toolkit<2.0.0,>=1.0.4->ipython->keras_tuner) (0.2.5)\n",
            "Requirement already satisfied: pyparsing!=3.0.5,>=2.0.2 in /usr/local/lib/python3.7/dist-packages (from packaging->keras_tuner) (3.0.9)\n",
            "Requirement already satisfied: ptyprocess>=0.5 in /usr/local/lib/python3.7/dist-packages (from pexpect->ipython->keras_tuner) (0.7.0)\n",
            "Requirement already satisfied: chardet<4,>=3.0.2 in /usr/local/lib/python3.7/dist-packages (from requests->keras_tuner) (3.0.4)\n",
            "Requirement already satisfied: idna<3,>=2.5 in /usr/local/lib/python3.7/dist-packages (from requests->keras_tuner) (2.10)\n",
            "Requirement already satisfied: certifi>=2017.4.17 in /usr/local/lib/python3.7/dist-packages (from requests->keras_tuner) (2022.6.15)\n",
            "Requirement already satisfied: urllib3!=1.25.0,!=1.25.1,<1.26,>=1.21.1 in /usr/local/lib/python3.7/dist-packages (from requests->keras_tuner) (1.24.3)\n",
            "Requirement already satisfied: markdown>=2.6.8 in /usr/local/lib/python3.7/dist-packages (from tensorboard->keras_tuner) (3.3.7)\n",
            "Requirement already satisfied: google-auth<3,>=1.6.3 in /usr/local/lib/python3.7/dist-packages (from tensorboard->keras_tuner) (1.35.0)\n",
            "Requirement already satisfied: tensorboard-plugin-wit>=1.6.0 in /usr/local/lib/python3.7/dist-packages (from tensorboard->keras_tuner) (1.8.1)\n",
            "Requirement already satisfied: tensorboard-data-server<0.7.0,>=0.6.0 in /usr/local/lib/python3.7/dist-packages (from tensorboard->keras_tuner) (0.6.1)\n",
            "Requirement already satisfied: wheel>=0.26 in /usr/local/lib/python3.7/dist-packages (from tensorboard->keras_tuner) (0.37.1)\n",
            "Requirement already satisfied: protobuf>=3.6.0 in /usr/local/lib/python3.7/dist-packages (from tensorboard->keras_tuner) (3.17.3)\n",
            "Requirement already satisfied: absl-py>=0.4 in /usr/local/lib/python3.7/dist-packages (from tensorboard->keras_tuner) (1.1.0)\n",
            "Requirement already satisfied: werkzeug>=0.11.15 in /usr/local/lib/python3.7/dist-packages (from tensorboard->keras_tuner) (1.0.1)\n",
            "Requirement already satisfied: google-auth-oauthlib<0.5,>=0.4.1 in /usr/local/lib/python3.7/dist-packages (from tensorboard->keras_tuner) (0.4.6)\n",
            "Requirement already satisfied: grpcio>=1.24.3 in /usr/local/lib/python3.7/dist-packages (from tensorboard->keras_tuner) (1.47.0)\n",
            "Requirement already satisfied: rsa<5,>=3.1.4 in /usr/local/lib/python3.7/dist-packages (from google-auth<3,>=1.6.3->tensorboard->keras_tuner) (4.8)\n",
            "Requirement already satisfied: cachetools<5.0,>=2.0.0 in /usr/local/lib/python3.7/dist-packages (from google-auth<3,>=1.6.3->tensorboard->keras_tuner) (4.2.4)\n",
            "Requirement already satisfied: pyasn1-modules>=0.2.1 in /usr/local/lib/python3.7/dist-packages (from google-auth<3,>=1.6.3->tensorboard->keras_tuner) (0.2.8)\n",
            "Requirement already satisfied: requests-oauthlib>=0.7.0 in /usr/local/lib/python3.7/dist-packages (from google-auth-oauthlib<0.5,>=0.4.1->tensorboard->keras_tuner) (1.3.1)\n",
            "Requirement already satisfied: importlib-metadata>=4.4 in /usr/local/lib/python3.7/dist-packages (from markdown>=2.6.8->tensorboard->keras_tuner) (4.12.0)\n",
            "Requirement already satisfied: typing-extensions>=3.6.4 in /usr/local/lib/python3.7/dist-packages (from importlib-metadata>=4.4->markdown>=2.6.8->tensorboard->keras_tuner) (4.1.1)\n",
            "Requirement already satisfied: zipp>=0.5 in /usr/local/lib/python3.7/dist-packages (from importlib-metadata>=4.4->markdown>=2.6.8->tensorboard->keras_tuner) (3.8.0)\n",
            "Requirement already satisfied: pyasn1<0.5.0,>=0.4.6 in /usr/local/lib/python3.7/dist-packages (from pyasn1-modules>=0.2.1->google-auth<3,>=1.6.3->tensorboard->keras_tuner) (0.4.8)\n",
            "Requirement already satisfied: oauthlib>=3.0.0 in /usr/local/lib/python3.7/dist-packages (from requests-oauthlib>=0.7.0->google-auth-oauthlib<0.5,>=0.4.1->tensorboard->keras_tuner) (3.2.0)\n"
          ]
        }
      ]
    },
    {
      "cell_type": "code",
      "source": [
        "from keras_tuner import RandomSearch\n",
        "from keras_tuner.engine.hyperparameters import HyperParameters\n",
        "#hyprer/paramter tuning"
      ],
      "metadata": {
        "id": "_jbwT-sYkqxo"
      },
      "execution_count": 25,
      "outputs": []
    },
    {
      "cell_type": "code",
      "source": [
        "tuner_search=RandomSearch(build_model,\n",
        "                          objective='val_accuracy',\n",
        "                          max_trials=5,directory='output',project_name=\"allflowers\")"
      ],
      "metadata": {
        "id": "WBdtDUBskqpW"
      },
      "execution_count": 26,
      "outputs": []
    },
    {
      "cell_type": "code",
      "source": [
        "tuner_search.search(X_train,Y_train_new,epochs=3,validation_split=0.1)"
      ],
      "metadata": {
        "colab": {
          "base_uri": "https://localhost:8080/"
        },
        "id": "7hj6lK46kqc2",
        "outputId": "55257cb7-bce6-4130-f819-795a213a6e11"
      },
      "execution_count": null,
      "outputs": [
        {
          "output_type": "stream",
          "name": "stdout",
          "text": [
            "\n",
            "Search: Running Trial #1\n",
            "\n",
            "Value             |Best Value So Far |Hyperparameter\n",
            "432               |?                 |conv_1_filter\n",
            "3                 |?                 |conv_1_kernel\n",
            "64                |?                 |conv_2_filter\n",
            "3                 |?                 |conv_2_kernel\n",
            "112               |?                 |dense_1_units\n",
            "0.001             |?                 |learning_rate\n",
            "\n"
          ]
        }
      ]
    },
    {
      "cell_type": "code",
      "source": [
        "model=tuner_search.get_best_models(num_models=1)[0]"
      ],
      "metadata": {
        "id": "hzzxYi6xlNr3"
      },
      "execution_count": null,
      "outputs": []
    },
    {
      "cell_type": "code",
      "source": [
        "model.summary()"
      ],
      "metadata": {
        "id": "v13u230bvwtQ"
      },
      "execution_count": null,
      "outputs": []
    },
    {
      "cell_type": "code",
      "source": [
        "model.fit(train_images, train_labels, epochs=10, validation_split=0.1, initial_epoch=3)"
      ],
      "metadata": {
        "id": "U2hMp-8gvwhw"
      },
      "execution_count": null,
      "outputs": []
    },
    {
      "cell_type": "code",
      "source": [
        ""
      ],
      "metadata": {
        "id": "n0m4yvivyWoy"
      },
      "execution_count": null,
      "outputs": []
    }
  ]
}